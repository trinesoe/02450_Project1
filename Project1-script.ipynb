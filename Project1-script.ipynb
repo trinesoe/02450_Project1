{
 "cells": [
  {
   "cell_type": "markdown",
   "metadata": {},
   "source": [
    "Link:\n",
    "https://hastie.su.domains/ElemStatLearn/datasets/SAheart.data"
   ]
  },
  {
   "cell_type": "markdown",
   "metadata": {},
   "source": [
    "Information about data\n",
    "\n",
    "A retrospective sample of males in a heart-disease high-risk region\n",
    "of the Western Cape, South Africa. There are roughly two controls per\n",
    "case of CHD. Many of the CHD positive men have undergone blood\n",
    "pressure reduction treatment and other programs to reduce their risk\n",
    "factors after their CHD event. In some cases the measurements were\n",
    "made after these treatments. These data are taken from a larger\n",
    "dataset, described in  Rousseauw et al, 1983, South African Medical\n",
    "Journal. \n",
    "\n",
    "sbp\t\tsystolic blood pressure\n",
    "tobacco\t\tcumulative tobacco (kg)\n",
    "ldl\t\tlow densiity lipoprotein cholesterol\n",
    "adiposity\n",
    "famhist\t\tfamily history of heart disease (Present, Absent)\n",
    "typea\t\ttype-A behavior\n",
    "obesity\n",
    "alcohol\t\tcurrent alcohol consumption\n",
    "age\t\tage at onset\n",
    "chd\t\tresponse, coronary heart disease"
   ]
  },
  {
   "cell_type": "code",
   "execution_count": null,
   "metadata": {},
   "outputs": [],
   "source": [
    "# Hej "
   ]
  }
 ],
 "metadata": {
  "language_info": {
   "name": "python"
  }
 },
 "nbformat": 4,
 "nbformat_minor": 2
}
