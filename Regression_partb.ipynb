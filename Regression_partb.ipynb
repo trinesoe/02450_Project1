{
 "cells": [
  {
   "cell_type": "markdown",
   "metadata": {},
   "source": [
    "## Regression part b"
   ]
  },
  {
   "cell_type": "markdown",
   "metadata": {},
   "source": [
    "Implement two-level cross-validation (see algorithm 6 of the lecture notes). We will use\n",
    "2-level cross-validation to compare the models with K1 = K2 = 10 folds\n",
    ". As a baseline\n",
    "model, we will apply a linear regression model with no features, i.e. it computes the mean\n",
    "of y on the training data, and use this value to predict y on the test data.\n"
   ]
  },
  {
   "cell_type": "code",
   "execution_count": 2,
   "metadata": {},
   "outputs": [],
   "source": [
    "import numpy as np\n",
    "import matplotlib.pyplot as plt\n",
    "from sklearn.linear_model import LinearRegression\n",
    "import sklearn.model_selection \n",
    "from sklearn.linear_model import Ridge\n",
    "#from toolbox_02450 import train_neural_net, draw_neural_net, visualize_decision_boundary,correlated_ttest\n",
    "import torch\n",
    "from scipy import stats\n",
    "from Data_preprocessing import *\n"
   ]
  },
  {
   "cell_type": "code",
   "execution_count": 4,
   "metadata": {},
   "outputs": [
    {
     "data": {
      "text/html": [
       "<div>\n",
       "<style scoped>\n",
       "    .dataframe tbody tr th:only-of-type {\n",
       "        vertical-align: middle;\n",
       "    }\n",
       "\n",
       "    .dataframe tbody tr th {\n",
       "        vertical-align: top;\n",
       "    }\n",
       "\n",
       "    .dataframe thead th {\n",
       "        text-align: right;\n",
       "    }\n",
       "</style>\n",
       "<table border=\"1\" class=\"dataframe\">\n",
       "  <thead>\n",
       "    <tr style=\"text-align: right;\">\n",
       "      <th></th>\n",
       "      <th>sbp</th>\n",
       "      <th>tobacco</th>\n",
       "      <th>ldl</th>\n",
       "      <th>adiposity</th>\n",
       "      <th>famhist</th>\n",
       "      <th>typea</th>\n",
       "      <th>obesity</th>\n",
       "      <th>alcohol</th>\n",
       "      <th>age</th>\n",
       "      <th>chd</th>\n",
       "    </tr>\n",
       "  </thead>\n",
       "  <tbody>\n",
       "    <tr>\n",
       "      <th>0</th>\n",
       "      <td>160</td>\n",
       "      <td>12.00</td>\n",
       "      <td>5.73</td>\n",
       "      <td>23.11</td>\n",
       "      <td>1</td>\n",
       "      <td>49</td>\n",
       "      <td>25.30</td>\n",
       "      <td>97.20</td>\n",
       "      <td>52</td>\n",
       "      <td>1</td>\n",
       "    </tr>\n",
       "    <tr>\n",
       "      <th>1</th>\n",
       "      <td>144</td>\n",
       "      <td>0.01</td>\n",
       "      <td>4.41</td>\n",
       "      <td>28.61</td>\n",
       "      <td>0</td>\n",
       "      <td>55</td>\n",
       "      <td>28.87</td>\n",
       "      <td>2.06</td>\n",
       "      <td>63</td>\n",
       "      <td>1</td>\n",
       "    </tr>\n",
       "    <tr>\n",
       "      <th>2</th>\n",
       "      <td>118</td>\n",
       "      <td>0.08</td>\n",
       "      <td>3.48</td>\n",
       "      <td>32.28</td>\n",
       "      <td>1</td>\n",
       "      <td>52</td>\n",
       "      <td>29.14</td>\n",
       "      <td>3.81</td>\n",
       "      <td>46</td>\n",
       "      <td>0</td>\n",
       "    </tr>\n",
       "    <tr>\n",
       "      <th>3</th>\n",
       "      <td>170</td>\n",
       "      <td>7.50</td>\n",
       "      <td>6.41</td>\n",
       "      <td>38.03</td>\n",
       "      <td>1</td>\n",
       "      <td>51</td>\n",
       "      <td>31.99</td>\n",
       "      <td>24.26</td>\n",
       "      <td>58</td>\n",
       "      <td>1</td>\n",
       "    </tr>\n",
       "    <tr>\n",
       "      <th>4</th>\n",
       "      <td>134</td>\n",
       "      <td>13.60</td>\n",
       "      <td>3.50</td>\n",
       "      <td>27.78</td>\n",
       "      <td>1</td>\n",
       "      <td>60</td>\n",
       "      <td>25.99</td>\n",
       "      <td>57.34</td>\n",
       "      <td>49</td>\n",
       "      <td>1</td>\n",
       "    </tr>\n",
       "    <tr>\n",
       "      <th>...</th>\n",
       "      <td>...</td>\n",
       "      <td>...</td>\n",
       "      <td>...</td>\n",
       "      <td>...</td>\n",
       "      <td>...</td>\n",
       "      <td>...</td>\n",
       "      <td>...</td>\n",
       "      <td>...</td>\n",
       "      <td>...</td>\n",
       "      <td>...</td>\n",
       "    </tr>\n",
       "    <tr>\n",
       "      <th>457</th>\n",
       "      <td>214</td>\n",
       "      <td>0.40</td>\n",
       "      <td>5.98</td>\n",
       "      <td>31.72</td>\n",
       "      <td>0</td>\n",
       "      <td>64</td>\n",
       "      <td>28.45</td>\n",
       "      <td>0.00</td>\n",
       "      <td>58</td>\n",
       "      <td>0</td>\n",
       "    </tr>\n",
       "    <tr>\n",
       "      <th>458</th>\n",
       "      <td>182</td>\n",
       "      <td>4.20</td>\n",
       "      <td>4.41</td>\n",
       "      <td>32.10</td>\n",
       "      <td>0</td>\n",
       "      <td>52</td>\n",
       "      <td>28.61</td>\n",
       "      <td>18.72</td>\n",
       "      <td>52</td>\n",
       "      <td>1</td>\n",
       "    </tr>\n",
       "    <tr>\n",
       "      <th>459</th>\n",
       "      <td>108</td>\n",
       "      <td>3.00</td>\n",
       "      <td>1.59</td>\n",
       "      <td>15.23</td>\n",
       "      <td>0</td>\n",
       "      <td>40</td>\n",
       "      <td>20.09</td>\n",
       "      <td>26.64</td>\n",
       "      <td>55</td>\n",
       "      <td>0</td>\n",
       "    </tr>\n",
       "    <tr>\n",
       "      <th>460</th>\n",
       "      <td>118</td>\n",
       "      <td>5.40</td>\n",
       "      <td>11.61</td>\n",
       "      <td>30.79</td>\n",
       "      <td>0</td>\n",
       "      <td>64</td>\n",
       "      <td>27.35</td>\n",
       "      <td>23.97</td>\n",
       "      <td>40</td>\n",
       "      <td>0</td>\n",
       "    </tr>\n",
       "    <tr>\n",
       "      <th>461</th>\n",
       "      <td>132</td>\n",
       "      <td>0.00</td>\n",
       "      <td>4.82</td>\n",
       "      <td>33.41</td>\n",
       "      <td>1</td>\n",
       "      <td>62</td>\n",
       "      <td>14.70</td>\n",
       "      <td>0.00</td>\n",
       "      <td>46</td>\n",
       "      <td>1</td>\n",
       "    </tr>\n",
       "  </tbody>\n",
       "</table>\n",
       "<p>462 rows × 10 columns</p>\n",
       "</div>"
      ],
      "text/plain": [
       "     sbp  tobacco    ldl  adiposity  famhist  typea  obesity  alcohol  age  \\\n",
       "0    160    12.00   5.73      23.11        1     49    25.30    97.20   52   \n",
       "1    144     0.01   4.41      28.61        0     55    28.87     2.06   63   \n",
       "2    118     0.08   3.48      32.28        1     52    29.14     3.81   46   \n",
       "3    170     7.50   6.41      38.03        1     51    31.99    24.26   58   \n",
       "4    134    13.60   3.50      27.78        1     60    25.99    57.34   49   \n",
       "..   ...      ...    ...        ...      ...    ...      ...      ...  ...   \n",
       "457  214     0.40   5.98      31.72        0     64    28.45     0.00   58   \n",
       "458  182     4.20   4.41      32.10        0     52    28.61    18.72   52   \n",
       "459  108     3.00   1.59      15.23        0     40    20.09    26.64   55   \n",
       "460  118     5.40  11.61      30.79        0     64    27.35    23.97   40   \n",
       "461  132     0.00   4.82      33.41        1     62    14.70     0.00   46   \n",
       "\n",
       "     chd  \n",
       "0      1  \n",
       "1      1  \n",
       "2      0  \n",
       "3      1  \n",
       "4      1  \n",
       "..   ...  \n",
       "457    0  \n",
       "458    1  \n",
       "459    0  \n",
       "460    0  \n",
       "461    1  \n",
       "\n",
       "[462 rows x 10 columns]"
      ]
     },
     "execution_count": 4,
     "metadata": {},
     "output_type": "execute_result"
    }
   ],
   "source": [
    "df"
   ]
  },
  {
   "cell_type": "code",
   "execution_count": 19,
   "metadata": {},
   "outputs": [
    {
     "name": "stdout",
     "output_type": "stream",
     "text": [
      "Outer fold 1/10 completed.\n",
      "Outer fold 2/10 completed.\n",
      "Outer fold 3/10 completed.\n",
      "Outer fold 4/10 completed.\n",
      "Outer fold 5/10 completed.\n",
      "Outer fold 6/10 completed.\n",
      "Outer fold 7/10 completed.\n",
      "Outer fold 8/10 completed.\n",
      "Outer fold 9/10 completed.\n",
      "Outer fold 10/10 completed.\n",
      "\n",
      "Final Results:\n",
      "Baseline Model: Train Error = 4.2790, Test Error = 4.2914\n",
      "Ridge Regression: Train Error = 3.2964, Test Error = 3.4238\n",
      "ANN Model: Train Error = 3.3073, Test Error = 3.9032\n"
     ]
    }
   ],
   "source": [
    "import numpy as np\n",
    "import torch\n",
    "import torch.nn as nn\n",
    "import torch.optim as optim\n",
    "import sklearn.linear_model as lm\n",
    "from sklearn.model_selection import KFold\n",
    "from sklearn.preprocessing import StandardScaler\n",
    "from scipy.io import loadmat\n",
    "\n",
    "# Load dataset\n",
    "attribute_names = ['sbp','tobacco','chd','adiposity','typea','obesity','alcohol','age','famhist']\n",
    "class_name      = ['ldl']\n",
    "\n",
    "# Adjust X and y to keep selected attributes\n",
    "X = df[attribute_names].values.astype(np.float32)\n",
    "y = df[class_name].values.astype(np.float32).ravel()\n",
    "\n",
    "# Compute dataset properties\n",
    "N, M = X.shape  # Number of observations and attributes\n",
    "\n",
    "# Standardize data\n",
    "X_standardized = zscore(X, ddof=1)\n",
    "\n",
    "# Overwrite X with standardized data as we will only use standardized data in the following\n",
    "X = X_standardized\n",
    "\n",
    "# Define K1 (outer CV) and K2 (inner CV)\n",
    "K1, K2 = 10, 10\n",
    "outer_cv = KFold(n_splits=K1, shuffle=True, random_state=42)\n",
    "\n",
    "# Hyperparameter search space\n",
    "lambda_values = [0.01, 0.1, 1, 10, 100]\n",
    "h_values = [1, 5, 10, 20]\n",
    "\n",
    "# Neural Network Model\n",
    "def create_ann(input_size, hidden_units):\n",
    "    model = nn.Sequential(\n",
    "        nn.Linear(input_size, hidden_units),\n",
    "        nn.ReLU(),\n",
    "        nn.Linear(hidden_units, 1)\n",
    "    )\n",
    "    return model\n",
    "\n",
    "# Initialize performance tracking\n",
    "Error_train_baseline = np.empty(K1)\n",
    "Error_test_baseline = np.empty(K1)\n",
    "Error_train_lr = np.empty(K1)\n",
    "Error_test_lr = np.empty(K1)\n",
    "Error_train_ann = np.empty(K1)\n",
    "Error_test_ann = np.empty(K1)\n",
    "\n",
    "for k, (train_index, test_index) in enumerate(outer_cv.split(X)):\n",
    "    X_train, y_train = X[train_index, :], y[train_index]\n",
    "    X_test, y_test = X[test_index, :], y[test_index]\n",
    "    \n",
    "    # Baseline Model (No Features)\n",
    "    y_pred_baseline = np.full_like(y_test, y_train.mean())\n",
    "    Error_train_baseline[k] = np.mean((y_train - y_train.mean()) ** 2)\n",
    "    Error_test_baseline[k] = np.mean((y_test - y_pred_baseline) ** 2)\n",
    "    \n",
    "    # Inner cross-validation for hyperparameter tuning\n",
    "    inner_cv = KFold(n_splits=K2, shuffle=True, random_state=42)\n",
    "    best_lambda, best_h = None, None\n",
    "    min_error_lr, min_error_ann = float(\"inf\"), float(\"inf\")\n",
    "    \n",
    "    for train_inner_idx, val_inner_idx in inner_cv.split(X_train):\n",
    "        X_train_inner, X_val_inner = X_train[train_inner_idx], X_train[val_inner_idx]\n",
    "        y_train_inner, y_val_inner = y_train[train_inner_idx], y_train[val_inner_idx]\n",
    "        \n",
    "        # Standardize data\n",
    "        scaler = StandardScaler().fit(X_train_inner)\n",
    "        X_train_inner_scaled = scaler.transform(X_train_inner)\n",
    "        X_val_inner_scaled = scaler.transform(X_val_inner)\n",
    "        \n",
    "        # Ridge Regression Hyperparameter Tuning\n",
    "        for lambda_ in lambda_values:\n",
    "            model_lr = lm.Ridge(alpha=lambda_).fit(X_train_inner_scaled, y_train_inner)\n",
    "            val_error = np.mean((y_val_inner - model_lr.predict(X_val_inner_scaled)) ** 2)\n",
    "            if val_error < min_error_lr:\n",
    "                min_error_lr = val_error\n",
    "                best_lambda = lambda_\n",
    "        \n",
    "        # ANN Hyperparameter Tuning\n",
    "        for h in h_values:\n",
    "            model_ann = create_ann(M, h)\n",
    "            criterion = nn.MSELoss()\n",
    "            optimizer = optim.Adam(model_ann.parameters(), lr=0.01)\n",
    "            \n",
    "            X_train_tensor = torch.tensor(X_train_inner_scaled, dtype=torch.float32)\n",
    "            y_train_tensor = torch.tensor(y_train_inner.reshape(-1, 1), dtype=torch.float32)\n",
    "            X_val_tensor = torch.tensor(X_val_inner_scaled, dtype=torch.float32)\n",
    "            y_val_tensor = torch.tensor(y_val_inner.reshape(-1, 1), dtype=torch.float32)\n",
    "            \n",
    "            for epoch in range(100):\n",
    "                optimizer.zero_grad()\n",
    "                y_pred = model_ann(X_train_tensor)\n",
    "                loss = criterion(y_pred, y_train_tensor)\n",
    "                loss.backward()\n",
    "                optimizer.step()\n",
    "            \n",
    "            with torch.no_grad():\n",
    "                val_pred = model_ann(X_val_tensor)\n",
    "                val_error = criterion(val_pred, y_val_tensor).item()\n",
    "            \n",
    "            if val_error < min_error_ann:\n",
    "                min_error_ann = val_error\n",
    "                best_h = h\n",
    "    \n",
    "    # Train final models using the best hyperparameters\n",
    "    scaler = StandardScaler().fit(X_train)\n",
    "    X_train_scaled = scaler.transform(X_train)\n",
    "    X_test_scaled = scaler.transform(X_test)\n",
    "    \n",
    "    model_lr = lm.Ridge(alpha=best_lambda).fit(X_train_scaled, y_train)\n",
    "    Error_train_lr[k] = np.mean((y_train - model_lr.predict(X_train_scaled)) ** 2)\n",
    "    Error_test_lr[k] = np.mean((y_test - model_lr.predict(X_test_scaled)) ** 2)\n",
    "    \n",
    "    model_ann = create_ann(M, best_h)\n",
    "    optimizer = optim.Adam(model_ann.parameters(), lr=0.01)\n",
    "    X_train_tensor = torch.tensor(X_train_scaled, dtype=torch.float32)\n",
    "    y_train_tensor = torch.tensor(y_train.reshape(-1, 1), dtype=torch.float32)\n",
    "    X_test_tensor = torch.tensor(X_test_scaled, dtype=torch.float32)\n",
    "    y_test_tensor = torch.tensor(y_test.reshape(-1, 1), dtype=torch.float32)\n",
    "    \n",
    "    for epoch in range(100):\n",
    "        optimizer.zero_grad()\n",
    "        y_pred = model_ann(X_train_tensor)\n",
    "        loss = criterion(y_pred, y_train_tensor)\n",
    "        loss.backward()\n",
    "        optimizer.step()\n",
    "    \n",
    "    with torch.no_grad():\n",
    "        test_pred = model_ann(X_test_tensor)\n",
    "        Error_train_ann[k] = criterion(model_ann(X_train_tensor), y_train_tensor).item()\n",
    "        Error_test_ann[k] = criterion(test_pred, y_test_tensor).item()\n",
    "    \n",
    "    print(f\"Outer fold {k+1}/{K1} completed.\")\n",
    "\n",
    "# Print results\n",
    "print(\"\\nFinal Results:\")\n",
    "print(f\"Baseline Model: Train Error = {Error_train_baseline.mean():.4f}, Test Error = {Error_test_baseline.mean():.4f}\")\n",
    "print(f\"Ridge Regression: Train Error = {Error_train_lr.mean():.4f}, Test Error = {Error_test_lr.mean():.4f}\")\n",
    "print(f\"ANN Model: Train Error = {Error_train_ann.mean():.4f}, Test Error = {Error_test_ann.mean():.4f}\")\n"
   ]
  },
  {
   "cell_type": "code",
   "execution_count": null,
   "metadata": {},
   "outputs": [
    {
     "name": "stdout",
     "output_type": "stream",
     "text": [
      "Fold 1: Best Lambda for RLR: 100\n",
      "Fold 2: Best Lambda for RLR: 100\n",
      "Fold 3: Best Lambda for RLR: 0.01\n",
      "Fold 4: Best Lambda for RLR: 100\n",
      "Fold 5: Best Lambda for RLR: 1\n",
      "Fold 6: Best Lambda for RLR: 0.01\n",
      "Fold 7: Best Lambda for RLR: 100\n",
      "Fold 8: Best Lambda for RLR: 0.01\n",
      "Fold 9: Best Lambda for RLR: 100\n",
      "Fold 10: Best Lambda for RLR: 100\n"
     ]
    }
   ],
   "source": [
    "\"\"\" \n",
    "In this section, we will compare three models: the regularized linear regression model from the previous section, \n",
    "an artificial neural network (ANN) and a baseline. \n",
    "We are interested in two questions: Is one model better than the other? Is either model better than\n",
    " a trivial baseline?. We will attempt to answer these questions with two-level cross-validation.\n",
    "\n",
    " 1. Implement two-level cross-validation (see algorithm 6 of the lecture notes). We will use\n",
    " 2-level cross-validation to compare the models with K1 = K2 = 10 folds. As a baseline model, we will apply a linear regression model with no features, i.e. it computes the mean\n",
    " of y on the training data, and use this value to predict y on the test data.\n",
    "\n",
    " Make sure you can fit an ANN model to the data. As complexity-controlling parameter\n",
    " for the ANN, we will use the number of hidden units h. Based on a few test-runs, select\n",
    " a reasonable range of values for h (which should include h = 1), and describe the range of\n",
    " values you will use for h and lambda.\n",
    " \"\"\"\n",
    "\n",
    "\n",
    "from dtuimldmtools import (\n",
    "    draw_neural_net,\n",
    "    train_neural_net,\n",
    "    visualize_decision_boundary,\n",
    ")\n",
    "\n",
    "attribute_names = ['sbp','tobacco','chd','adiposity','typea','obesity','alcohol','age','famhist']\n",
    "class_name      = ['ldl']\n",
    "\n",
    "# Adjust X and y to keep selected attributes\n",
    "X = df[attribute_names].values.astype(np.float32)\n",
    "y = df[class_name].values.astype(np.float32).ravel()\n",
    "\n",
    "# Compute dataset properties\n",
    "N, M = X.shape  # Number of observations and attributes\n",
    "\n",
    "# Standardize data\n",
    "X_standardized = zscore(X, ddof=1)\n",
    "\n",
    "# Overwrite X with standardized data as we will only use standardized data in the following\n",
    "X = X_standardized\n",
    "\n",
    "\n",
    "# Define K1 (outer CV) and K2 (inner CV) folds\n",
    "K1 = 10 # Number of outer loops\n",
    "K2 = 10 # Number of inner loops\n",
    "outer_cv = sklearn.model_selection.KFold(n_splits=K1, shuffle=True, random_state=42)\n",
    "\n",
    "# Define ANN hyperparameters\n",
    "min_n_hidden_units = 1  # Minimum number of hidden units\n",
    "max_n_hidden_units = 5  # Maximum number of hidden units\n",
    "max_iter = 10000  # Maximum number of iterations for training\n",
    "loss_fn   = torch.nn.MSELoss()\n",
    "\n",
    "# Hyperparameters search space \n",
    "lambda_values = [0.01, 0.1, 1, 10, 100] \n",
    "h_values = [1, 5, 10, 20]\n",
    "\n",
    "# Define lists to store outer CV results\n",
    "error_train_baseline = np.empty(K1)\n",
    "error_test_baseline = np.empty(K1)\n",
    "error_test_rlr = np.empty(K1)\n",
    "error_test_ann = np.empty(K1)\n",
    "best_lamdas = []\n",
    "best_hs = []\n",
    "results_table = []\n",
    "\n",
    "\n",
    "# Loop over outer folds\n",
    "for k, (train_index, test_index) in enumerate(outer_cv.split(X)):\n",
    "    print(f\"Outer fold {k+1}/{K1}\")\n",
    "\n",
    "    # Extract training and test set for current CV fold\n",
    "    X_train_outer = X[train_index,:]\n",
    "    y_train_outer = y[train_index]\n",
    "    X_test_outer = X[test_index,:]\n",
    "    y_test_outer = y[test_index]\n",
    "  \n",
    "\n",
    "    # Baseline model: mean of y_train (no features)\n",
    "    y_pred_baseline = np.full_like(y_test_outer, np.mean(y_train_outer))\n",
    "    error_train_baseline[k] =  np.square(y_train_outer - y_pred_baseline).sum() / len(y_train_outer)\n",
    "    error_test_baseline[k] = np.square(y_test_outer - y_pred_baseline).sum() / len(y_test_outer)\n",
    "    \n",
    "    \n",
    "    # Inner cross-validation for RLR and ANN hyperparameter tuning\n",
    "    inner_cv = sklearn.model_selection.KFold(n_splits=K2, shuffle=True, random_state=42)\n",
    "    best_lambda = None\n",
    "    best_h = None\n",
    "    min_error_rlr = np.inf\n",
    "    min_error_ann = np.inf\n",
    "\n",
    "    # Loop over inner folds\n",
    "    for train_inner_index, val_index in inner_cv.split(X_train_outer):\n",
    "\n",
    "        # Extract training and validation set for current CV fold\n",
    "        X_train_inner = X_train_outer[train_inner_index,:]\n",
    "        y_train_inner = y_train_outer[train_inner_index]\n",
    "        X_val = X_train_outer[val_index,:]\n",
    "        y_val = y_train_outer[val_index]\n",
    "      \n",
    "\n",
    "\n",
    "        # Hyperparameter tuning for RLR\n",
    "        for lambda_value in lambda_values:\n",
    "        \n",
    "            model_rlr = Ridge(alpha=lambda_value)  # Define model with regularization parameter lambda\n",
    "            model_rlr.fit(X_train_inner, y_train_inner)  # Train\n",
    "            y_pred_rlr = model_rlr.predict(X_val)  # Predict validation set\n",
    "            error_rlr = np.square(y_val - y_pred_rlr).sum() / len(y_val)  # Compute validation error\n",
    "\n",
    "            if error_rlr < min_error_rlr:\n",
    "                min_error_rlr = error_rlr\n",
    "                best_lambda = lambda_value\n",
    "        \n",
    "        # Hyperparameter tuning for ANN\n",
    "\n",
    "        # Convert data to PyTorch tensors\n",
    "        X_train_inner_tensor = torch.tensor(X_train_inner, dtype=torch.float32)\n",
    "        y_train_inner_tensor = torch.tensor(y_train_inner, dtype=torch.float32).view(-1, 1)\n",
    "        X_val_tensor = torch.tensor(X_val, dtype=torch.float32)\n",
    "        y_val_tensor = torch.tensor(y_val, dtype=torch.float32).view(-1, 1)\n",
    "\n",
    "        for n_hidden_units in range(min_n_hidden_units,max_n_hidden_units + 1):\n",
    "            # Define ANN model\n",
    "            model = lambda: torch.nn.Sequential(\n",
    "                torch.nn.Linear(M, n_hidden_units),  # M features to H hidden units\n",
    "                # 1st transfer function, either Tanh or ReLU:\n",
    "                torch.nn.Tanh(),  # torch.nn.ReLU(),\n",
    "                torch.nn.Linear(n_hidden_units, 1),  # H hidden units to 1 output neuron\n",
    "                # No final transfer function, \n",
    "            )\n",
    "\n",
    "            # Train the ANN model using the training data\n",
    "            net, final_loss, learning_curve = train_neural_net(model, \n",
    "                                                               loss_fn,\n",
    "                                                               X=X_train_inner_tensor, \n",
    "                                                               y=y_train_inner_tensor, \n",
    "                                                               n_replicates=1,\n",
    "                                                               max_iter=max_iter)\n",
    "\n",
    "            # Determine estimated y values for the validation set\n",
    "            y_est_inner = net(X_val_tensor).detach().numpy()\n",
    "\n",
    "            # Compute validation error\n",
    "            error_ann = np.square(y_val - y_est_inner).sum() / len(y_val)\n",
    "\n",
    "            # Check if the current error is less than the minimum error\n",
    "            if error_ann < min_error_ann:\n",
    "                min_error_ann = error_ann\n",
    "                best_h = n_hidden_units\n",
    "                best_model = net\n",
    "\n",
    "\n",
    "       \n",
    "        \n",
    "\n",
    "\n"
   ]
  },
  {
   "cell_type": "code",
   "execution_count": 8,
   "metadata": {},
   "outputs": [
    {
     "name": "stdout",
     "output_type": "stream",
     "text": [
      "Outer fold 1/10\n",
      "\n",
      "\tReplicate: 1/1\n",
      "\t\tIter\tLoss\t\t\tRel. loss\n",
      "\t\t1000\t16.207216\t0.00082922744\n",
      "\t\t2000\t7.632791\t0.0006451087\n",
      "\t\tFinal loss:\n",
      "\t\t2000\t7.632791\t0.0006451087\n",
      "\n",
      "\tReplicate: 1/1\n",
      "\t\tIter\tLoss\t\t\tRel. loss\n"
     ]
    },
    {
     "name": "stderr",
     "output_type": "stream",
     "text": [
      "c:\\Users\\trine\\anaconda3\\envs\\dtu02450\\Lib\\site-packages\\dtuimldmtools\\models\\nn_trainer.py:141: RuntimeWarning: overflow encountered in cast\n",
      "  if loss_value < best_final_loss:\n"
     ]
    },
    {
     "name": "stdout",
     "output_type": "stream",
     "text": [
      "\t\t1000\t7.280691\t0.0017139013\n",
      "\t\t2000\t3.5814657\t0.0001591438\n",
      "\t\tFinal loss:\n",
      "\t\t2000\t3.5814657\t0.0001591438\n",
      "\n",
      "\tReplicate: 1/1\n",
      "\t\tIter\tLoss\t\t\tRel. loss\n"
     ]
    },
    {
     "name": "stderr",
     "output_type": "stream",
     "text": [
      "c:\\Users\\trine\\anaconda3\\envs\\dtu02450\\Lib\\site-packages\\dtuimldmtools\\models\\nn_trainer.py:141: RuntimeWarning: overflow encountered in cast\n",
      "  if loss_value < best_final_loss:\n"
     ]
    },
    {
     "name": "stdout",
     "output_type": "stream",
     "text": [
      "\t\t1000\t4.4360847\t0.0010515479\n",
      "\t\t2000\t3.3162155\t0.00011149637\n",
      "\t\tFinal loss:\n",
      "\t\t2000\t3.3162155\t0.00011149637\n",
      "\n",
      "\tReplicate: 1/1\n",
      "\t\tIter\tLoss\t\t\tRel. loss\n"
     ]
    },
    {
     "name": "stderr",
     "output_type": "stream",
     "text": [
      "c:\\Users\\trine\\anaconda3\\envs\\dtu02450\\Lib\\site-packages\\dtuimldmtools\\models\\nn_trainer.py:141: RuntimeWarning: overflow encountered in cast\n",
      "  if loss_value < best_final_loss:\n"
     ]
    },
    {
     "name": "stdout",
     "output_type": "stream",
     "text": [
      "\t\t1000\t3.2795722\t0.00010794499\n",
      "\t\t2000\t2.9918659\t6.0400558e-05\n",
      "\t\tFinal loss:\n",
      "\t\t2000\t2.9918659\t6.0400558e-05\n",
      "\n",
      "\tReplicate: 1/1\n",
      "\t\tIter\tLoss\t\t\tRel. loss\n"
     ]
    },
    {
     "name": "stderr",
     "output_type": "stream",
     "text": [
      "c:\\Users\\trine\\anaconda3\\envs\\dtu02450\\Lib\\site-packages\\dtuimldmtools\\models\\nn_trainer.py:141: RuntimeWarning: overflow encountered in cast\n",
      "  if loss_value < best_final_loss:\n"
     ]
    },
    {
     "name": "stdout",
     "output_type": "stream",
     "text": [
      "\t\t1000\t13.536421\t0.0010224166\n",
      "\t\t2000\t5.905298\t0.0006121744\n",
      "\t\tFinal loss:\n",
      "\t\t2000\t5.905298\t0.0006121744\n",
      "\n",
      "\tReplicate: 1/1\n",
      "\t\tIter\tLoss\t\t\tRel. loss\n"
     ]
    },
    {
     "name": "stderr",
     "output_type": "stream",
     "text": [
      "c:\\Users\\trine\\anaconda3\\envs\\dtu02450\\Lib\\site-packages\\dtuimldmtools\\models\\nn_trainer.py:141: RuntimeWarning: overflow encountered in cast\n",
      "  if loss_value < best_final_loss:\n"
     ]
    },
    {
     "name": "stdout",
     "output_type": "stream",
     "text": [
      "\t\t1000\t7.7830997\t0.0014897201\n",
      "\t\t2000\t3.4614646\t0.0001575679\n",
      "\t\tFinal loss:\n",
      "\t\t2000\t3.4614646\t0.0001575679\n",
      "\n",
      "\tReplicate: 1/1\n",
      "\t\tIter\tLoss\t\t\tRel. loss\n"
     ]
    },
    {
     "name": "stderr",
     "output_type": "stream",
     "text": [
      "c:\\Users\\trine\\anaconda3\\envs\\dtu02450\\Lib\\site-packages\\dtuimldmtools\\models\\nn_trainer.py:141: RuntimeWarning: overflow encountered in cast\n",
      "  if loss_value < best_final_loss:\n"
     ]
    },
    {
     "name": "stdout",
     "output_type": "stream",
     "text": [
      "\t\t1000\t3.7695584\t0.00063265284\n",
      "\t\t2000\t3.2003467\t5.378447e-05\n",
      "\t\tFinal loss:\n",
      "\t\t2000\t3.2003467\t5.378447e-05\n",
      "\n",
      "\tReplicate: 1/1\n",
      "\t\tIter\tLoss\t\t\tRel. loss\n"
     ]
    },
    {
     "name": "stderr",
     "output_type": "stream",
     "text": [
      "c:\\Users\\trine\\anaconda3\\envs\\dtu02450\\Lib\\site-packages\\dtuimldmtools\\models\\nn_trainer.py:141: RuntimeWarning: overflow encountered in cast\n",
      "  if loss_value < best_final_loss:\n"
     ]
    },
    {
     "name": "stdout",
     "output_type": "stream",
     "text": [
      "\t\t1000\t3.4303567\t0.00080141675\n",
      "\t\t2000\t2.8602207\t0.000103518316\n",
      "\t\tFinal loss:\n",
      "\t\t2000\t2.8602207\t0.000103518316\n",
      "\n",
      "\tReplicate: 1/1\n",
      "\t\tIter\tLoss\t\t\tRel. loss\n"
     ]
    },
    {
     "name": "stderr",
     "output_type": "stream",
     "text": [
      "c:\\Users\\trine\\anaconda3\\envs\\dtu02450\\Lib\\site-packages\\dtuimldmtools\\models\\nn_trainer.py:141: RuntimeWarning: overflow encountered in cast\n",
      "  if loss_value < best_final_loss:\n"
     ]
    },
    {
     "name": "stdout",
     "output_type": "stream",
     "text": [
      "\t\t1000\t10.7294035\t0.00097357744\n",
      "\t\t2000\t5.214158\t0.00045366274\n",
      "\t\tFinal loss:\n",
      "\t\t2000\t5.214158\t0.00045366274\n",
      "\n",
      "\tReplicate: 1/1\n",
      "\t\tIter\tLoss\t\t\tRel. loss\n"
     ]
    },
    {
     "name": "stderr",
     "output_type": "stream",
     "text": [
      "c:\\Users\\trine\\anaconda3\\envs\\dtu02450\\Lib\\site-packages\\dtuimldmtools\\models\\nn_trainer.py:141: RuntimeWarning: overflow encountered in cast\n",
      "  if loss_value < best_final_loss:\n"
     ]
    },
    {
     "name": "stdout",
     "output_type": "stream",
     "text": [
      "\t\t1000\t7.5863523\t0.0020741022\n",
      "\t\t2000\t3.8032153\t0.0001303128\n",
      "\t\tFinal loss:\n",
      "\t\t2000\t3.8032153\t0.0001303128\n",
      "\n",
      "\tReplicate: 1/1\n",
      "\t\tIter\tLoss\t\t\tRel. loss\n"
     ]
    },
    {
     "name": "stderr",
     "output_type": "stream",
     "text": [
      "c:\\Users\\trine\\anaconda3\\envs\\dtu02450\\Lib\\site-packages\\dtuimldmtools\\models\\nn_trainer.py:141: RuntimeWarning: overflow encountered in cast\n",
      "  if loss_value < best_final_loss:\n"
     ]
    },
    {
     "name": "stdout",
     "output_type": "stream",
     "text": [
      "\t\t1000\t4.168792\t0.0007077557\n",
      "\t\t2000\t3.448579\t6.477559e-05\n",
      "\t\tFinal loss:\n",
      "\t\t2000\t3.448579\t6.477559e-05\n",
      "\n",
      "\tReplicate: 1/1\n",
      "\t\tIter\tLoss\t\t\tRel. loss\n"
     ]
    },
    {
     "name": "stderr",
     "output_type": "stream",
     "text": [
      "c:\\Users\\trine\\anaconda3\\envs\\dtu02450\\Lib\\site-packages\\dtuimldmtools\\models\\nn_trainer.py:141: RuntimeWarning: overflow encountered in cast\n",
      "  if loss_value < best_final_loss:\n"
     ]
    },
    {
     "name": "stdout",
     "output_type": "stream",
     "text": [
      "\t\t1000\t3.6777565\t0.00028152997\n",
      "\t\t2000\t3.248053\t6.804045e-05\n",
      "\t\tFinal loss:\n",
      "\t\t2000\t3.248053\t6.804045e-05\n",
      "\n",
      "\tReplicate: 1/1\n",
      "\t\tIter\tLoss\t\t\tRel. loss\n"
     ]
    },
    {
     "name": "stderr",
     "output_type": "stream",
     "text": [
      "c:\\Users\\trine\\anaconda3\\envs\\dtu02450\\Lib\\site-packages\\dtuimldmtools\\models\\nn_trainer.py:141: RuntimeWarning: overflow encountered in cast\n",
      "  if loss_value < best_final_loss:\n"
     ]
    },
    {
     "name": "stdout",
     "output_type": "stream",
     "text": [
      "\t\t1000\t11.05074\t0.0015407454\n",
      "\t\t2000\t4.3108244\t0.0005153058\n",
      "\t\tFinal loss:\n",
      "\t\t2000\t4.3108244\t0.0005153058\n",
      "\n",
      "\tReplicate: 1/1\n",
      "\t\tIter\tLoss\t\t\tRel. loss\n"
     ]
    },
    {
     "name": "stderr",
     "output_type": "stream",
     "text": [
      "c:\\Users\\trine\\anaconda3\\envs\\dtu02450\\Lib\\site-packages\\dtuimldmtools\\models\\nn_trainer.py:141: RuntimeWarning: overflow encountered in cast\n",
      "  if loss_value < best_final_loss:\n"
     ]
    },
    {
     "name": "stdout",
     "output_type": "stream",
     "text": [
      "\t\t1000\t4.2782826\t0.0017262435\n",
      "\t\t2000\t2.9330633\t5.1126623e-05\n",
      "\t\tFinal loss:\n",
      "\t\t2000\t2.9330633\t5.1126623e-05\n",
      "\n",
      "\tReplicate: 1/1\n",
      "\t\tIter\tLoss\t\t\tRel. loss\n"
     ]
    },
    {
     "name": "stderr",
     "output_type": "stream",
     "text": [
      "c:\\Users\\trine\\anaconda3\\envs\\dtu02450\\Lib\\site-packages\\dtuimldmtools\\models\\nn_trainer.py:141: RuntimeWarning: overflow encountered in cast\n",
      "  if loss_value < best_final_loss:\n"
     ]
    },
    {
     "name": "stdout",
     "output_type": "stream",
     "text": [
      "\t\t1000\t4.200888\t0.0014202434\n",
      "\t\t2000\t2.8854237\t0.00011607974\n",
      "\t\tFinal loss:\n",
      "\t\t2000\t2.8854237\t0.00011607974\n",
      "\n",
      "\tReplicate: 1/1\n",
      "\t\tIter\tLoss\t\t\tRel. loss\n"
     ]
    },
    {
     "name": "stderr",
     "output_type": "stream",
     "text": [
      "c:\\Users\\trine\\anaconda3\\envs\\dtu02450\\Lib\\site-packages\\dtuimldmtools\\models\\nn_trainer.py:141: RuntimeWarning: overflow encountered in cast\n",
      "  if loss_value < best_final_loss:\n"
     ]
    },
    {
     "name": "stdout",
     "output_type": "stream",
     "text": [
      "\t\t1000\t3.036166\t0.00051055214\n",
      "\t\t2000\t2.5958233\t8.146165e-05\n",
      "\t\tFinal loss:\n",
      "\t\t2000\t2.5958233\t8.146165e-05\n",
      "\n",
      "\tReplicate: 1/1\n",
      "\t\tIter\tLoss\t\t\tRel. loss\n"
     ]
    },
    {
     "name": "stderr",
     "output_type": "stream",
     "text": [
      "c:\\Users\\trine\\anaconda3\\envs\\dtu02450\\Lib\\site-packages\\dtuimldmtools\\models\\nn_trainer.py:141: RuntimeWarning: overflow encountered in cast\n",
      "  if loss_value < best_final_loss:\n"
     ]
    },
    {
     "name": "stdout",
     "output_type": "stream",
     "text": [
      "\t\t1000\t10.501074\t0.0015397861\n",
      "\t\t2000\t4.373277\t0.0002817742\n",
      "\t\tFinal loss:\n",
      "\t\t2000\t4.373277\t0.0002817742\n",
      "\n",
      "\tReplicate: 1/1\n",
      "\t\tIter\tLoss\t\t\tRel. loss\n"
     ]
    },
    {
     "name": "stderr",
     "output_type": "stream",
     "text": [
      "c:\\Users\\trine\\anaconda3\\envs\\dtu02450\\Lib\\site-packages\\dtuimldmtools\\models\\nn_trainer.py:141: RuntimeWarning: overflow encountered in cast\n",
      "  if loss_value < best_final_loss:\n"
     ]
    },
    {
     "name": "stdout",
     "output_type": "stream",
     "text": [
      "\t\t1000\t8.88243\t0.0016630191\n",
      "\t\t2000\t3.8698988\t0.0001496862\n",
      "\t\tFinal loss:\n",
      "\t\t2000\t3.8698988\t0.0001496862\n",
      "\n",
      "\tReplicate: 1/1\n",
      "\t\tIter\tLoss\t\t\tRel. loss\n"
     ]
    },
    {
     "name": "stderr",
     "output_type": "stream",
     "text": [
      "c:\\Users\\trine\\anaconda3\\envs\\dtu02450\\Lib\\site-packages\\dtuimldmtools\\models\\nn_trainer.py:141: RuntimeWarning: overflow encountered in cast\n",
      "  if loss_value < best_final_loss:\n"
     ]
    },
    {
     "name": "stdout",
     "output_type": "stream",
     "text": [
      "\t\t1000\t4.447535\t0.00081887125\n",
      "\t\t2000\t3.549123\t0.000121910954\n",
      "\t\tFinal loss:\n",
      "\t\t2000\t3.549123\t0.000121910954\n",
      "\n",
      "\tReplicate: 1/1\n",
      "\t\tIter\tLoss\t\t\tRel. loss\n"
     ]
    },
    {
     "name": "stderr",
     "output_type": "stream",
     "text": [
      "c:\\Users\\trine\\anaconda3\\envs\\dtu02450\\Lib\\site-packages\\dtuimldmtools\\models\\nn_trainer.py:141: RuntimeWarning: overflow encountered in cast\n",
      "  if loss_value < best_final_loss:\n"
     ]
    },
    {
     "name": "stdout",
     "output_type": "stream",
     "text": [
      "\t\t1000\t3.6885078\t0.00021965706\n",
      "\t\t2000\t3.180179\t9.655226e-05\n",
      "\t\tFinal loss:\n",
      "\t\t2000\t3.180179\t9.655226e-05\n",
      "\n",
      "\tReplicate: 1/1\n",
      "\t\tIter\tLoss\t\t\tRel. loss\n"
     ]
    },
    {
     "name": "stderr",
     "output_type": "stream",
     "text": [
      "c:\\Users\\trine\\anaconda3\\envs\\dtu02450\\Lib\\site-packages\\dtuimldmtools\\models\\nn_trainer.py:141: RuntimeWarning: overflow encountered in cast\n",
      "  if loss_value < best_final_loss:\n"
     ]
    },
    {
     "name": "stdout",
     "output_type": "stream",
     "text": [
      "\t\t1000\t8.970718\t0.0010957015\n",
      "\t\t2000\t4.541369\t0.00035466428\n",
      "\t\tFinal loss:\n",
      "\t\t2000\t4.541369\t0.00035466428\n",
      "Outer fold 2/10\n",
      "\n",
      "\tReplicate: 1/1\n",
      "\t\tIter\tLoss\t\t\tRel. loss\n"
     ]
    },
    {
     "name": "stderr",
     "output_type": "stream",
     "text": [
      "c:\\Users\\trine\\anaconda3\\envs\\dtu02450\\Lib\\site-packages\\dtuimldmtools\\models\\nn_trainer.py:141: RuntimeWarning: overflow encountered in cast\n",
      "  if loss_value < best_final_loss:\n"
     ]
    },
    {
     "name": "stdout",
     "output_type": "stream",
     "text": [
      "\t\t1000\t13.423947\t0.0008530636\n",
      "\t\t2000\t6.4779334\t0.00056772167\n",
      "\t\tFinal loss:\n",
      "\t\t2000\t6.4779334\t0.00056772167\n",
      "\n",
      "\tReplicate: 1/1\n",
      "\t\tIter\tLoss\t\t\tRel. loss\n"
     ]
    },
    {
     "name": "stderr",
     "output_type": "stream",
     "text": [
      "c:\\Users\\trine\\anaconda3\\envs\\dtu02450\\Lib\\site-packages\\dtuimldmtools\\models\\nn_trainer.py:141: RuntimeWarning: overflow encountered in cast\n",
      "  if loss_value < best_final_loss:\n"
     ]
    },
    {
     "name": "stdout",
     "output_type": "stream",
     "text": [
      "\t\t1000\t6.597267\t0.0015259858\n",
      "\t\t2000\t3.6555147\t9.1301925e-05\n",
      "\t\tFinal loss:\n",
      "\t\t2000\t3.6555147\t9.1301925e-05\n",
      "\n",
      "\tReplicate: 1/1\n",
      "\t\tIter\tLoss\t\t\tRel. loss\n"
     ]
    },
    {
     "name": "stderr",
     "output_type": "stream",
     "text": [
      "c:\\Users\\trine\\anaconda3\\envs\\dtu02450\\Lib\\site-packages\\dtuimldmtools\\models\\nn_trainer.py:141: RuntimeWarning: overflow encountered in cast\n",
      "  if loss_value < best_final_loss:\n"
     ]
    },
    {
     "name": "stdout",
     "output_type": "stream",
     "text": [
      "\t\t1000\t5.155023\t0.001670982\n",
      "\t\t2000\t3.369345\t8.504761e-05\n",
      "\t\tFinal loss:\n",
      "\t\t2000\t3.369345\t8.504761e-05\n",
      "\n",
      "\tReplicate: 1/1\n",
      "\t\tIter\tLoss\t\t\tRel. loss\n"
     ]
    },
    {
     "name": "stderr",
     "output_type": "stream",
     "text": [
      "c:\\Users\\trine\\anaconda3\\envs\\dtu02450\\Lib\\site-packages\\dtuimldmtools\\models\\nn_trainer.py:141: RuntimeWarning: overflow encountered in cast\n",
      "  if loss_value < best_final_loss:\n"
     ]
    },
    {
     "name": "stdout",
     "output_type": "stream",
     "text": [
      "\t\t1000\t3.3723505\t0.0002601718\n",
      "\t\t2000\t2.8720107\t0.000110397115\n",
      "\t\tFinal loss:\n",
      "\t\t2000\t2.8720107\t0.000110397115\n",
      "\n",
      "\tReplicate: 1/1\n",
      "\t\tIter\tLoss\t\t\tRel. loss\n"
     ]
    },
    {
     "name": "stderr",
     "output_type": "stream",
     "text": [
      "c:\\Users\\trine\\anaconda3\\envs\\dtu02450\\Lib\\site-packages\\dtuimldmtools\\models\\nn_trainer.py:141: RuntimeWarning: overflow encountered in cast\n",
      "  if loss_value < best_final_loss:\n"
     ]
    },
    {
     "name": "stdout",
     "output_type": "stream",
     "text": [
      "\t\t1000\t14.025117\t0.0009427132\n",
      "\t\t2000\t6.323362\t0.0006219618\n",
      "\t\tFinal loss:\n",
      "\t\t2000\t6.323362\t0.0006219618\n",
      "\n",
      "\tReplicate: 1/1\n",
      "\t\tIter\tLoss\t\t\tRel. loss\n"
     ]
    },
    {
     "name": "stderr",
     "output_type": "stream",
     "text": [
      "c:\\Users\\trine\\anaconda3\\envs\\dtu02450\\Lib\\site-packages\\dtuimldmtools\\models\\nn_trainer.py:141: RuntimeWarning: overflow encountered in cast\n",
      "  if loss_value < best_final_loss:\n"
     ]
    },
    {
     "name": "stdout",
     "output_type": "stream",
     "text": [
      "\t\t1000\t8.293403\t0.0018960646\n",
      "\t\t2000\t3.782272\t0.00020179992\n",
      "\t\tFinal loss:\n",
      "\t\t2000\t3.782272\t0.00020179992\n",
      "\n",
      "\tReplicate: 1/1\n",
      "\t\tIter\tLoss\t\t\tRel. loss\n"
     ]
    },
    {
     "name": "stderr",
     "output_type": "stream",
     "text": [
      "c:\\Users\\trine\\anaconda3\\envs\\dtu02450\\Lib\\site-packages\\dtuimldmtools\\models\\nn_trainer.py:141: RuntimeWarning: overflow encountered in cast\n",
      "  if loss_value < best_final_loss:\n"
     ]
    },
    {
     "name": "stdout",
     "output_type": "stream",
     "text": [
      "\t\t1000\t4.5828643\t0.0015703174\n",
      "\t\t2000\t3.2097757\t8.3482504e-05\n",
      "\t\tFinal loss:\n",
      "\t\t2000\t3.2097757\t8.3482504e-05\n",
      "\n",
      "\tReplicate: 1/1\n",
      "\t\tIter\tLoss\t\t\tRel. loss\n"
     ]
    },
    {
     "name": "stderr",
     "output_type": "stream",
     "text": [
      "c:\\Users\\trine\\anaconda3\\envs\\dtu02450\\Lib\\site-packages\\dtuimldmtools\\models\\nn_trainer.py:141: RuntimeWarning: overflow encountered in cast\n",
      "  if loss_value < best_final_loss:\n"
     ]
    },
    {
     "name": "stdout",
     "output_type": "stream",
     "text": [
      "\t\t1000\t3.5407245\t0.00041266726\n",
      "\t\t2000\t3.1093235\t0.00010319875\n",
      "\t\tFinal loss:\n",
      "\t\t2000\t3.1093235\t0.00010319875\n",
      "\n",
      "\tReplicate: 1/1\n",
      "\t\tIter\tLoss\t\t\tRel. loss\n"
     ]
    },
    {
     "name": "stderr",
     "output_type": "stream",
     "text": [
      "c:\\Users\\trine\\anaconda3\\envs\\dtu02450\\Lib\\site-packages\\dtuimldmtools\\models\\nn_trainer.py:141: RuntimeWarning: overflow encountered in cast\n",
      "  if loss_value < best_final_loss:\n"
     ]
    },
    {
     "name": "stdout",
     "output_type": "stream",
     "text": [
      "\t\t1000\t7.5096188\t0.00094609614\n",
      "\t\t2000\t4.2315774\t0.0002711603\n",
      "\t\tFinal loss:\n",
      "\t\t2000\t4.2315774\t0.0002711603\n",
      "\n",
      "\tReplicate: 1/1\n",
      "\t\tIter\tLoss\t\t\tRel. loss\n"
     ]
    },
    {
     "name": "stderr",
     "output_type": "stream",
     "text": [
      "c:\\Users\\trine\\anaconda3\\envs\\dtu02450\\Lib\\site-packages\\dtuimldmtools\\models\\nn_trainer.py:141: RuntimeWarning: overflow encountered in cast\n",
      "  if loss_value < best_final_loss:\n"
     ]
    },
    {
     "name": "stdout",
     "output_type": "stream",
     "text": [
      "\t\t1000\t4.4397674\t0.0007528535\n",
      "\t\t2000\t3.5264826\t5.9221136e-05\n",
      "\t\tFinal loss:\n",
      "\t\t2000\t3.5264826\t5.9221136e-05\n",
      "\n",
      "\tReplicate: 1/1\n",
      "\t\tIter\tLoss\t\t\tRel. loss\n"
     ]
    },
    {
     "name": "stderr",
     "output_type": "stream",
     "text": [
      "c:\\Users\\trine\\anaconda3\\envs\\dtu02450\\Lib\\site-packages\\dtuimldmtools\\models\\nn_trainer.py:141: RuntimeWarning: overflow encountered in cast\n",
      "  if loss_value < best_final_loss:\n"
     ]
    },
    {
     "name": "stdout",
     "output_type": "stream",
     "text": [
      "\t\t1000\t4.017121\t0.00069961004\n",
      "\t\t2000\t3.3078032\t9.0016845e-05\n",
      "\t\tFinal loss:\n",
      "\t\t2000\t3.3078032\t9.0016845e-05\n",
      "\n",
      "\tReplicate: 1/1\n",
      "\t\tIter\tLoss\t\t\tRel. loss\n"
     ]
    },
    {
     "name": "stderr",
     "output_type": "stream",
     "text": [
      "c:\\Users\\trine\\anaconda3\\envs\\dtu02450\\Lib\\site-packages\\dtuimldmtools\\models\\nn_trainer.py:141: RuntimeWarning: overflow encountered in cast\n",
      "  if loss_value < best_final_loss:\n"
     ]
    },
    {
     "name": "stdout",
     "output_type": "stream",
     "text": [
      "\t\t1000\t4.2707767\t0.0014295446\n",
      "\t\t2000\t3.0253549\t0.00011354772\n",
      "\t\tFinal loss:\n",
      "\t\t2000\t3.0253549\t0.00011354772\n",
      "\n",
      "\tReplicate: 1/1\n",
      "\t\tIter\tLoss\t\t\tRel. loss\n"
     ]
    },
    {
     "name": "stderr",
     "output_type": "stream",
     "text": [
      "c:\\Users\\trine\\anaconda3\\envs\\dtu02450\\Lib\\site-packages\\dtuimldmtools\\models\\nn_trainer.py:141: RuntimeWarning: overflow encountered in cast\n",
      "  if loss_value < best_final_loss:\n"
     ]
    },
    {
     "name": "stdout",
     "output_type": "stream",
     "text": [
      "\t\t1000\t14.375162\t0.0016188354\n",
      "\t\t2000\t5.1214557\t0.0006502002\n",
      "\t\tFinal loss:\n",
      "\t\t2000\t5.1214557\t0.0006502002\n",
      "\n",
      "\tReplicate: 1/1\n",
      "\t\tIter\tLoss\t\t\tRel. loss\n"
     ]
    },
    {
     "name": "stderr",
     "output_type": "stream",
     "text": [
      "c:\\Users\\trine\\anaconda3\\envs\\dtu02450\\Lib\\site-packages\\dtuimldmtools\\models\\nn_trainer.py:141: RuntimeWarning: overflow encountered in cast\n",
      "  if loss_value < best_final_loss:\n"
     ]
    },
    {
     "name": "stdout",
     "output_type": "stream",
     "text": [
      "\t\t1000\t3.7194145\t0.00097543566\n",
      "\t\t2000\t2.9003892\t5.934652e-05\n",
      "\t\tFinal loss:\n",
      "\t\t2000\t2.9003892\t5.934652e-05\n",
      "\n",
      "\tReplicate: 1/1\n",
      "\t\tIter\tLoss\t\t\tRel. loss\n"
     ]
    },
    {
     "name": "stderr",
     "output_type": "stream",
     "text": [
      "c:\\Users\\trine\\anaconda3\\envs\\dtu02450\\Lib\\site-packages\\dtuimldmtools\\models\\nn_trainer.py:141: RuntimeWarning: overflow encountered in cast\n",
      "  if loss_value < best_final_loss:\n"
     ]
    },
    {
     "name": "stdout",
     "output_type": "stream",
     "text": [
      "\t\t1000\t3.82676\t0.0010786084\n",
      "\t\t2000\t2.9334686\t6.8510395e-05\n",
      "\t\tFinal loss:\n",
      "\t\t2000\t2.9334686\t6.8510395e-05\n",
      "\n",
      "\tReplicate: 1/1\n",
      "\t\tIter\tLoss\t\t\tRel. loss\n"
     ]
    },
    {
     "name": "stderr",
     "output_type": "stream",
     "text": [
      "c:\\Users\\trine\\anaconda3\\envs\\dtu02450\\Lib\\site-packages\\dtuimldmtools\\models\\nn_trainer.py:141: RuntimeWarning: overflow encountered in cast\n",
      "  if loss_value < best_final_loss:\n"
     ]
    },
    {
     "name": "stdout",
     "output_type": "stream",
     "text": [
      "\t\t1000\t2.9009523\t0.00022152522\n",
      "\t\t2000\t2.6140397\t7.9070174e-05\n",
      "\t\tFinal loss:\n",
      "\t\t2000\t2.6140397\t7.9070174e-05\n",
      "\n",
      "\tReplicate: 1/1\n",
      "\t\tIter\tLoss\t\t\tRel. loss\n"
     ]
    },
    {
     "name": "stderr",
     "output_type": "stream",
     "text": [
      "c:\\Users\\trine\\anaconda3\\envs\\dtu02450\\Lib\\site-packages\\dtuimldmtools\\models\\nn_trainer.py:141: RuntimeWarning: overflow encountered in cast\n",
      "  if loss_value < best_final_loss:\n"
     ]
    },
    {
     "name": "stdout",
     "output_type": "stream",
     "text": [
      "\t\t1000\t5.8936133\t0.0009394229\n",
      "\t\t2000\t3.5238802\t0.0001942083\n",
      "\t\tFinal loss:\n",
      "\t\t2000\t3.5238802\t0.0001942083\n",
      "\n",
      "\tReplicate: 1/1\n",
      "\t\tIter\tLoss\t\t\tRel. loss\n"
     ]
    },
    {
     "name": "stderr",
     "output_type": "stream",
     "text": [
      "c:\\Users\\trine\\anaconda3\\envs\\dtu02450\\Lib\\site-packages\\dtuimldmtools\\models\\nn_trainer.py:141: RuntimeWarning: overflow encountered in cast\n",
      "  if loss_value < best_final_loss:\n"
     ]
    },
    {
     "name": "stdout",
     "output_type": "stream",
     "text": [
      "\t\t1000\t3.9417512\t0.0010615407\n",
      "\t\t2000\t3.05924\t5.0576557e-05\n",
      "\t\tFinal loss:\n",
      "\t\t2000\t3.05924\t5.0576557e-05\n",
      "\n",
      "\tReplicate: 1/1\n",
      "\t\tIter\tLoss\t\t\tRel. loss\n"
     ]
    },
    {
     "name": "stderr",
     "output_type": "stream",
     "text": [
      "c:\\Users\\trine\\anaconda3\\envs\\dtu02450\\Lib\\site-packages\\dtuimldmtools\\models\\nn_trainer.py:141: RuntimeWarning: overflow encountered in cast\n",
      "  if loss_value < best_final_loss:\n"
     ]
    },
    {
     "name": "stdout",
     "output_type": "stream",
     "text": [
      "\t\t1000\t3.5956943\t0.0008282134\n",
      "\t\t2000\t2.9261777\t6.183784e-05\n",
      "\t\tFinal loss:\n",
      "\t\t2000\t2.9261777\t6.183784e-05\n",
      "\n",
      "\tReplicate: 1/1\n",
      "\t\tIter\tLoss\t\t\tRel. loss\n"
     ]
    },
    {
     "name": "stderr",
     "output_type": "stream",
     "text": [
      "c:\\Users\\trine\\anaconda3\\envs\\dtu02450\\Lib\\site-packages\\dtuimldmtools\\models\\nn_trainer.py:141: RuntimeWarning: overflow encountered in cast\n",
      "  if loss_value < best_final_loss:\n"
     ]
    },
    {
     "name": "stdout",
     "output_type": "stream",
     "text": [
      "\t\t1000\t3.084358\t0.00042264824\n",
      "\t\t2000\t2.7466505\t4.7913178e-05\n",
      "\t\tFinal loss:\n",
      "\t\t2000\t2.7466505\t4.7913178e-05\n",
      "\n",
      "\tReplicate: 1/1\n",
      "\t\tIter\tLoss\t\t\tRel. loss\n"
     ]
    },
    {
     "name": "stderr",
     "output_type": "stream",
     "text": [
      "c:\\Users\\trine\\anaconda3\\envs\\dtu02450\\Lib\\site-packages\\dtuimldmtools\\models\\nn_trainer.py:141: RuntimeWarning: overflow encountered in cast\n",
      "  if loss_value < best_final_loss:\n"
     ]
    },
    {
     "name": "stdout",
     "output_type": "stream",
     "text": [
      "\t\t1000\t7.442088\t0.0019432039\n",
      "\t\t2000\t3.5239522\t0.000141247\n",
      "\t\tFinal loss:\n",
      "\t\t2000\t3.5239522\t0.000141247\n",
      "Outer fold 3/10\n",
      "\n",
      "\tReplicate: 1/1\n",
      "\t\tIter\tLoss\t\t\tRel. loss\n"
     ]
    },
    {
     "name": "stderr",
     "output_type": "stream",
     "text": [
      "c:\\Users\\trine\\anaconda3\\envs\\dtu02450\\Lib\\site-packages\\dtuimldmtools\\models\\nn_trainer.py:141: RuntimeWarning: overflow encountered in cast\n",
      "  if loss_value < best_final_loss:\n"
     ]
    },
    {
     "name": "stdout",
     "output_type": "stream",
     "text": [
      "\t\t1000\t5.6667576\t0.00084798073\n",
      "\t\t2000\t3.556981\t0.00017618648\n",
      "\t\tFinal loss:\n",
      "\t\t2000\t3.556981\t0.00017618648\n",
      "\n",
      "\tReplicate: 1/1\n",
      "\t\tIter\tLoss\t\t\tRel. loss\n"
     ]
    },
    {
     "name": "stderr",
     "output_type": "stream",
     "text": [
      "c:\\Users\\trine\\anaconda3\\envs\\dtu02450\\Lib\\site-packages\\dtuimldmtools\\models\\nn_trainer.py:141: RuntimeWarning: overflow encountered in cast\n",
      "  if loss_value < best_final_loss:\n"
     ]
    },
    {
     "name": "stdout",
     "output_type": "stream",
     "text": [
      "\t\t1000\t3.8947423\t0.0010736677\n",
      "\t\t2000\t3.0166886\t5.097382e-05\n",
      "\t\tFinal loss:\n",
      "\t\t2000\t3.0166886\t5.097382e-05\n",
      "\n",
      "\tReplicate: 1/1\n",
      "\t\tIter\tLoss\t\t\tRel. loss\n"
     ]
    },
    {
     "name": "stderr",
     "output_type": "stream",
     "text": [
      "c:\\Users\\trine\\anaconda3\\envs\\dtu02450\\Lib\\site-packages\\dtuimldmtools\\models\\nn_trainer.py:141: RuntimeWarning: overflow encountered in cast\n",
      "  if loss_value < best_final_loss:\n"
     ]
    },
    {
     "name": "stdout",
     "output_type": "stream",
     "text": [
      "\t\t1000\t3.4495482\t0.0006538232\n",
      "\t\t2000\t2.922027\t7.277615e-05\n",
      "\t\tFinal loss:\n",
      "\t\t2000\t2.922027\t7.277615e-05\n",
      "\n",
      "\tReplicate: 1/1\n",
      "\t\tIter\tLoss\t\t\tRel. loss\n"
     ]
    },
    {
     "name": "stderr",
     "output_type": "stream",
     "text": [
      "c:\\Users\\trine\\anaconda3\\envs\\dtu02450\\Lib\\site-packages\\dtuimldmtools\\models\\nn_trainer.py:141: RuntimeWarning: overflow encountered in cast\n",
      "  if loss_value < best_final_loss:\n"
     ]
    },
    {
     "name": "stdout",
     "output_type": "stream",
     "text": [
      "\t\t1000\t2.8876636\t0.00018623089\n",
      "\t\t2000\t2.5790467\t9.946035e-05\n",
      "\t\tFinal loss:\n",
      "\t\t2000\t2.5790467\t9.946035e-05\n",
      "\n",
      "\tReplicate: 1/1\n",
      "\t\tIter\tLoss\t\t\tRel. loss\n"
     ]
    },
    {
     "name": "stderr",
     "output_type": "stream",
     "text": [
      "c:\\Users\\trine\\anaconda3\\envs\\dtu02450\\Lib\\site-packages\\dtuimldmtools\\models\\nn_trainer.py:141: RuntimeWarning: overflow encountered in cast\n",
      "  if loss_value < best_final_loss:\n"
     ]
    },
    {
     "name": "stdout",
     "output_type": "stream",
     "text": [
      "\t\t1000\t10.684647\t0.0011923824\n",
      "\t\t2000\t4.497518\t0.0005521771\n",
      "\t\tFinal loss:\n",
      "\t\t2000\t4.497518\t0.0005521771\n",
      "\n",
      "\tReplicate: 1/1\n",
      "\t\tIter\tLoss\t\t\tRel. loss\n"
     ]
    },
    {
     "name": "stderr",
     "output_type": "stream",
     "text": [
      "c:\\Users\\trine\\anaconda3\\envs\\dtu02450\\Lib\\site-packages\\dtuimldmtools\\models\\nn_trainer.py:141: RuntimeWarning: overflow encountered in cast\n",
      "  if loss_value < best_final_loss:\n"
     ]
    },
    {
     "name": "stdout",
     "output_type": "stream",
     "text": [
      "\t\t1000\t3.5537326\t0.0006633444\n",
      "\t\t2000\t2.9357908\t0.0001386892\n",
      "\t\tFinal loss:\n",
      "\t\t2000\t2.9357908\t0.0001386892\n",
      "\n",
      "\tReplicate: 1/1\n",
      "\t\tIter\tLoss\t\t\tRel. loss\n"
     ]
    },
    {
     "name": "stderr",
     "output_type": "stream",
     "text": [
      "c:\\Users\\trine\\anaconda3\\envs\\dtu02450\\Lib\\site-packages\\dtuimldmtools\\models\\nn_trainer.py:141: RuntimeWarning: overflow encountered in cast\n",
      "  if loss_value < best_final_loss:\n"
     ]
    },
    {
     "name": "stdout",
     "output_type": "stream",
     "text": [
      "\t\t1000\t3.0866203\t0.0003921613\n",
      "\t\t2000\t2.6895907\t9.998149e-05\n",
      "\t\tFinal loss:\n",
      "\t\t2000\t2.6895907\t9.998149e-05\n",
      "\n",
      "\tReplicate: 1/1\n",
      "\t\tIter\tLoss\t\t\tRel. loss\n"
     ]
    },
    {
     "name": "stderr",
     "output_type": "stream",
     "text": [
      "c:\\Users\\trine\\anaconda3\\envs\\dtu02450\\Lib\\site-packages\\dtuimldmtools\\models\\nn_trainer.py:141: RuntimeWarning: overflow encountered in cast\n",
      "  if loss_value < best_final_loss:\n"
     ]
    },
    {
     "name": "stdout",
     "output_type": "stream",
     "text": [
      "\t\t1000\t2.914483\t0.00064077484\n"
     ]
    },
    {
     "name": "stderr",
     "output_type": "stream",
     "text": [
      "c:\\Users\\trine\\anaconda3\\envs\\dtu02450\\Lib\\site-packages\\dtuimldmtools\\models\\nn_trainer.py:141: RuntimeWarning: overflow encountered in cast\n",
      "  if loss_value < best_final_loss:\n"
     ]
    },
    {
     "name": "stdout",
     "output_type": "stream",
     "text": [
      "\t\t2000\t2.4614441\t6.770144e-05\n",
      "\t\tFinal loss:\n",
      "\t\t2000\t2.4614441\t6.770144e-05\n",
      "\n",
      "\tReplicate: 1/1\n",
      "\t\tIter\tLoss\t\t\tRel. loss\n",
      "\t\t1000\t5.389856\t0.0008742855\n",
      "\t\t2000\t3.5488365\t0.00012346561\n",
      "\t\tFinal loss:\n",
      "\t\t2000\t3.5488365\t0.00012346561\n",
      "\n",
      "\tReplicate: 1/1\n",
      "\t\tIter\tLoss\t\t\tRel. loss\n"
     ]
    },
    {
     "name": "stderr",
     "output_type": "stream",
     "text": [
      "c:\\Users\\trine\\anaconda3\\envs\\dtu02450\\Lib\\site-packages\\dtuimldmtools\\models\\nn_trainer.py:141: RuntimeWarning: overflow encountered in cast\n",
      "  if loss_value < best_final_loss:\n"
     ]
    },
    {
     "name": "stdout",
     "output_type": "stream",
     "text": [
      "\t\t1000\t5.78523\t0.0015819147\n",
      "\t\t2000\t3.2937722\t0.00011551257\n",
      "\t\tFinal loss:\n",
      "\t\t2000\t3.2937722\t0.00011551257\n",
      "\n",
      "\tReplicate: 1/1\n",
      "\t\tIter\tLoss\t\t\tRel. loss\n"
     ]
    },
    {
     "name": "stderr",
     "output_type": "stream",
     "text": [
      "c:\\Users\\trine\\anaconda3\\envs\\dtu02450\\Lib\\site-packages\\dtuimldmtools\\models\\nn_trainer.py:141: RuntimeWarning: overflow encountered in cast\n",
      "  if loss_value < best_final_loss:\n"
     ]
    },
    {
     "name": "stdout",
     "output_type": "stream",
     "text": [
      "\t\t1000\t3.909346\t0.0010634537\n",
      "\t\t2000\t3.0100915\t0.00010755075\n",
      "\t\tFinal loss:\n",
      "\t\t2000\t3.0100915\t0.00010755075\n",
      "\n",
      "\tReplicate: 1/1\n",
      "\t\tIter\tLoss\t\t\tRel. loss\n"
     ]
    },
    {
     "name": "stderr",
     "output_type": "stream",
     "text": [
      "c:\\Users\\trine\\anaconda3\\envs\\dtu02450\\Lib\\site-packages\\dtuimldmtools\\models\\nn_trainer.py:141: RuntimeWarning: overflow encountered in cast\n",
      "  if loss_value < best_final_loss:\n"
     ]
    },
    {
     "name": "stdout",
     "output_type": "stream",
     "text": [
      "\t\t1000\t3.2617779\t0.00046926676\n",
      "\t\t2000\t2.6747248\t7.38005e-05\n",
      "\t\tFinal loss:\n",
      "\t\t2000\t2.6747248\t7.38005e-05\n",
      "\n",
      "\tReplicate: 1/1\n",
      "\t\tIter\tLoss\t\t\tRel. loss\n"
     ]
    },
    {
     "name": "stderr",
     "output_type": "stream",
     "text": [
      "c:\\Users\\trine\\anaconda3\\envs\\dtu02450\\Lib\\site-packages\\dtuimldmtools\\models\\nn_trainer.py:141: RuntimeWarning: overflow encountered in cast\n",
      "  if loss_value < best_final_loss:\n"
     ]
    },
    {
     "name": "stdout",
     "output_type": "stream",
     "text": [
      "\t\t1000\t7.382852\t0.00084737485\n",
      "\t\t2000\t4.220028\t0.00029606916\n",
      "\t\tFinal loss:\n",
      "\t\t2000\t4.220028\t0.00029606916\n",
      "\n",
      "\tReplicate: 1/1\n",
      "\t\tIter\tLoss\t\t\tRel. loss\n"
     ]
    },
    {
     "name": "stderr",
     "output_type": "stream",
     "text": [
      "c:\\Users\\trine\\anaconda3\\envs\\dtu02450\\Lib\\site-packages\\dtuimldmtools\\models\\nn_trainer.py:141: RuntimeWarning: overflow encountered in cast\n",
      "  if loss_value < best_final_loss:\n"
     ]
    },
    {
     "name": "stdout",
     "output_type": "stream",
     "text": [
      "\t\t1000\t9.934169\t0.0021366915\n",
      "\t\t2000\t3.6267254\t0.00022372669\n",
      "\t\tFinal loss:\n",
      "\t\t2000\t3.6267254\t0.00022372669\n",
      "\n",
      "\tReplicate: 1/1\n",
      "\t\tIter\tLoss\t\t\tRel. loss\n"
     ]
    },
    {
     "name": "stderr",
     "output_type": "stream",
     "text": [
      "c:\\Users\\trine\\anaconda3\\envs\\dtu02450\\Lib\\site-packages\\dtuimldmtools\\models\\nn_trainer.py:141: RuntimeWarning: overflow encountered in cast\n",
      "  if loss_value < best_final_loss:\n"
     ]
    },
    {
     "name": "stdout",
     "output_type": "stream",
     "text": [
      "\t\t1000\t3.6250443\t0.0008304432\n",
      "\t\t2000\t3.0429366\t4.434497e-05\n",
      "\t\tFinal loss:\n",
      "\t\t2000\t3.0429366\t4.434497e-05\n",
      "\n",
      "\tReplicate: 1/1\n",
      "\t\tIter\tLoss\t\t\tRel. loss\n"
     ]
    },
    {
     "name": "stderr",
     "output_type": "stream",
     "text": [
      "c:\\Users\\trine\\anaconda3\\envs\\dtu02450\\Lib\\site-packages\\dtuimldmtools\\models\\nn_trainer.py:141: RuntimeWarning: overflow encountered in cast\n",
      "  if loss_value < best_final_loss:\n"
     ]
    },
    {
     "name": "stdout",
     "output_type": "stream",
     "text": [
      "\t\t1000\t3.3539267\t0.00032909279\n",
      "\t\t2000\t2.8990517\t9.6129545e-05\n",
      "\t\tFinal loss:\n",
      "\t\t2000\t2.8990517\t9.6129545e-05\n",
      "\n",
      "\tReplicate: 1/1\n",
      "\t\tIter\tLoss\t\t\tRel. loss\n"
     ]
    },
    {
     "name": "stderr",
     "output_type": "stream",
     "text": [
      "c:\\Users\\trine\\anaconda3\\envs\\dtu02450\\Lib\\site-packages\\dtuimldmtools\\models\\nn_trainer.py:141: RuntimeWarning: overflow encountered in cast\n",
      "  if loss_value < best_final_loss:\n"
     ]
    },
    {
     "name": "stdout",
     "output_type": "stream",
     "text": [
      "\t\t1000\t6.136082\t0.00090349844\n",
      "\t\t2000\t3.780468\t0.00018512718\n",
      "\t\tFinal loss:\n",
      "\t\t2000\t3.780468\t0.00018512718\n",
      "\n",
      "\tReplicate: 1/1\n",
      "\t\tIter\tLoss\t\t\tRel. loss\n"
     ]
    },
    {
     "name": "stderr",
     "output_type": "stream",
     "text": [
      "c:\\Users\\trine\\anaconda3\\envs\\dtu02450\\Lib\\site-packages\\dtuimldmtools\\models\\nn_trainer.py:141: RuntimeWarning: overflow encountered in cast\n",
      "  if loss_value < best_final_loss:\n"
     ]
    },
    {
     "name": "stdout",
     "output_type": "stream",
     "text": [
      "\t\t1000\t6.4634624\t0.0012468515\n",
      "\t\t2000\t3.5493476\t0.00022054586\n",
      "\t\tFinal loss:\n",
      "\t\t2000\t3.5493476\t0.00022054586\n",
      "\n",
      "\tReplicate: 1/1\n",
      "\t\tIter\tLoss\t\t\tRel. loss\n"
     ]
    },
    {
     "name": "stderr",
     "output_type": "stream",
     "text": [
      "c:\\Users\\trine\\anaconda3\\envs\\dtu02450\\Lib\\site-packages\\dtuimldmtools\\models\\nn_trainer.py:141: RuntimeWarning: overflow encountered in cast\n",
      "  if loss_value < best_final_loss:\n"
     ]
    },
    {
     "name": "stdout",
     "output_type": "stream",
     "text": [
      "\t\t1000\t4.2305374\t0.0014951553\n",
      "\t\t2000\t3.0300643\t0.00010518988\n",
      "\t\tFinal loss:\n",
      "\t\t2000\t3.0300643\t0.00010518988\n",
      "\n",
      "\tReplicate: 1/1\n",
      "\t\tIter\tLoss\t\t\tRel. loss\n"
     ]
    },
    {
     "name": "stderr",
     "output_type": "stream",
     "text": [
      "c:\\Users\\trine\\anaconda3\\envs\\dtu02450\\Lib\\site-packages\\dtuimldmtools\\models\\nn_trainer.py:141: RuntimeWarning: overflow encountered in cast\n",
      "  if loss_value < best_final_loss:\n"
     ]
    },
    {
     "name": "stdout",
     "output_type": "stream",
     "text": [
      "\t\t1000\t3.4758763\t0.0006709316\n",
      "\t\t2000\t2.7974453\t0.000113509814\n",
      "\t\tFinal loss:\n",
      "\t\t2000\t2.7974453\t0.000113509814\n",
      "\n",
      "\tReplicate: 1/1\n",
      "\t\tIter\tLoss\t\t\tRel. loss\n"
     ]
    },
    {
     "name": "stderr",
     "output_type": "stream",
     "text": [
      "c:\\Users\\trine\\anaconda3\\envs\\dtu02450\\Lib\\site-packages\\dtuimldmtools\\models\\nn_trainer.py:141: RuntimeWarning: overflow encountered in cast\n",
      "  if loss_value < best_final_loss:\n"
     ]
    },
    {
     "name": "stdout",
     "output_type": "stream",
     "text": [
      "\t\t1000\t6.7431927\t0.0010339685\n",
      "\t\t2000\t3.72937\t0.00024140527\n",
      "\t\tFinal loss:\n",
      "\t\t2000\t3.72937\t0.00024140527\n",
      "Outer fold 4/10\n",
      "\n",
      "\tReplicate: 1/1\n",
      "\t\tIter\tLoss\t\t\tRel. loss\n"
     ]
    },
    {
     "name": "stderr",
     "output_type": "stream",
     "text": [
      "c:\\Users\\trine\\anaconda3\\envs\\dtu02450\\Lib\\site-packages\\dtuimldmtools\\models\\nn_trainer.py:141: RuntimeWarning: overflow encountered in cast\n",
      "  if loss_value < best_final_loss:\n"
     ]
    },
    {
     "name": "stdout",
     "output_type": "stream",
     "text": [
      "\t\t1000\t14.618945\t0.00092438\n",
      "\t\t2000\t6.5759864\t0.0006444326\n",
      "\t\tFinal loss:\n",
      "\t\t2000\t6.5759864\t0.0006444326\n",
      "\n",
      "\tReplicate: 1/1\n",
      "\t\tIter\tLoss\t\t\tRel. loss\n"
     ]
    },
    {
     "name": "stderr",
     "output_type": "stream",
     "text": [
      "c:\\Users\\trine\\anaconda3\\envs\\dtu02450\\Lib\\site-packages\\dtuimldmtools\\models\\nn_trainer.py:141: RuntimeWarning: overflow encountered in cast\n",
      "  if loss_value < best_final_loss:\n"
     ]
    },
    {
     "name": "stdout",
     "output_type": "stream",
     "text": [
      "\t\t1000\t5.0510216\t0.0010815497\n",
      "\t\t2000\t3.3834927\t6.813523e-05\n",
      "\t\tFinal loss:\n",
      "\t\t2000\t3.3834927\t6.813523e-05\n",
      "\n",
      "\tReplicate: 1/1\n",
      "\t\tIter\tLoss\t\t\tRel. loss\n"
     ]
    },
    {
     "name": "stderr",
     "output_type": "stream",
     "text": [
      "c:\\Users\\trine\\anaconda3\\envs\\dtu02450\\Lib\\site-packages\\dtuimldmtools\\models\\nn_trainer.py:141: RuntimeWarning: overflow encountered in cast\n",
      "  if loss_value < best_final_loss:\n"
     ]
    },
    {
     "name": "stdout",
     "output_type": "stream",
     "text": [
      "\t\t1000\t3.926874\t0.0008403119\n",
      "\t\t2000\t3.0411325\t7.878374e-05\n",
      "\t\tFinal loss:\n",
      "\t\t2000\t3.0411325\t7.878374e-05\n",
      "\n",
      "\tReplicate: 1/1\n",
      "\t\tIter\tLoss\t\t\tRel. loss\n"
     ]
    },
    {
     "name": "stderr",
     "output_type": "stream",
     "text": [
      "c:\\Users\\trine\\anaconda3\\envs\\dtu02450\\Lib\\site-packages\\dtuimldmtools\\models\\nn_trainer.py:141: RuntimeWarning: overflow encountered in cast\n",
      "  if loss_value < best_final_loss:\n"
     ]
    },
    {
     "name": "stdout",
     "output_type": "stream",
     "text": [
      "\t\t1000\t3.1656027\t0.00024049947\n",
      "\t\t2000\t2.7974074\t6.724069e-05\n",
      "\t\tFinal loss:\n",
      "\t\t2000\t2.7974074\t6.724069e-05\n",
      "\n",
      "\tReplicate: 1/1\n",
      "\t\tIter\tLoss\t\t\tRel. loss\n"
     ]
    },
    {
     "name": "stderr",
     "output_type": "stream",
     "text": [
      "c:\\Users\\trine\\anaconda3\\envs\\dtu02450\\Lib\\site-packages\\dtuimldmtools\\models\\nn_trainer.py:141: RuntimeWarning: overflow encountered in cast\n",
      "  if loss_value < best_final_loss:\n"
     ]
    },
    {
     "name": "stdout",
     "output_type": "stream",
     "text": [
      "\t\t1000\t7.4792047\t0.0011582976\n",
      "\t\t2000\t3.876436\t0.0002913238\n",
      "\t\tFinal loss:\n",
      "\t\t2000\t3.876436\t0.0002913238\n",
      "\n",
      "\tReplicate: 1/1\n",
      "\t\tIter\tLoss\t\t\tRel. loss\n"
     ]
    },
    {
     "name": "stderr",
     "output_type": "stream",
     "text": [
      "c:\\Users\\trine\\anaconda3\\envs\\dtu02450\\Lib\\site-packages\\dtuimldmtools\\models\\nn_trainer.py:141: RuntimeWarning: overflow encountered in cast\n",
      "  if loss_value < best_final_loss:\n"
     ]
    },
    {
     "name": "stdout",
     "output_type": "stream",
     "text": [
      "\t\t1000\t4.730862\t0.0012432443\n",
      "\t\t2000\t3.2320223\t8.991464e-05\n",
      "\t\tFinal loss:\n",
      "\t\t2000\t3.2320223\t8.991464e-05\n",
      "\n",
      "\tReplicate: 1/1\n",
      "\t\tIter\tLoss\t\t\tRel. loss\n"
     ]
    },
    {
     "name": "stderr",
     "output_type": "stream",
     "text": [
      "c:\\Users\\trine\\anaconda3\\envs\\dtu02450\\Lib\\site-packages\\dtuimldmtools\\models\\nn_trainer.py:141: RuntimeWarning: overflow encountered in cast\n",
      "  if loss_value < best_final_loss:\n"
     ]
    },
    {
     "name": "stdout",
     "output_type": "stream",
     "text": [
      "\t\t1000\t3.81709\t0.00083777163\n",
      "\t\t2000\t3.0358775\t5.606989e-05\n",
      "\t\tFinal loss:\n",
      "\t\t2000\t3.0358775\t5.606989e-05\n",
      "\n",
      "\tReplicate: 1/1\n",
      "\t\tIter\tLoss\t\t\tRel. loss\n"
     ]
    },
    {
     "name": "stderr",
     "output_type": "stream",
     "text": [
      "c:\\Users\\trine\\anaconda3\\envs\\dtu02450\\Lib\\site-packages\\dtuimldmtools\\models\\nn_trainer.py:141: RuntimeWarning: overflow encountered in cast\n",
      "  if loss_value < best_final_loss:\n"
     ]
    },
    {
     "name": "stdout",
     "output_type": "stream",
     "text": [
      "\t\t1000\t2.988785\t0.00022801348\n",
      "\t\t2000\t2.6101775\t6.923237e-05\n",
      "\t\tFinal loss:\n",
      "\t\t2000\t2.6101775\t6.923237e-05\n",
      "\n",
      "\tReplicate: 1/1\n",
      "\t\tIter\tLoss\t\t\tRel. loss\n"
     ]
    },
    {
     "name": "stderr",
     "output_type": "stream",
     "text": [
      "c:\\Users\\trine\\anaconda3\\envs\\dtu02450\\Lib\\site-packages\\dtuimldmtools\\models\\nn_trainer.py:141: RuntimeWarning: overflow encountered in cast\n",
      "  if loss_value < best_final_loss:\n"
     ]
    },
    {
     "name": "stdout",
     "output_type": "stream",
     "text": [
      "\t\t1000\t13.649125\t0.00094759633\n",
      "\t\t2000\t6.264951\t0.00057697546\n",
      "\t\tFinal loss:\n",
      "\t\t2000\t6.264951\t0.00057697546\n",
      "\n",
      "\tReplicate: 1/1\n",
      "\t\tIter\tLoss\t\t\tRel. loss\n"
     ]
    },
    {
     "name": "stderr",
     "output_type": "stream",
     "text": [
      "c:\\Users\\trine\\anaconda3\\envs\\dtu02450\\Lib\\site-packages\\dtuimldmtools\\models\\nn_trainer.py:141: RuntimeWarning: overflow encountered in cast\n",
      "  if loss_value < best_final_loss:\n"
     ]
    },
    {
     "name": "stdout",
     "output_type": "stream",
     "text": [
      "\t\t1000\t8.077416\t0.0014549418\n",
      "\t\t2000\t4.0190864\t0.0001782889\n",
      "\t\tFinal loss:\n",
      "\t\t2000\t4.0190864\t0.0001782889\n",
      "\n",
      "\tReplicate: 1/1\n",
      "\t\tIter\tLoss\t\t\tRel. loss\n"
     ]
    },
    {
     "name": "stderr",
     "output_type": "stream",
     "text": [
      "c:\\Users\\trine\\anaconda3\\envs\\dtu02450\\Lib\\site-packages\\dtuimldmtools\\models\\nn_trainer.py:141: RuntimeWarning: overflow encountered in cast\n",
      "  if loss_value < best_final_loss:\n"
     ]
    },
    {
     "name": "stdout",
     "output_type": "stream",
     "text": [
      "\t\t1000\t3.7585795\t0.00049028813\n",
      "\t\t2000\t3.2448266\t4.1806394e-05\n",
      "\t\tFinal loss:\n",
      "\t\t2000\t3.2448266\t4.1806394e-05\n",
      "\n",
      "\tReplicate: 1/1\n",
      "\t\tIter\tLoss\t\t\tRel. loss\n"
     ]
    },
    {
     "name": "stderr",
     "output_type": "stream",
     "text": [
      "c:\\Users\\trine\\anaconda3\\envs\\dtu02450\\Lib\\site-packages\\dtuimldmtools\\models\\nn_trainer.py:141: RuntimeWarning: overflow encountered in cast\n",
      "  if loss_value < best_final_loss:\n"
     ]
    },
    {
     "name": "stdout",
     "output_type": "stream",
     "text": [
      "\t\t1000\t3.527997\t0.0004517643\n",
      "\t\t2000\t3.1123304\t5.8599024e-05\n",
      "\t\tFinal loss:\n",
      "\t\t2000\t3.1123304\t5.8599024e-05\n",
      "\n",
      "\tReplicate: 1/1\n",
      "\t\tIter\tLoss\t\t\tRel. loss\n"
     ]
    },
    {
     "name": "stderr",
     "output_type": "stream",
     "text": [
      "c:\\Users\\trine\\anaconda3\\envs\\dtu02450\\Lib\\site-packages\\dtuimldmtools\\models\\nn_trainer.py:141: RuntimeWarning: overflow encountered in cast\n",
      "  if loss_value < best_final_loss:\n"
     ]
    },
    {
     "name": "stdout",
     "output_type": "stream",
     "text": [
      "\t\t1000\t7.375956\t0.0011127017\n",
      "\t\t2000\t4.1513567\t0.00021015506\n",
      "\t\tFinal loss:\n",
      "\t\t2000\t4.1513567\t0.00021015506\n",
      "\n",
      "\tReplicate: 1/1\n",
      "\t\tIter\tLoss\t\t\tRel. loss\n"
     ]
    },
    {
     "name": "stderr",
     "output_type": "stream",
     "text": [
      "c:\\Users\\trine\\anaconda3\\envs\\dtu02450\\Lib\\site-packages\\dtuimldmtools\\models\\nn_trainer.py:141: RuntimeWarning: overflow encountered in cast\n",
      "  if loss_value < best_final_loss:\n"
     ]
    },
    {
     "name": "stdout",
     "output_type": "stream",
     "text": [
      "\t\t1000\t5.7074175\t0.0011099407\n",
      "\t\t2000\t3.783122\t0.00014889798\n",
      "\t\tFinal loss:\n",
      "\t\t2000\t3.783122\t0.00014889798\n",
      "\n",
      "\tReplicate: 1/1\n",
      "\t\tIter\tLoss\t\t\tRel. loss\n"
     ]
    },
    {
     "name": "stderr",
     "output_type": "stream",
     "text": [
      "c:\\Users\\trine\\anaconda3\\envs\\dtu02450\\Lib\\site-packages\\dtuimldmtools\\models\\nn_trainer.py:141: RuntimeWarning: overflow encountered in cast\n",
      "  if loss_value < best_final_loss:\n"
     ]
    },
    {
     "name": "stdout",
     "output_type": "stream",
     "text": [
      "\t\t1000\t3.8866432\t0.00037282673\n",
      "\t\t2000\t3.3775287\t9.189928e-05\n",
      "\t\tFinal loss:\n",
      "\t\t2000\t3.3775287\t9.189928e-05\n",
      "\n",
      "\tReplicate: 1/1\n",
      "\t\tIter\tLoss\t\t\tRel. loss\n"
     ]
    },
    {
     "name": "stderr",
     "output_type": "stream",
     "text": [
      "c:\\Users\\trine\\anaconda3\\envs\\dtu02450\\Lib\\site-packages\\dtuimldmtools\\models\\nn_trainer.py:141: RuntimeWarning: overflow encountered in cast\n",
      "  if loss_value < best_final_loss:\n"
     ]
    },
    {
     "name": "stdout",
     "output_type": "stream",
     "text": [
      "\t\t1000\t3.6568902\t0.00027655473\n",
      "\t\t2000\t3.1558177\t7.932006e-05\n",
      "\t\tFinal loss:\n",
      "\t\t2000\t3.1558177\t7.932006e-05\n",
      "\n",
      "\tReplicate: 1/1\n",
      "\t\tIter\tLoss\t\t\tRel. loss\n"
     ]
    },
    {
     "name": "stderr",
     "output_type": "stream",
     "text": [
      "c:\\Users\\trine\\anaconda3\\envs\\dtu02450\\Lib\\site-packages\\dtuimldmtools\\models\\nn_trainer.py:141: RuntimeWarning: overflow encountered in cast\n",
      "  if loss_value < best_final_loss:\n"
     ]
    },
    {
     "name": "stdout",
     "output_type": "stream",
     "text": [
      "\t\t1000\t13.116503\t0.0008316686\n",
      "\t\t2000\t6.4335203\t0.0005559434\n",
      "\t\tFinal loss:\n",
      "\t\t2000\t6.4335203\t0.0005559434\n",
      "\n",
      "\tReplicate: 1/1\n",
      "\t\tIter\tLoss\t\t\tRel. loss\n"
     ]
    },
    {
     "name": "stderr",
     "output_type": "stream",
     "text": [
      "c:\\Users\\trine\\anaconda3\\envs\\dtu02450\\Lib\\site-packages\\dtuimldmtools\\models\\nn_trainer.py:141: RuntimeWarning: overflow encountered in cast\n",
      "  if loss_value < best_final_loss:\n"
     ]
    },
    {
     "name": "stdout",
     "output_type": "stream",
     "text": [
      "\t\t1000\t5.5941978\t0.001218097\n",
      "\t\t2000\t3.6396704\t0.00010014794\n",
      "\t\tFinal loss:\n",
      "\t\t2000\t3.6396704\t0.00010014794\n",
      "\n",
      "\tReplicate: 1/1\n",
      "\t\tIter\tLoss\t\t\tRel. loss\n"
     ]
    },
    {
     "name": "stderr",
     "output_type": "stream",
     "text": [
      "c:\\Users\\trine\\anaconda3\\envs\\dtu02450\\Lib\\site-packages\\dtuimldmtools\\models\\nn_trainer.py:141: RuntimeWarning: overflow encountered in cast\n",
      "  if loss_value < best_final_loss:\n"
     ]
    },
    {
     "name": "stdout",
     "output_type": "stream",
     "text": [
      "\t\t1000\t4.234257\t0.0010267737\n",
      "\t\t2000\t3.183771\t6.36487e-05\n",
      "\t\tFinal loss:\n",
      "\t\t2000\t3.183771\t6.36487e-05\n",
      "\n",
      "\tReplicate: 1/1\n",
      "\t\tIter\tLoss\t\t\tRel. loss\n"
     ]
    },
    {
     "name": "stderr",
     "output_type": "stream",
     "text": [
      "c:\\Users\\trine\\anaconda3\\envs\\dtu02450\\Lib\\site-packages\\dtuimldmtools\\models\\nn_trainer.py:141: RuntimeWarning: overflow encountered in cast\n",
      "  if loss_value < best_final_loss:\n"
     ]
    },
    {
     "name": "stdout",
     "output_type": "stream",
     "text": [
      "\t\t1000\t3.5929055\t0.0006582375\n",
      "\t\t2000\t2.9999208\t7.772047e-05\n",
      "\t\tFinal loss:\n",
      "\t\t2000\t2.9999208\t7.772047e-05\n",
      "\n",
      "\tReplicate: 1/1\n",
      "\t\tIter\tLoss\t\t\tRel. loss\n"
     ]
    },
    {
     "name": "stderr",
     "output_type": "stream",
     "text": [
      "c:\\Users\\trine\\anaconda3\\envs\\dtu02450\\Lib\\site-packages\\dtuimldmtools\\models\\nn_trainer.py:141: RuntimeWarning: overflow encountered in cast\n",
      "  if loss_value < best_final_loss:\n"
     ]
    },
    {
     "name": "stdout",
     "output_type": "stream",
     "text": [
      "\t\t1000\t8.325926\t0.0014606885\n",
      "\t\t2000\t4.084201\t0.00025387036\n",
      "\t\tFinal loss:\n",
      "\t\t2000\t4.084201\t0.00025387036\n",
      "Outer fold 5/10\n",
      "\n",
      "\tReplicate: 1/1\n",
      "\t\tIter\tLoss\t\t\tRel. loss\n"
     ]
    },
    {
     "name": "stderr",
     "output_type": "stream",
     "text": [
      "c:\\Users\\trine\\anaconda3\\envs\\dtu02450\\Lib\\site-packages\\dtuimldmtools\\models\\nn_trainer.py:141: RuntimeWarning: overflow encountered in cast\n",
      "  if loss_value < best_final_loss:\n"
     ]
    },
    {
     "name": "stdout",
     "output_type": "stream",
     "text": [
      "\t\t1000\t10.196219\t0.0010863169\n",
      "\t\t2000\t4.5688286\t0.0005094711\n",
      "\t\tFinal loss:\n",
      "\t\t2000\t4.5688286\t0.0005094711\n",
      "\n",
      "\tReplicate: 1/1\n",
      "\t\tIter\tLoss\t\t\tRel. loss\n"
     ]
    },
    {
     "name": "stderr",
     "output_type": "stream",
     "text": [
      "c:\\Users\\trine\\anaconda3\\envs\\dtu02450\\Lib\\site-packages\\dtuimldmtools\\models\\nn_trainer.py:141: RuntimeWarning: overflow encountered in cast\n",
      "  if loss_value < best_final_loss:\n"
     ]
    },
    {
     "name": "stdout",
     "output_type": "stream",
     "text": [
      "\t\t1000\t4.0115285\t0.0010586935\n",
      "\t\t2000\t3.0443463\t5.3094882e-05\n",
      "\t\tFinal loss:\n",
      "\t\t2000\t3.0443463\t5.3094882e-05\n",
      "\n",
      "\tReplicate: 1/1\n",
      "\t\tIter\tLoss\t\t\tRel. loss\n"
     ]
    },
    {
     "name": "stderr",
     "output_type": "stream",
     "text": [
      "c:\\Users\\trine\\anaconda3\\envs\\dtu02450\\Lib\\site-packages\\dtuimldmtools\\models\\nn_trainer.py:141: RuntimeWarning: overflow encountered in cast\n",
      "  if loss_value < best_final_loss:\n"
     ]
    },
    {
     "name": "stdout",
     "output_type": "stream",
     "text": [
      "\t\t1000\t3.8949218\t0.0010526669\n",
      "\t\t2000\t2.9451132\t0.0001072525\n",
      "\t\tFinal loss:\n",
      "\t\t2000\t2.9451132\t0.0001072525\n",
      "\n",
      "\tReplicate: 1/1\n",
      "\t\tIter\tLoss\t\t\tRel. loss\n"
     ]
    },
    {
     "name": "stderr",
     "output_type": "stream",
     "text": [
      "c:\\Users\\trine\\anaconda3\\envs\\dtu02450\\Lib\\site-packages\\dtuimldmtools\\models\\nn_trainer.py:141: RuntimeWarning: overflow encountered in cast\n",
      "  if loss_value < best_final_loss:\n"
     ]
    },
    {
     "name": "stdout",
     "output_type": "stream",
     "text": [
      "\t\t1000\t3.272911\t0.00082095584\n",
      "\t\t2000\t2.6983902\t7.297661e-05\n",
      "\t\tFinal loss:\n",
      "\t\t2000\t2.6983902\t7.297661e-05\n",
      "\n",
      "\tReplicate: 1/1\n",
      "\t\tIter\tLoss\t\t\tRel. loss\n"
     ]
    },
    {
     "name": "stderr",
     "output_type": "stream",
     "text": [
      "c:\\Users\\trine\\anaconda3\\envs\\dtu02450\\Lib\\site-packages\\dtuimldmtools\\models\\nn_trainer.py:141: RuntimeWarning: overflow encountered in cast\n",
      "  if loss_value < best_final_loss:\n"
     ]
    },
    {
     "name": "stdout",
     "output_type": "stream",
     "text": [
      "\t\t1000\t5.582174\t0.00080009963\n",
      "\t\t2000\t3.7310183\t0.000137306\n",
      "\t\tFinal loss:\n",
      "\t\t2000\t3.7310183\t0.000137306\n",
      "\n",
      "\tReplicate: 1/1\n",
      "\t\tIter\tLoss\t\t\tRel. loss\n"
     ]
    },
    {
     "name": "stderr",
     "output_type": "stream",
     "text": [
      "c:\\Users\\trine\\anaconda3\\envs\\dtu02450\\Lib\\site-packages\\dtuimldmtools\\models\\nn_trainer.py:141: RuntimeWarning: overflow encountered in cast\n",
      "  if loss_value < best_final_loss:\n"
     ]
    },
    {
     "name": "stdout",
     "output_type": "stream",
     "text": [
      "\t\t1000\t5.68503\t0.0012284457\n",
      "\t\t2000\t3.4376042\t0.00011844607\n",
      "\t\tFinal loss:\n",
      "\t\t2000\t3.4376042\t0.00011844607\n",
      "\n",
      "\tReplicate: 1/1\n",
      "\t\tIter\tLoss\t\t\tRel. loss\n"
     ]
    },
    {
     "name": "stderr",
     "output_type": "stream",
     "text": [
      "c:\\Users\\trine\\anaconda3\\envs\\dtu02450\\Lib\\site-packages\\dtuimldmtools\\models\\nn_trainer.py:141: RuntimeWarning: overflow encountered in cast\n",
      "  if loss_value < best_final_loss:\n"
     ]
    },
    {
     "name": "stdout",
     "output_type": "stream",
     "text": [
      "\t\t1000\t3.9904177\t0.0009605973\n",
      "\t\t2000\t3.2281146\t7.968526e-05\n",
      "\t\tFinal loss:\n",
      "\t\t2000\t3.2281146\t7.968526e-05\n",
      "\n",
      "\tReplicate: 1/1\n",
      "\t\tIter\tLoss\t\t\tRel. loss\n"
     ]
    },
    {
     "name": "stderr",
     "output_type": "stream",
     "text": [
      "c:\\Users\\trine\\anaconda3\\envs\\dtu02450\\Lib\\site-packages\\dtuimldmtools\\models\\nn_trainer.py:141: RuntimeWarning: overflow encountered in cast\n",
      "  if loss_value < best_final_loss:\n"
     ]
    },
    {
     "name": "stdout",
     "output_type": "stream",
     "text": [
      "\t\t1000\t3.2198064\t0.00017723827\n",
      "\t\t2000\t2.9146154\t6.862637e-05\n",
      "\t\tFinal loss:\n",
      "\t\t2000\t2.9146154\t6.862637e-05\n",
      "\n",
      "\tReplicate: 1/1\n",
      "\t\tIter\tLoss\t\t\tRel. loss\n"
     ]
    },
    {
     "name": "stderr",
     "output_type": "stream",
     "text": [
      "c:\\Users\\trine\\anaconda3\\envs\\dtu02450\\Lib\\site-packages\\dtuimldmtools\\models\\nn_trainer.py:141: RuntimeWarning: overflow encountered in cast\n",
      "  if loss_value < best_final_loss:\n"
     ]
    },
    {
     "name": "stdout",
     "output_type": "stream",
     "text": [
      "\t\t1000\t14.5746355\t0.0008789193\n",
      "\t\t2000\t6.8051033\t0.00061498093\n",
      "\t\tFinal loss:\n",
      "\t\t2000\t6.8051033\t0.00061498093\n",
      "\n",
      "\tReplicate: 1/1\n",
      "\t\tIter\tLoss\t\t\tRel. loss\n"
     ]
    },
    {
     "name": "stderr",
     "output_type": "stream",
     "text": [
      "c:\\Users\\trine\\anaconda3\\envs\\dtu02450\\Lib\\site-packages\\dtuimldmtools\\models\\nn_trainer.py:141: RuntimeWarning: overflow encountered in cast\n",
      "  if loss_value < best_final_loss:\n"
     ]
    },
    {
     "name": "stdout",
     "output_type": "stream",
     "text": [
      "\t\t1000\t4.8841767\t0.0015648828\n",
      "\t\t2000\t3.3431642\t8.164929e-05\n",
      "\t\tFinal loss:\n",
      "\t\t2000\t3.3431642\t8.164929e-05\n",
      "\n",
      "\tReplicate: 1/1\n",
      "\t\tIter\tLoss\t\t\tRel. loss\n"
     ]
    },
    {
     "name": "stderr",
     "output_type": "stream",
     "text": [
      "c:\\Users\\trine\\anaconda3\\envs\\dtu02450\\Lib\\site-packages\\dtuimldmtools\\models\\nn_trainer.py:141: RuntimeWarning: overflow encountered in cast\n",
      "  if loss_value < best_final_loss:\n"
     ]
    },
    {
     "name": "stdout",
     "output_type": "stream",
     "text": [
      "\t\t1000\t3.9848633\t0.0007686566\n",
      "\t\t2000\t3.2944086\t4.6242723e-05\n",
      "\t\tFinal loss:\n",
      "\t\t2000\t3.2944086\t4.6242723e-05\n",
      "\n",
      "\tReplicate: 1/1\n",
      "\t\tIter\tLoss\t\t\tRel. loss\n"
     ]
    },
    {
     "name": "stderr",
     "output_type": "stream",
     "text": [
      "c:\\Users\\trine\\anaconda3\\envs\\dtu02450\\Lib\\site-packages\\dtuimldmtools\\models\\nn_trainer.py:141: RuntimeWarning: overflow encountered in cast\n",
      "  if loss_value < best_final_loss:\n"
     ]
    },
    {
     "name": "stdout",
     "output_type": "stream",
     "text": [
      "\t\t1000\t3.6094842\t0.0007755251\n",
      "\t\t2000\t3.0367024\t6.131437e-05\n",
      "\t\tFinal loss:\n",
      "\t\t2000\t3.0367024\t6.131437e-05\n",
      "\n",
      "\tReplicate: 1/1\n",
      "\t\tIter\tLoss\t\t\tRel. loss\n"
     ]
    },
    {
     "name": "stderr",
     "output_type": "stream",
     "text": [
      "c:\\Users\\trine\\anaconda3\\envs\\dtu02450\\Lib\\site-packages\\dtuimldmtools\\models\\nn_trainer.py:141: RuntimeWarning: overflow encountered in cast\n",
      "  if loss_value < best_final_loss:\n"
     ]
    },
    {
     "name": "stdout",
     "output_type": "stream",
     "text": [
      "\t\t1000\t9.388531\t0.001189897\n",
      "\t\t2000\t4.282002\t0.00040651578\n",
      "\t\tFinal loss:\n",
      "\t\t2000\t4.282002\t0.00040651578\n",
      "\n",
      "\tReplicate: 1/1\n",
      "\t\tIter\tLoss\t\t\tRel. loss\n"
     ]
    },
    {
     "name": "stderr",
     "output_type": "stream",
     "text": [
      "c:\\Users\\trine\\anaconda3\\envs\\dtu02450\\Lib\\site-packages\\dtuimldmtools\\models\\nn_trainer.py:141: RuntimeWarning: overflow encountered in cast\n",
      "  if loss_value < best_final_loss:\n"
     ]
    },
    {
     "name": "stdout",
     "output_type": "stream",
     "text": [
      "\t\t1000\t4.0166926\t0.0008557876\n",
      "\t\t2000\t3.2243094\t5.2793283e-05\n",
      "\t\tFinal loss:\n",
      "\t\t2000\t3.2243094\t5.2793283e-05\n",
      "\n",
      "\tReplicate: 1/1\n",
      "\t\tIter\tLoss\t\t\tRel. loss\n"
     ]
    },
    {
     "name": "stderr",
     "output_type": "stream",
     "text": [
      "c:\\Users\\trine\\anaconda3\\envs\\dtu02450\\Lib\\site-packages\\dtuimldmtools\\models\\nn_trainer.py:141: RuntimeWarning: overflow encountered in cast\n",
      "  if loss_value < best_final_loss:\n"
     ]
    },
    {
     "name": "stdout",
     "output_type": "stream",
     "text": [
      "\t\t1000\t3.5132775\t0.00042687423\n",
      "\t\t2000\t2.9484684\t9.831833e-05\n",
      "\t\tFinal loss:\n",
      "\t\t2000\t2.9484684\t9.831833e-05\n",
      "\n",
      "\tReplicate: 1/1\n",
      "\t\tIter\tLoss\t\t\tRel. loss\n"
     ]
    },
    {
     "name": "stderr",
     "output_type": "stream",
     "text": [
      "c:\\Users\\trine\\anaconda3\\envs\\dtu02450\\Lib\\site-packages\\dtuimldmtools\\models\\nn_trainer.py:141: RuntimeWarning: overflow encountered in cast\n",
      "  if loss_value < best_final_loss:\n"
     ]
    },
    {
     "name": "stdout",
     "output_type": "stream",
     "text": [
      "\t\t1000\t3.3178692\t0.00021825983\n",
      "\t\t2000\t2.8081348\t9.049822e-05\n",
      "\t\tFinal loss:\n",
      "\t\t2000\t2.8081348\t9.049822e-05\n",
      "\n",
      "\tReplicate: 1/1\n",
      "\t\tIter\tLoss\t\t\tRel. loss\n"
     ]
    },
    {
     "name": "stderr",
     "output_type": "stream",
     "text": [
      "c:\\Users\\trine\\anaconda3\\envs\\dtu02450\\Lib\\site-packages\\dtuimldmtools\\models\\nn_trainer.py:141: RuntimeWarning: overflow encountered in cast\n",
      "  if loss_value < best_final_loss:\n"
     ]
    },
    {
     "name": "stdout",
     "output_type": "stream",
     "text": [
      "\t\t1000\t7.50802\t0.0012988128\n",
      "\t\t2000\t3.3797908\t0.0003797971\n",
      "\t\tFinal loss:\n",
      "\t\t2000\t3.3797908\t0.0003797971\n",
      "\n",
      "\tReplicate: 1/1\n",
      "\t\tIter\tLoss\t\t\tRel. loss\n"
     ]
    },
    {
     "name": "stderr",
     "output_type": "stream",
     "text": [
      "c:\\Users\\trine\\anaconda3\\envs\\dtu02450\\Lib\\site-packages\\dtuimldmtools\\models\\nn_trainer.py:141: RuntimeWarning: overflow encountered in cast\n",
      "  if loss_value < best_final_loss:\n"
     ]
    },
    {
     "name": "stdout",
     "output_type": "stream",
     "text": [
      "\t\t1000\t4.770112\t0.0013483865\n",
      "\t\t2000\t2.7848341\t0.00013148459\n",
      "\t\tFinal loss:\n",
      "\t\t2000\t2.7848341\t0.00013148459\n",
      "\n",
      "\tReplicate: 1/1\n",
      "\t\tIter\tLoss\t\t\tRel. loss\n"
     ]
    },
    {
     "name": "stderr",
     "output_type": "stream",
     "text": [
      "c:\\Users\\trine\\anaconda3\\envs\\dtu02450\\Lib\\site-packages\\dtuimldmtools\\models\\nn_trainer.py:141: RuntimeWarning: overflow encountered in cast\n",
      "  if loss_value < best_final_loss:\n"
     ]
    },
    {
     "name": "stdout",
     "output_type": "stream",
     "text": [
      "\t\t1000\t2.931998\t0.00052047713\n",
      "\t\t2000\t2.543268\t4.302709e-05\n",
      "\t\tFinal loss:\n",
      "\t\t2000\t2.543268\t4.302709e-05\n",
      "\n",
      "\tReplicate: 1/1\n",
      "\t\tIter\tLoss\t\t\tRel. loss\n"
     ]
    },
    {
     "name": "stderr",
     "output_type": "stream",
     "text": [
      "c:\\Users\\trine\\anaconda3\\envs\\dtu02450\\Lib\\site-packages\\dtuimldmtools\\models\\nn_trainer.py:141: RuntimeWarning: overflow encountered in cast\n",
      "  if loss_value < best_final_loss:\n"
     ]
    },
    {
     "name": "stdout",
     "output_type": "stream",
     "text": [
      "\t\t1000\t2.6385674\t0.00038098948\n",
      "\t\t2000\t2.354108\t5.7724938e-05\n",
      "\t\tFinal loss:\n",
      "\t\t2000\t2.354108\t5.7724938e-05\n",
      "\n",
      "\tReplicate: 1/1\n",
      "\t\tIter\tLoss\t\t\tRel. loss\n"
     ]
    },
    {
     "name": "stderr",
     "output_type": "stream",
     "text": [
      "c:\\Users\\trine\\anaconda3\\envs\\dtu02450\\Lib\\site-packages\\dtuimldmtools\\models\\nn_trainer.py:141: RuntimeWarning: overflow encountered in cast\n",
      "  if loss_value < best_final_loss:\n"
     ]
    },
    {
     "name": "stdout",
     "output_type": "stream",
     "text": [
      "\t\t1000\t4.760004\t0.001095723\n",
      "\t\t2000\t3.267779\t7.94476e-05\n",
      "\t\tFinal loss:\n",
      "\t\t2000\t3.267779\t7.94476e-05\n",
      "Outer fold 6/10\n",
      "\n",
      "\tReplicate: 1/1\n",
      "\t\tIter\tLoss\t\t\tRel. loss\n"
     ]
    },
    {
     "name": "stderr",
     "output_type": "stream",
     "text": [
      "c:\\Users\\trine\\anaconda3\\envs\\dtu02450\\Lib\\site-packages\\dtuimldmtools\\models\\nn_trainer.py:141: RuntimeWarning: overflow encountered in cast\n",
      "  if loss_value < best_final_loss:\n"
     ]
    },
    {
     "name": "stdout",
     "output_type": "stream",
     "text": [
      "\t\t1000\t12.310301\t0.001023951\n",
      "\t\t2000\t5.490315\t0.00056594546\n",
      "\t\tFinal loss:\n",
      "\t\t2000\t5.490315\t0.00056594546\n",
      "\n",
      "\tReplicate: 1/1\n",
      "\t\tIter\tLoss\t\t\tRel. loss\n"
     ]
    },
    {
     "name": "stderr",
     "output_type": "stream",
     "text": [
      "c:\\Users\\trine\\anaconda3\\envs\\dtu02450\\Lib\\site-packages\\dtuimldmtools\\models\\nn_trainer.py:141: RuntimeWarning: overflow encountered in cast\n",
      "  if loss_value < best_final_loss:\n"
     ]
    },
    {
     "name": "stdout",
     "output_type": "stream",
     "text": [
      "\t\t1000\t4.45224\t0.0009991053\n",
      "\t\t2000\t3.3177567\t0.00010440369\n",
      "\t\tFinal loss:\n",
      "\t\t2000\t3.3177567\t0.00010440369\n",
      "\n",
      "\tReplicate: 1/1\n",
      "\t\tIter\tLoss\t\t\tRel. loss\n"
     ]
    },
    {
     "name": "stderr",
     "output_type": "stream",
     "text": [
      "c:\\Users\\trine\\anaconda3\\envs\\dtu02450\\Lib\\site-packages\\dtuimldmtools\\models\\nn_trainer.py:141: RuntimeWarning: overflow encountered in cast\n",
      "  if loss_value < best_final_loss:\n"
     ]
    },
    {
     "name": "stdout",
     "output_type": "stream",
     "text": [
      "\t\t1000\t4.2424417\t0.0010016881\n",
      "\t\t2000\t3.2379644\t8.967603e-05\n",
      "\t\tFinal loss:\n",
      "\t\t2000\t3.2379644\t8.967603e-05\n",
      "\n",
      "\tReplicate: 1/1\n",
      "\t\tIter\tLoss\t\t\tRel. loss\n"
     ]
    },
    {
     "name": "stderr",
     "output_type": "stream",
     "text": [
      "c:\\Users\\trine\\anaconda3\\envs\\dtu02450\\Lib\\site-packages\\dtuimldmtools\\models\\nn_trainer.py:141: RuntimeWarning: overflow encountered in cast\n",
      "  if loss_value < best_final_loss:\n"
     ]
    },
    {
     "name": "stdout",
     "output_type": "stream",
     "text": [
      "\t\t1000\t3.248578\t0.00028746593\n",
      "\t\t2000\t2.8747973\t5.8050464e-05\n",
      "\t\tFinal loss:\n",
      "\t\t2000\t2.8747973\t5.8050464e-05\n",
      "\n",
      "\tReplicate: 1/1\n",
      "\t\tIter\tLoss\t\t\tRel. loss\n"
     ]
    },
    {
     "name": "stderr",
     "output_type": "stream",
     "text": [
      "c:\\Users\\trine\\anaconda3\\envs\\dtu02450\\Lib\\site-packages\\dtuimldmtools\\models\\nn_trainer.py:141: RuntimeWarning: overflow encountered in cast\n",
      "  if loss_value < best_final_loss:\n"
     ]
    },
    {
     "name": "stdout",
     "output_type": "stream",
     "text": [
      "\t\t1000\t15.152143\t0.0026411393\n",
      "\t\t2000\t4.2297845\t0.0006064748\n",
      "\t\tFinal loss:\n",
      "\t\t2000\t4.2297845\t0.0006064748\n",
      "\n",
      "\tReplicate: 1/1\n",
      "\t\tIter\tLoss\t\t\tRel. loss\n"
     ]
    },
    {
     "name": "stderr",
     "output_type": "stream",
     "text": [
      "c:\\Users\\trine\\anaconda3\\envs\\dtu02450\\Lib\\site-packages\\dtuimldmtools\\models\\nn_trainer.py:141: RuntimeWarning: overflow encountered in cast\n",
      "  if loss_value < best_final_loss:\n"
     ]
    },
    {
     "name": "stdout",
     "output_type": "stream",
     "text": [
      "\t\t1000\t5.151233\t0.0012730329\n",
      "\t\t2000\t3.0265315\t9.885433e-05\n",
      "\t\tFinal loss:\n",
      "\t\t2000\t3.0265315\t9.885433e-05\n",
      "\n",
      "\tReplicate: 1/1\n",
      "\t\tIter\tLoss\t\t\tRel. loss\n"
     ]
    },
    {
     "name": "stderr",
     "output_type": "stream",
     "text": [
      "c:\\Users\\trine\\anaconda3\\envs\\dtu02450\\Lib\\site-packages\\dtuimldmtools\\models\\nn_trainer.py:141: RuntimeWarning: overflow encountered in cast\n",
      "  if loss_value < best_final_loss:\n"
     ]
    },
    {
     "name": "stdout",
     "output_type": "stream",
     "text": [
      "\t\t1000\t5.6748443\t0.0016827347\n",
      "\t\t2000\t2.7037485\t9.3198374e-05\n",
      "\t\tFinal loss:\n",
      "\t\t2000\t2.7037485\t9.3198374e-05\n",
      "\n",
      "\tReplicate: 1/1\n",
      "\t\tIter\tLoss\t\t\tRel. loss\n"
     ]
    },
    {
     "name": "stderr",
     "output_type": "stream",
     "text": [
      "c:\\Users\\trine\\anaconda3\\envs\\dtu02450\\Lib\\site-packages\\dtuimldmtools\\models\\nn_trainer.py:141: RuntimeWarning: overflow encountered in cast\n",
      "  if loss_value < best_final_loss:\n"
     ]
    },
    {
     "name": "stdout",
     "output_type": "stream",
     "text": [
      "\t\t1000\t2.684586\t0.00018211652\n",
      "\t\t2000\t2.453886\t4.857744e-05\n",
      "\t\tFinal loss:\n",
      "\t\t2000\t2.453886\t4.857744e-05\n",
      "\n",
      "\tReplicate: 1/1\n",
      "\t\tIter\tLoss\t\t\tRel. loss\n"
     ]
    },
    {
     "name": "stderr",
     "output_type": "stream",
     "text": [
      "c:\\Users\\trine\\anaconda3\\envs\\dtu02450\\Lib\\site-packages\\dtuimldmtools\\models\\nn_trainer.py:141: RuntimeWarning: overflow encountered in cast\n",
      "  if loss_value < best_final_loss:\n"
     ]
    },
    {
     "name": "stdout",
     "output_type": "stream",
     "text": [
      "\t\t1000\t6.135219\t0.00084838475\n",
      "\t\t2000\t3.9338162\t0.00016094749\n",
      "\t\tFinal loss:\n",
      "\t\t2000\t3.9338162\t0.00016094749\n",
      "\n",
      "\tReplicate: 1/1\n",
      "\t\tIter\tLoss\t\t\tRel. loss\n"
     ]
    },
    {
     "name": "stderr",
     "output_type": "stream",
     "text": [
      "c:\\Users\\trine\\anaconda3\\envs\\dtu02450\\Lib\\site-packages\\dtuimldmtools\\models\\nn_trainer.py:141: RuntimeWarning: overflow encountered in cast\n",
      "  if loss_value < best_final_loss:\n"
     ]
    },
    {
     "name": "stdout",
     "output_type": "stream",
     "text": [
      "\t\t1000\t4.9494457\t0.00092113914\n",
      "\t\t2000\t3.6049757\t9.046583e-05\n",
      "\t\tFinal loss:\n",
      "\t\t2000\t3.6049757\t9.046583e-05\n",
      "\n",
      "\tReplicate: 1/1\n",
      "\t\tIter\tLoss\t\t\tRel. loss\n"
     ]
    },
    {
     "name": "stderr",
     "output_type": "stream",
     "text": [
      "c:\\Users\\trine\\anaconda3\\envs\\dtu02450\\Lib\\site-packages\\dtuimldmtools\\models\\nn_trainer.py:141: RuntimeWarning: overflow encountered in cast\n",
      "  if loss_value < best_final_loss:\n"
     ]
    },
    {
     "name": "stdout",
     "output_type": "stream",
     "text": [
      "\t\t1000\t5.4292426\t0.0016758351\n",
      "\t\t2000\t3.4513185\t8.5099855e-05\n",
      "\t\tFinal loss:\n",
      "\t\t2000\t3.4513185\t8.5099855e-05\n",
      "\n",
      "\tReplicate: 1/1\n",
      "\t\tIter\tLoss\t\t\tRel. loss\n"
     ]
    },
    {
     "name": "stderr",
     "output_type": "stream",
     "text": [
      "c:\\Users\\trine\\anaconda3\\envs\\dtu02450\\Lib\\site-packages\\dtuimldmtools\\models\\nn_trainer.py:141: RuntimeWarning: overflow encountered in cast\n",
      "  if loss_value < best_final_loss:\n"
     ]
    },
    {
     "name": "stdout",
     "output_type": "stream",
     "text": [
      "\t\t1000\t3.4707537\t0.00023741741\n",
      "\t\t2000\t3.105646\t7.1467206e-05\n",
      "\t\tFinal loss:\n",
      "\t\t2000\t3.105646\t7.1467206e-05\n",
      "\n",
      "\tReplicate: 1/1\n",
      "\t\tIter\tLoss\t\t\tRel. loss\n"
     ]
    },
    {
     "name": "stderr",
     "output_type": "stream",
     "text": [
      "c:\\Users\\trine\\anaconda3\\envs\\dtu02450\\Lib\\site-packages\\dtuimldmtools\\models\\nn_trainer.py:141: RuntimeWarning: overflow encountered in cast\n",
      "  if loss_value < best_final_loss:\n"
     ]
    },
    {
     "name": "stdout",
     "output_type": "stream",
     "text": [
      "\t\t1000\t11.092386\t0.0010725973\n",
      "\t\t2000\t4.983112\t0.000516845\n",
      "\t\tFinal loss:\n",
      "\t\t2000\t4.983112\t0.000516845\n",
      "\n",
      "\tReplicate: 1/1\n",
      "\t\tIter\tLoss\t\t\tRel. loss\n"
     ]
    },
    {
     "name": "stderr",
     "output_type": "stream",
     "text": [
      "c:\\Users\\trine\\anaconda3\\envs\\dtu02450\\Lib\\site-packages\\dtuimldmtools\\models\\nn_trainer.py:141: RuntimeWarning: overflow encountered in cast\n",
      "  if loss_value < best_final_loss:\n"
     ]
    },
    {
     "name": "stdout",
     "output_type": "stream",
     "text": [
      "\t\t1000\t5.2170463\t0.0010352185\n",
      "\t\t2000\t3.5022588\t0.000110134286\n",
      "\t\tFinal loss:\n",
      "\t\t2000\t3.5022588\t0.000110134286\n",
      "\n",
      "\tReplicate: 1/1\n",
      "\t\tIter\tLoss\t\t\tRel. loss\n"
     ]
    },
    {
     "name": "stderr",
     "output_type": "stream",
     "text": [
      "c:\\Users\\trine\\anaconda3\\envs\\dtu02450\\Lib\\site-packages\\dtuimldmtools\\models\\nn_trainer.py:141: RuntimeWarning: overflow encountered in cast\n",
      "  if loss_value < best_final_loss:\n"
     ]
    },
    {
     "name": "stdout",
     "output_type": "stream",
     "text": [
      "\t\t1000\t5.7353606\t0.0019506398\n",
      "\t\t2000\t3.288796\t0.00013054498\n",
      "\t\tFinal loss:\n",
      "\t\t2000\t3.288796\t0.00013054498\n",
      "\n",
      "\tReplicate: 1/1\n",
      "\t\tIter\tLoss\t\t\tRel. loss\n"
     ]
    },
    {
     "name": "stderr",
     "output_type": "stream",
     "text": [
      "c:\\Users\\trine\\anaconda3\\envs\\dtu02450\\Lib\\site-packages\\dtuimldmtools\\models\\nn_trainer.py:141: RuntimeWarning: overflow encountered in cast\n",
      "  if loss_value < best_final_loss:\n"
     ]
    },
    {
     "name": "stdout",
     "output_type": "stream",
     "text": [
      "\t\t1000\t3.472135\t0.00031796106\n",
      "\t\t2000\t3.0068886\t7.318005e-05\n",
      "\t\tFinal loss:\n",
      "\t\t2000\t3.0068886\t7.318005e-05\n",
      "\n",
      "\tReplicate: 1/1\n",
      "\t\tIter\tLoss\t\t\tRel. loss\n"
     ]
    },
    {
     "name": "stderr",
     "output_type": "stream",
     "text": [
      "c:\\Users\\trine\\anaconda3\\envs\\dtu02450\\Lib\\site-packages\\dtuimldmtools\\models\\nn_trainer.py:141: RuntimeWarning: overflow encountered in cast\n",
      "  if loss_value < best_final_loss:\n"
     ]
    },
    {
     "name": "stdout",
     "output_type": "stream",
     "text": [
      "\t\t1000\t14.522059\t0.0008449931\n",
      "\t\t2000\t6.838027\t0.0006302691\n",
      "\t\tFinal loss:\n",
      "\t\t2000\t6.838027\t0.0006302691\n",
      "\n",
      "\tReplicate: 1/1\n",
      "\t\tIter\tLoss\t\t\tRel. loss\n"
     ]
    },
    {
     "name": "stderr",
     "output_type": "stream",
     "text": [
      "c:\\Users\\trine\\anaconda3\\envs\\dtu02450\\Lib\\site-packages\\dtuimldmtools\\models\\nn_trainer.py:141: RuntimeWarning: overflow encountered in cast\n",
      "  if loss_value < best_final_loss:\n"
     ]
    },
    {
     "name": "stdout",
     "output_type": "stream",
     "text": [
      "\t\t1000\t5.6798253\t0.0010524986\n",
      "\t\t2000\t3.445078\t0.00017948703\n",
      "\t\tFinal loss:\n",
      "\t\t2000\t3.445078\t0.00017948703\n",
      "\n",
      "\tReplicate: 1/1\n",
      "\t\tIter\tLoss\t\t\tRel. loss\n"
     ]
    },
    {
     "name": "stderr",
     "output_type": "stream",
     "text": [
      "c:\\Users\\trine\\anaconda3\\envs\\dtu02450\\Lib\\site-packages\\dtuimldmtools\\models\\nn_trainer.py:141: RuntimeWarning: overflow encountered in cast\n",
      "  if loss_value < best_final_loss:\n"
     ]
    },
    {
     "name": "stdout",
     "output_type": "stream",
     "text": [
      "\t\t1000\t3.4025686\t0.0005911127\n",
      "\t\t2000\t3.018567\t8.418988e-05\n",
      "\t\tFinal loss:\n",
      "\t\t2000\t3.018567\t8.418988e-05\n",
      "\n",
      "\tReplicate: 1/1\n",
      "\t\tIter\tLoss\t\t\tRel. loss\n"
     ]
    },
    {
     "name": "stderr",
     "output_type": "stream",
     "text": [
      "c:\\Users\\trine\\anaconda3\\envs\\dtu02450\\Lib\\site-packages\\dtuimldmtools\\models\\nn_trainer.py:141: RuntimeWarning: overflow encountered in cast\n",
      "  if loss_value < best_final_loss:\n"
     ]
    },
    {
     "name": "stdout",
     "output_type": "stream",
     "text": [
      "\t\t1000\t3.3567126\t0.00057094725\n",
      "\t\t2000\t2.8796947\t8.3200044e-05\n",
      "\t\tFinal loss:\n",
      "\t\t2000\t2.8796947\t8.3200044e-05\n",
      "\n",
      "\tReplicate: 1/1\n",
      "\t\tIter\tLoss\t\t\tRel. loss\n"
     ]
    },
    {
     "name": "stderr",
     "output_type": "stream",
     "text": [
      "c:\\Users\\trine\\anaconda3\\envs\\dtu02450\\Lib\\site-packages\\dtuimldmtools\\models\\nn_trainer.py:141: RuntimeWarning: overflow encountered in cast\n",
      "  if loss_value < best_final_loss:\n"
     ]
    },
    {
     "name": "stdout",
     "output_type": "stream",
     "text": [
      "\t\t1000\t9.606579\t0.001314432\n",
      "\t\t2000\t4.359902\t0.0004028616\n",
      "\t\tFinal loss:\n",
      "\t\t2000\t4.359902\t0.0004028616\n",
      "Outer fold 7/10\n",
      "\n",
      "\tReplicate: 1/1\n",
      "\t\tIter\tLoss\t\t\tRel. loss\n"
     ]
    },
    {
     "name": "stderr",
     "output_type": "stream",
     "text": [
      "c:\\Users\\trine\\anaconda3\\envs\\dtu02450\\Lib\\site-packages\\dtuimldmtools\\models\\nn_trainer.py:141: RuntimeWarning: overflow encountered in cast\n",
      "  if loss_value < best_final_loss:\n"
     ]
    },
    {
     "name": "stdout",
     "output_type": "stream",
     "text": [
      "\t\t1000\t6.775732\t0.0010041463\n",
      "\t\t2000\t3.6227431\t0.00030053713\n",
      "\t\tFinal loss:\n",
      "\t\t2000\t3.6227431\t0.00030053713\n",
      "\n",
      "\tReplicate: 1/1\n",
      "\t\tIter\tLoss\t\t\tRel. loss\n"
     ]
    },
    {
     "name": "stderr",
     "output_type": "stream",
     "text": [
      "c:\\Users\\trine\\anaconda3\\envs\\dtu02450\\Lib\\site-packages\\dtuimldmtools\\models\\nn_trainer.py:141: RuntimeWarning: overflow encountered in cast\n",
      "  if loss_value < best_final_loss:\n"
     ]
    },
    {
     "name": "stdout",
     "output_type": "stream",
     "text": [
      "\t\t1000\t4.6705747\t0.0014586287\n",
      "\t\t2000\t2.9972415\t9.329875e-05\n",
      "\t\tFinal loss:\n",
      "\t\t2000\t2.9972415\t9.329875e-05\n",
      "\n",
      "\tReplicate: 1/1\n",
      "\t\tIter\tLoss\t\t\tRel. loss\n"
     ]
    },
    {
     "name": "stderr",
     "output_type": "stream",
     "text": [
      "c:\\Users\\trine\\anaconda3\\envs\\dtu02450\\Lib\\site-packages\\dtuimldmtools\\models\\nn_trainer.py:141: RuntimeWarning: overflow encountered in cast\n",
      "  if loss_value < best_final_loss:\n"
     ]
    },
    {
     "name": "stdout",
     "output_type": "stream",
     "text": [
      "\t\t1000\t3.6816502\t0.0013641549\n",
      "\t\t2000\t2.7420492\t6.5989974e-05\n",
      "\t\tFinal loss:\n",
      "\t\t2000\t2.7420492\t6.5989974e-05\n",
      "\n",
      "\tReplicate: 1/1\n",
      "\t\tIter\tLoss\t\t\tRel. loss\n"
     ]
    },
    {
     "name": "stderr",
     "output_type": "stream",
     "text": [
      "c:\\Users\\trine\\anaconda3\\envs\\dtu02450\\Lib\\site-packages\\dtuimldmtools\\models\\nn_trainer.py:141: RuntimeWarning: overflow encountered in cast\n",
      "  if loss_value < best_final_loss:\n"
     ]
    },
    {
     "name": "stdout",
     "output_type": "stream",
     "text": [
      "\t\t1000\t2.895633\t0.00015913266\n",
      "\t\t2000\t2.565333\t9.590349e-05\n",
      "\t\tFinal loss:\n",
      "\t\t2000\t2.565333\t9.590349e-05\n",
      "\n",
      "\tReplicate: 1/1\n",
      "\t\tIter\tLoss\t\t\tRel. loss\n"
     ]
    },
    {
     "name": "stderr",
     "output_type": "stream",
     "text": [
      "c:\\Users\\trine\\anaconda3\\envs\\dtu02450\\Lib\\site-packages\\dtuimldmtools\\models\\nn_trainer.py:141: RuntimeWarning: overflow encountered in cast\n",
      "  if loss_value < best_final_loss:\n"
     ]
    },
    {
     "name": "stdout",
     "output_type": "stream",
     "text": [
      "\t\t1000\t10.154788\t0.001033766\n",
      "\t\t2000\t4.848738\t0.00044087178\n",
      "\t\tFinal loss:\n",
      "\t\t2000\t4.848738\t0.00044087178\n",
      "\n",
      "\tReplicate: 1/1\n",
      "\t\tIter\tLoss\t\t\tRel. loss\n"
     ]
    },
    {
     "name": "stderr",
     "output_type": "stream",
     "text": [
      "c:\\Users\\trine\\anaconda3\\envs\\dtu02450\\Lib\\site-packages\\dtuimldmtools\\models\\nn_trainer.py:141: RuntimeWarning: overflow encountered in cast\n",
      "  if loss_value < best_final_loss:\n"
     ]
    },
    {
     "name": "stdout",
     "output_type": "stream",
     "text": [
      "\t\t1000\t5.1051083\t0.001197963\n",
      "\t\t2000\t3.555986\t9.948801e-05\n",
      "\t\tFinal loss:\n",
      "\t\t2000\t3.555986\t9.948801e-05\n",
      "\n",
      "\tReplicate: 1/1\n",
      "\t\tIter\tLoss\t\t\tRel. loss\n"
     ]
    },
    {
     "name": "stderr",
     "output_type": "stream",
     "text": [
      "c:\\Users\\trine\\anaconda3\\envs\\dtu02450\\Lib\\site-packages\\dtuimldmtools\\models\\nn_trainer.py:141: RuntimeWarning: overflow encountered in cast\n",
      "  if loss_value < best_final_loss:\n"
     ]
    },
    {
     "name": "stdout",
     "output_type": "stream",
     "text": [
      "\t\t1000\t4.2896886\t0.0011546069\n",
      "\t\t2000\t3.3291397\t2.3417777e-05\n",
      "\t\tFinal loss:\n",
      "\t\t2000\t3.3291397\t2.3417777e-05\n",
      "\n",
      "\tReplicate: 1/1\n",
      "\t\tIter\tLoss\t\t\tRel. loss\n"
     ]
    },
    {
     "name": "stderr",
     "output_type": "stream",
     "text": [
      "c:\\Users\\trine\\anaconda3\\envs\\dtu02450\\Lib\\site-packages\\dtuimldmtools\\models\\nn_trainer.py:141: RuntimeWarning: overflow encountered in cast\n",
      "  if loss_value < best_final_loss:\n"
     ]
    },
    {
     "name": "stdout",
     "output_type": "stream",
     "text": [
      "\t\t1000\t3.4426153\t0.00029210182\n",
      "\t\t2000\t2.9887033\t7.968713e-05\n",
      "\t\tFinal loss:\n",
      "\t\t2000\t2.9887033\t7.968713e-05\n",
      "\n",
      "\tReplicate: 1/1\n",
      "\t\tIter\tLoss\t\t\tRel. loss\n"
     ]
    },
    {
     "name": "stderr",
     "output_type": "stream",
     "text": [
      "c:\\Users\\trine\\anaconda3\\envs\\dtu02450\\Lib\\site-packages\\dtuimldmtools\\models\\nn_trainer.py:141: RuntimeWarning: overflow encountered in cast\n",
      "  if loss_value < best_final_loss:\n"
     ]
    },
    {
     "name": "stdout",
     "output_type": "stream",
     "text": [
      "\t\t1000\t7.9858737\t0.00087512063\n",
      "\t\t2000\t4.4636006\t0.0003066089\n",
      "\t\tFinal loss:\n",
      "\t\t2000\t4.4636006\t0.0003066089\n",
      "\n",
      "\tReplicate: 1/1\n",
      "\t\tIter\tLoss\t\t\tRel. loss\n"
     ]
    },
    {
     "name": "stderr",
     "output_type": "stream",
     "text": [
      "c:\\Users\\trine\\anaconda3\\envs\\dtu02450\\Lib\\site-packages\\dtuimldmtools\\models\\nn_trainer.py:141: RuntimeWarning: overflow encountered in cast\n",
      "  if loss_value < best_final_loss:\n"
     ]
    },
    {
     "name": "stdout",
     "output_type": "stream",
     "text": [
      "\t\t1000\t5.670056\t0.0011555076\n",
      "\t\t2000\t3.6582005\t0.00012355413\n",
      "\t\tFinal loss:\n",
      "\t\t2000\t3.6582005\t0.00012355413\n",
      "\n",
      "\tReplicate: 1/1\n",
      "\t\tIter\tLoss\t\t\tRel. loss\n"
     ]
    },
    {
     "name": "stderr",
     "output_type": "stream",
     "text": [
      "c:\\Users\\trine\\anaconda3\\envs\\dtu02450\\Lib\\site-packages\\dtuimldmtools\\models\\nn_trainer.py:141: RuntimeWarning: overflow encountered in cast\n",
      "  if loss_value < best_final_loss:\n"
     ]
    },
    {
     "name": "stdout",
     "output_type": "stream",
     "text": [
      "\t\t1000\t6.1844697\t0.0018402018\n",
      "\t\t2000\t3.5043578\t0.00014292086\n",
      "\t\tFinal loss:\n",
      "\t\t2000\t3.5043578\t0.00014292086\n",
      "\n",
      "\tReplicate: 1/1\n",
      "\t\tIter\tLoss\t\t\tRel. loss\n"
     ]
    },
    {
     "name": "stderr",
     "output_type": "stream",
     "text": [
      "c:\\Users\\trine\\anaconda3\\envs\\dtu02450\\Lib\\site-packages\\dtuimldmtools\\models\\nn_trainer.py:141: RuntimeWarning: overflow encountered in cast\n",
      "  if loss_value < best_final_loss:\n"
     ]
    },
    {
     "name": "stdout",
     "output_type": "stream",
     "text": [
      "\t\t1000\t3.5437872\t0.0005778522\n",
      "\t\t2000\t2.9888453\t7.928455e-05\n",
      "\t\tFinal loss:\n",
      "\t\t2000\t2.9888453\t7.928455e-05\n",
      "\n",
      "\tReplicate: 1/1\n",
      "\t\tIter\tLoss\t\t\tRel. loss\n"
     ]
    },
    {
     "name": "stderr",
     "output_type": "stream",
     "text": [
      "c:\\Users\\trine\\anaconda3\\envs\\dtu02450\\Lib\\site-packages\\dtuimldmtools\\models\\nn_trainer.py:141: RuntimeWarning: overflow encountered in cast\n",
      "  if loss_value < best_final_loss:\n"
     ]
    },
    {
     "name": "stdout",
     "output_type": "stream",
     "text": [
      "\t\t1000\t10.210986\t0.0009224699\n",
      "\t\t2000\t5.1014023\t0.00045770867\n",
      "\t\tFinal loss:\n",
      "\t\t2000\t5.1014023\t0.00045770867\n",
      "\n",
      "\tReplicate: 1/1\n",
      "\t\tIter\tLoss\t\t\tRel. loss\n"
     ]
    },
    {
     "name": "stderr",
     "output_type": "stream",
     "text": [
      "c:\\Users\\trine\\anaconda3\\envs\\dtu02450\\Lib\\site-packages\\dtuimldmtools\\models\\nn_trainer.py:141: RuntimeWarning: overflow encountered in cast\n",
      "  if loss_value < best_final_loss:\n"
     ]
    },
    {
     "name": "stdout",
     "output_type": "stream",
     "text": [
      "\t\t1000\t4.3755374\t0.00085137325\n",
      "\t\t2000\t3.3168821\t7.8918376e-05\n",
      "\t\tFinal loss:\n",
      "\t\t2000\t3.3168821\t7.8918376e-05\n",
      "\n",
      "\tReplicate: 1/1\n",
      "\t\tIter\tLoss\t\t\tRel. loss\n"
     ]
    },
    {
     "name": "stderr",
     "output_type": "stream",
     "text": [
      "c:\\Users\\trine\\anaconda3\\envs\\dtu02450\\Lib\\site-packages\\dtuimldmtools\\models\\nn_trainer.py:141: RuntimeWarning: overflow encountered in cast\n",
      "  if loss_value < best_final_loss:\n"
     ]
    },
    {
     "name": "stdout",
     "output_type": "stream",
     "text": [
      "\t\t1000\t3.6174424\t0.0003867965\n",
      "\t\t2000\t3.12738\t7.325732e-05\n",
      "\t\tFinal loss:\n",
      "\t\t2000\t3.12738\t7.325732e-05\n",
      "\n",
      "\tReplicate: 1/1\n",
      "\t\tIter\tLoss\t\t\tRel. loss\n"
     ]
    },
    {
     "name": "stderr",
     "output_type": "stream",
     "text": [
      "c:\\Users\\trine\\anaconda3\\envs\\dtu02450\\Lib\\site-packages\\dtuimldmtools\\models\\nn_trainer.py:141: RuntimeWarning: overflow encountered in cast\n",
      "  if loss_value < best_final_loss:\n"
     ]
    },
    {
     "name": "stdout",
     "output_type": "stream",
     "text": [
      "\t\t1000\t3.2218835\t0.00019598693\n",
      "\t\t2000\t2.8950512\t7.353657e-05\n",
      "\t\tFinal loss:\n",
      "\t\t2000\t2.8950512\t7.353657e-05\n",
      "\n",
      "\tReplicate: 1/1\n",
      "\t\tIter\tLoss\t\t\tRel. loss\n"
     ]
    },
    {
     "name": "stderr",
     "output_type": "stream",
     "text": [
      "c:\\Users\\trine\\anaconda3\\envs\\dtu02450\\Lib\\site-packages\\dtuimldmtools\\models\\nn_trainer.py:141: RuntimeWarning: overflow encountered in cast\n",
      "  if loss_value < best_final_loss:\n"
     ]
    },
    {
     "name": "stdout",
     "output_type": "stream",
     "text": [
      "\t\t1000\t5.0484605\t0.0007779621\n",
      "\t\t2000\t3.57241\t9.235805e-05\n",
      "\t\tFinal loss:\n",
      "\t\t2000\t3.57241\t9.235805e-05\n",
      "\n",
      "\tReplicate: 1/1\n",
      "\t\tIter\tLoss\t\t\tRel. loss\n"
     ]
    },
    {
     "name": "stderr",
     "output_type": "stream",
     "text": [
      "c:\\Users\\trine\\anaconda3\\envs\\dtu02450\\Lib\\site-packages\\dtuimldmtools\\models\\nn_trainer.py:141: RuntimeWarning: overflow encountered in cast\n",
      "  if loss_value < best_final_loss:\n"
     ]
    },
    {
     "name": "stdout",
     "output_type": "stream",
     "text": [
      "\t\t1000\t5.499467\t0.0016795323\n",
      "\t\t2000\t3.2929113\t7.333945e-05\n",
      "\t\tFinal loss:\n",
      "\t\t2000\t3.2929113\t7.333945e-05\n",
      "\n",
      "\tReplicate: 1/1\n",
      "\t\tIter\tLoss\t\t\tRel. loss\n"
     ]
    },
    {
     "name": "stderr",
     "output_type": "stream",
     "text": [
      "c:\\Users\\trine\\anaconda3\\envs\\dtu02450\\Lib\\site-packages\\dtuimldmtools\\models\\nn_trainer.py:141: RuntimeWarning: overflow encountered in cast\n",
      "  if loss_value < best_final_loss:\n"
     ]
    },
    {
     "name": "stdout",
     "output_type": "stream",
     "text": [
      "\t\t1000\t4.933986\t0.0012699224\n",
      "\t\t2000\t3.2581925\t0.00014098854\n",
      "\t\tFinal loss:\n",
      "\t\t2000\t3.2581925\t0.00014098854\n",
      "\n",
      "\tReplicate: 1/1\n",
      "\t\tIter\tLoss\t\t\tRel. loss\n"
     ]
    },
    {
     "name": "stderr",
     "output_type": "stream",
     "text": [
      "c:\\Users\\trine\\anaconda3\\envs\\dtu02450\\Lib\\site-packages\\dtuimldmtools\\models\\nn_trainer.py:141: RuntimeWarning: overflow encountered in cast\n",
      "  if loss_value < best_final_loss:\n"
     ]
    },
    {
     "name": "stdout",
     "output_type": "stream",
     "text": [
      "\t\t1000\t3.2044296\t0.00018418743\n",
      "\t\t2000\t2.8855865\t8.212147e-05\n",
      "\t\tFinal loss:\n",
      "\t\t2000\t2.8855865\t8.212147e-05\n",
      "\n",
      "\tReplicate: 1/1\n",
      "\t\tIter\tLoss\t\t\tRel. loss\n"
     ]
    },
    {
     "name": "stderr",
     "output_type": "stream",
     "text": [
      "c:\\Users\\trine\\anaconda3\\envs\\dtu02450\\Lib\\site-packages\\dtuimldmtools\\models\\nn_trainer.py:141: RuntimeWarning: overflow encountered in cast\n",
      "  if loss_value < best_final_loss:\n"
     ]
    },
    {
     "name": "stdout",
     "output_type": "stream",
     "text": [
      "\t\t1000\t17.165972\t0.0013057499\n",
      "\t\t2000\t6.6202245\t0.0006963792\n",
      "\t\tFinal loss:\n",
      "\t\t2000\t6.6202245\t0.0006963792\n",
      "Outer fold 8/10\n",
      "\n",
      "\tReplicate: 1/1\n",
      "\t\tIter\tLoss\t\t\tRel. loss\n"
     ]
    },
    {
     "name": "stderr",
     "output_type": "stream",
     "text": [
      "c:\\Users\\trine\\anaconda3\\envs\\dtu02450\\Lib\\site-packages\\dtuimldmtools\\models\\nn_trainer.py:141: RuntimeWarning: overflow encountered in cast\n",
      "  if loss_value < best_final_loss:\n"
     ]
    },
    {
     "name": "stdout",
     "output_type": "stream",
     "text": [
      "\t\t1000\t8.585895\t0.0012328496\n",
      "\t\t2000\t4.228398\t0.0003345899\n",
      "\t\tFinal loss:\n",
      "\t\t2000\t4.228398\t0.0003345899\n",
      "\n",
      "\tReplicate: 1/1\n",
      "\t\tIter\tLoss\t\t\tRel. loss\n"
     ]
    },
    {
     "name": "stderr",
     "output_type": "stream",
     "text": [
      "c:\\Users\\trine\\anaconda3\\envs\\dtu02450\\Lib\\site-packages\\dtuimldmtools\\models\\nn_trainer.py:141: RuntimeWarning: overflow encountered in cast\n",
      "  if loss_value < best_final_loss:\n"
     ]
    },
    {
     "name": "stdout",
     "output_type": "stream",
     "text": [
      "\t\t1000\t4.174656\t0.000993428\n",
      "\t\t2000\t3.3092961\t3.9407118e-05\n",
      "\t\tFinal loss:\n",
      "\t\t2000\t3.3092961\t3.9407118e-05\n",
      "\n",
      "\tReplicate: 1/1\n",
      "\t\tIter\tLoss\t\t\tRel. loss\n"
     ]
    },
    {
     "name": "stderr",
     "output_type": "stream",
     "text": [
      "c:\\Users\\trine\\anaconda3\\envs\\dtu02450\\Lib\\site-packages\\dtuimldmtools\\models\\nn_trainer.py:141: RuntimeWarning: overflow encountered in cast\n",
      "  if loss_value < best_final_loss:\n"
     ]
    },
    {
     "name": "stdout",
     "output_type": "stream",
     "text": [
      "\t\t1000\t4.0677314\t0.00090321765\n",
      "\t\t2000\t3.2570245\t9.786062e-05\n",
      "\t\tFinal loss:\n",
      "\t\t2000\t3.2570245\t9.786062e-05\n",
      "\n",
      "\tReplicate: 1/1\n",
      "\t\tIter\tLoss\t\t\tRel. loss\n"
     ]
    },
    {
     "name": "stderr",
     "output_type": "stream",
     "text": [
      "c:\\Users\\trine\\anaconda3\\envs\\dtu02450\\Lib\\site-packages\\dtuimldmtools\\models\\nn_trainer.py:141: RuntimeWarning: overflow encountered in cast\n",
      "  if loss_value < best_final_loss:\n"
     ]
    },
    {
     "name": "stdout",
     "output_type": "stream",
     "text": [
      "\t\t1000\t3.2126071\t0.00016739746\n",
      "\t\t2000\t2.7687776\t8.851293e-05\n",
      "\t\tFinal loss:\n",
      "\t\t2000\t2.7687776\t8.851293e-05\n",
      "\n",
      "\tReplicate: 1/1\n",
      "\t\tIter\tLoss\t\t\tRel. loss\n"
     ]
    },
    {
     "name": "stderr",
     "output_type": "stream",
     "text": [
      "c:\\Users\\trine\\anaconda3\\envs\\dtu02450\\Lib\\site-packages\\dtuimldmtools\\models\\nn_trainer.py:141: RuntimeWarning: overflow encountered in cast\n",
      "  if loss_value < best_final_loss:\n"
     ]
    },
    {
     "name": "stdout",
     "output_type": "stream",
     "text": [
      "\t\t1000\t6.769883\t0.00089674914\n",
      "\t\t2000\t3.842537\t0.0002698324\n",
      "\t\tFinal loss:\n",
      "\t\t2000\t3.842537\t0.0002698324\n",
      "\n",
      "\tReplicate: 1/1\n",
      "\t\tIter\tLoss\t\t\tRel. loss\n"
     ]
    },
    {
     "name": "stderr",
     "output_type": "stream",
     "text": [
      "c:\\Users\\trine\\anaconda3\\envs\\dtu02450\\Lib\\site-packages\\dtuimldmtools\\models\\nn_trainer.py:141: RuntimeWarning: overflow encountered in cast\n",
      "  if loss_value < best_final_loss:\n"
     ]
    },
    {
     "name": "stdout",
     "output_type": "stream",
     "text": [
      "\t\t1000\t5.8223286\t0.0014407187\n",
      "\t\t2000\t3.3201392\t9.880054e-05\n",
      "\t\tFinal loss:\n",
      "\t\t2000\t3.3201392\t9.880054e-05\n",
      "\n",
      "\tReplicate: 1/1\n",
      "\t\tIter\tLoss\t\t\tRel. loss\n"
     ]
    },
    {
     "name": "stderr",
     "output_type": "stream",
     "text": [
      "c:\\Users\\trine\\anaconda3\\envs\\dtu02450\\Lib\\site-packages\\dtuimldmtools\\models\\nn_trainer.py:141: RuntimeWarning: overflow encountered in cast\n",
      "  if loss_value < best_final_loss:\n"
     ]
    },
    {
     "name": "stdout",
     "output_type": "stream",
     "text": [
      "\t\t1000\t3.7728546\t0.0009868605\n",
      "\t\t2000\t3.0740266\t6.5067805e-05\n",
      "\t\tFinal loss:\n",
      "\t\t2000\t3.0740266\t6.5067805e-05\n",
      "\n",
      "\tReplicate: 1/1\n",
      "\t\tIter\tLoss\t\t\tRel. loss\n"
     ]
    },
    {
     "name": "stderr",
     "output_type": "stream",
     "text": [
      "c:\\Users\\trine\\anaconda3\\envs\\dtu02450\\Lib\\site-packages\\dtuimldmtools\\models\\nn_trainer.py:141: RuntimeWarning: overflow encountered in cast\n",
      "  if loss_value < best_final_loss:\n"
     ]
    },
    {
     "name": "stdout",
     "output_type": "stream",
     "text": [
      "\t\t1000\t3.1285396\t0.00018240778\n",
      "\t\t2000\t2.7694073\t0.00011457281\n",
      "\t\tFinal loss:\n",
      "\t\t2000\t2.7694073\t0.00011457281\n",
      "\n",
      "\tReplicate: 1/1\n",
      "\t\tIter\tLoss\t\t\tRel. loss\n"
     ]
    },
    {
     "name": "stderr",
     "output_type": "stream",
     "text": [
      "c:\\Users\\trine\\anaconda3\\envs\\dtu02450\\Lib\\site-packages\\dtuimldmtools\\models\\nn_trainer.py:141: RuntimeWarning: overflow encountered in cast\n",
      "  if loss_value < best_final_loss:\n"
     ]
    },
    {
     "name": "stdout",
     "output_type": "stream",
     "text": [
      "\t\t1000\t14.894468\t0.00093132653\n",
      "\t\t2000\t6.6433296\t0.0006514525\n",
      "\t\tFinal loss:\n",
      "\t\t2000\t6.6433296\t0.0006514525\n",
      "\n",
      "\tReplicate: 1/1\n",
      "\t\tIter\tLoss\t\t\tRel. loss\n"
     ]
    },
    {
     "name": "stderr",
     "output_type": "stream",
     "text": [
      "c:\\Users\\trine\\anaconda3\\envs\\dtu02450\\Lib\\site-packages\\dtuimldmtools\\models\\nn_trainer.py:141: RuntimeWarning: overflow encountered in cast\n",
      "  if loss_value < best_final_loss:\n"
     ]
    },
    {
     "name": "stdout",
     "output_type": "stream",
     "text": [
      "\t\t1000\t7.167708\t0.0023642438\n",
      "\t\t2000\t3.4447224\t9.1352435e-05\n",
      "\t\tFinal loss:\n",
      "\t\t2000\t3.4447224\t9.1352435e-05\n",
      "\n",
      "\tReplicate: 1/1\n",
      "\t\tIter\tLoss\t\t\tRel. loss\n"
     ]
    },
    {
     "name": "stderr",
     "output_type": "stream",
     "text": [
      "c:\\Users\\trine\\anaconda3\\envs\\dtu02450\\Lib\\site-packages\\dtuimldmtools\\models\\nn_trainer.py:141: RuntimeWarning: overflow encountered in cast\n",
      "  if loss_value < best_final_loss:\n"
     ]
    },
    {
     "name": "stdout",
     "output_type": "stream",
     "text": [
      "\t\t1000\t4.306985\t0.0011775893\n",
      "\t\t2000\t3.1859949\t7.7745775e-05\n",
      "\t\tFinal loss:\n",
      "\t\t2000\t3.1859949\t7.7745775e-05\n",
      "\n",
      "\tReplicate: 1/1\n",
      "\t\tIter\tLoss\t\t\tRel. loss\n"
     ]
    },
    {
     "name": "stderr",
     "output_type": "stream",
     "text": [
      "c:\\Users\\trine\\anaconda3\\envs\\dtu02450\\Lib\\site-packages\\dtuimldmtools\\models\\nn_trainer.py:141: RuntimeWarning: overflow encountered in cast\n",
      "  if loss_value < best_final_loss:\n"
     ]
    },
    {
     "name": "stdout",
     "output_type": "stream",
     "text": [
      "\t\t1000\t3.580702\t0.0007794937\n",
      "\t\t2000\t2.836828\t8.1348044e-05\n",
      "\t\tFinal loss:\n",
      "\t\t2000\t2.836828\t8.1348044e-05\n",
      "\n",
      "\tReplicate: 1/1\n",
      "\t\tIter\tLoss\t\t\tRel. loss\n"
     ]
    },
    {
     "name": "stderr",
     "output_type": "stream",
     "text": [
      "c:\\Users\\trine\\anaconda3\\envs\\dtu02450\\Lib\\site-packages\\dtuimldmtools\\models\\nn_trainer.py:141: RuntimeWarning: overflow encountered in cast\n",
      "  if loss_value < best_final_loss:\n"
     ]
    },
    {
     "name": "stdout",
     "output_type": "stream",
     "text": [
      "\t\t1000\t6.414024\t0.00086920446\n",
      "\t\t2000\t4.038261\t0.00017354722\n",
      "\t\tFinal loss:\n",
      "\t\t2000\t4.038261\t0.00017354722\n",
      "\n",
      "\tReplicate: 1/1\n",
      "\t\tIter\tLoss\t\t\tRel. loss\n"
     ]
    },
    {
     "name": "stderr",
     "output_type": "stream",
     "text": [
      "c:\\Users\\trine\\anaconda3\\envs\\dtu02450\\Lib\\site-packages\\dtuimldmtools\\models\\nn_trainer.py:141: RuntimeWarning: overflow encountered in cast\n",
      "  if loss_value < best_final_loss:\n"
     ]
    },
    {
     "name": "stdout",
     "output_type": "stream",
     "text": [
      "\t\t1000\t6.395355\t0.0013419901\n",
      "\t\t2000\t3.7195153\t9.966458e-05\n",
      "\t\tFinal loss:\n",
      "\t\t2000\t3.7195153\t9.966458e-05\n",
      "\n",
      "\tReplicate: 1/1\n",
      "\t\tIter\tLoss\t\t\tRel. loss\n"
     ]
    },
    {
     "name": "stderr",
     "output_type": "stream",
     "text": [
      "c:\\Users\\trine\\anaconda3\\envs\\dtu02450\\Lib\\site-packages\\dtuimldmtools\\models\\nn_trainer.py:141: RuntimeWarning: overflow encountered in cast\n",
      "  if loss_value < best_final_loss:\n"
     ]
    },
    {
     "name": "stdout",
     "output_type": "stream",
     "text": [
      "\t\t1000\t4.1775703\t0.0009923939\n",
      "\t\t2000\t3.3182306\t5.7908648e-05\n",
      "\t\tFinal loss:\n",
      "\t\t2000\t3.3182306\t5.7908648e-05\n",
      "\n",
      "\tReplicate: 1/1\n",
      "\t\tIter\tLoss\t\t\tRel. loss\n"
     ]
    },
    {
     "name": "stderr",
     "output_type": "stream",
     "text": [
      "c:\\Users\\trine\\anaconda3\\envs\\dtu02450\\Lib\\site-packages\\dtuimldmtools\\models\\nn_trainer.py:141: RuntimeWarning: overflow encountered in cast\n",
      "  if loss_value < best_final_loss:\n"
     ]
    },
    {
     "name": "stdout",
     "output_type": "stream",
     "text": [
      "\t\t1000\t3.4413033\t0.00016500126\n",
      "\t\t2000\t3.1161747\t7.45917e-05\n",
      "\t\tFinal loss:\n",
      "\t\t2000\t3.1161747\t7.45917e-05\n",
      "\n",
      "\tReplicate: 1/1\n",
      "\t\tIter\tLoss\t\t\tRel. loss\n"
     ]
    },
    {
     "name": "stderr",
     "output_type": "stream",
     "text": [
      "c:\\Users\\trine\\anaconda3\\envs\\dtu02450\\Lib\\site-packages\\dtuimldmtools\\models\\nn_trainer.py:141: RuntimeWarning: overflow encountered in cast\n",
      "  if loss_value < best_final_loss:\n"
     ]
    },
    {
     "name": "stdout",
     "output_type": "stream",
     "text": [
      "\t\t1000\t9.856353\t0.001189183\n",
      "\t\t2000\t4.414261\t0.0004515439\n",
      "\t\tFinal loss:\n",
      "\t\t2000\t4.414261\t0.0004515439\n",
      "\n",
      "\tReplicate: 1/1\n",
      "\t\tIter\tLoss\t\t\tRel. loss\n"
     ]
    },
    {
     "name": "stderr",
     "output_type": "stream",
     "text": [
      "c:\\Users\\trine\\anaconda3\\envs\\dtu02450\\Lib\\site-packages\\dtuimldmtools\\models\\nn_trainer.py:141: RuntimeWarning: overflow encountered in cast\n",
      "  if loss_value < best_final_loss:\n"
     ]
    },
    {
     "name": "stdout",
     "output_type": "stream",
     "text": [
      "\t\t1000\t6.829692\t0.0013765243\n",
      "\t\t2000\t3.5413048\t0.00016983229\n",
      "\t\tFinal loss:\n",
      "\t\t2000\t3.5413048\t0.00016983229\n",
      "\n",
      "\tReplicate: 1/1\n",
      "\t\tIter\tLoss\t\t\tRel. loss\n"
     ]
    },
    {
     "name": "stderr",
     "output_type": "stream",
     "text": [
      "c:\\Users\\trine\\anaconda3\\envs\\dtu02450\\Lib\\site-packages\\dtuimldmtools\\models\\nn_trainer.py:141: RuntimeWarning: overflow encountered in cast\n",
      "  if loss_value < best_final_loss:\n"
     ]
    },
    {
     "name": "stdout",
     "output_type": "stream",
     "text": [
      "\t\t1000\t3.7446482\t0.0006731026\n",
      "\t\t2000\t3.0670438\t9.117558e-05\n",
      "\t\tFinal loss:\n",
      "\t\t2000\t3.0670438\t9.117558e-05\n",
      "\n",
      "\tReplicate: 1/1\n",
      "\t\tIter\tLoss\t\t\tRel. loss\n"
     ]
    },
    {
     "name": "stderr",
     "output_type": "stream",
     "text": [
      "c:\\Users\\trine\\anaconda3\\envs\\dtu02450\\Lib\\site-packages\\dtuimldmtools\\models\\nn_trainer.py:141: RuntimeWarning: overflow encountered in cast\n",
      "  if loss_value < best_final_loss:\n"
     ]
    },
    {
     "name": "stdout",
     "output_type": "stream",
     "text": [
      "\t\t1000\t3.119688\t0.00018621025\n",
      "\t\t2000\t2.774464\t6.7796704e-05\n",
      "\t\tFinal loss:\n",
      "\t\t2000\t2.774464\t6.7796704e-05\n",
      "\n",
      "\tReplicate: 1/1\n",
      "\t\tIter\tLoss\t\t\tRel. loss\n"
     ]
    },
    {
     "name": "stderr",
     "output_type": "stream",
     "text": [
      "c:\\Users\\trine\\anaconda3\\envs\\dtu02450\\Lib\\site-packages\\dtuimldmtools\\models\\nn_trainer.py:141: RuntimeWarning: overflow encountered in cast\n",
      "  if loss_value < best_final_loss:\n"
     ]
    },
    {
     "name": "stdout",
     "output_type": "stream",
     "text": [
      "\t\t1000\t12.811365\t0.0013168143\n",
      "\t\t2000\t5.267444\t0.00057197385\n",
      "\t\tFinal loss:\n",
      "\t\t2000\t5.267444\t0.00057197385\n",
      "Outer fold 9/10\n",
      "\n",
      "\tReplicate: 1/1\n",
      "\t\tIter\tLoss\t\t\tRel. loss\n"
     ]
    },
    {
     "name": "stderr",
     "output_type": "stream",
     "text": [
      "c:\\Users\\trine\\anaconda3\\envs\\dtu02450\\Lib\\site-packages\\dtuimldmtools\\models\\nn_trainer.py:141: RuntimeWarning: overflow encountered in cast\n",
      "  if loss_value < best_final_loss:\n"
     ]
    },
    {
     "name": "stdout",
     "output_type": "stream",
     "text": [
      "\t\t1000\t12.123226\t0.0010238776\n",
      "\t\t2000\t5.3720536\t0.0005837166\n",
      "\t\tFinal loss:\n",
      "\t\t2000\t5.3720536\t0.0005837166\n",
      "\n",
      "\tReplicate: 1/1\n",
      "\t\tIter\tLoss\t\t\tRel. loss\n"
     ]
    },
    {
     "name": "stderr",
     "output_type": "stream",
     "text": [
      "c:\\Users\\trine\\anaconda3\\envs\\dtu02450\\Lib\\site-packages\\dtuimldmtools\\models\\nn_trainer.py:141: RuntimeWarning: overflow encountered in cast\n",
      "  if loss_value < best_final_loss:\n"
     ]
    },
    {
     "name": "stdout",
     "output_type": "stream",
     "text": [
      "\t\t1000\t6.9876885\t0.0013741609\n",
      "\t\t2000\t3.5383146\t0.00021766374\n",
      "\t\tFinal loss:\n",
      "\t\t2000\t3.5383146\t0.00021766374\n",
      "\n",
      "\tReplicate: 1/1\n",
      "\t\tIter\tLoss\t\t\tRel. loss\n"
     ]
    },
    {
     "name": "stderr",
     "output_type": "stream",
     "text": [
      "c:\\Users\\trine\\anaconda3\\envs\\dtu02450\\Lib\\site-packages\\dtuimldmtools\\models\\nn_trainer.py:141: RuntimeWarning: overflow encountered in cast\n",
      "  if loss_value < best_final_loss:\n"
     ]
    },
    {
     "name": "stdout",
     "output_type": "stream",
     "text": [
      "\t\t1000\t4.2378664\t0.0014756335\n",
      "\t\t2000\t2.8843372\t8.942985e-05\n",
      "\t\tFinal loss:\n",
      "\t\t2000\t2.8843372\t8.942985e-05\n",
      "\n",
      "\tReplicate: 1/1\n",
      "\t\tIter\tLoss\t\t\tRel. loss\n"
     ]
    },
    {
     "name": "stderr",
     "output_type": "stream",
     "text": [
      "c:\\Users\\trine\\anaconda3\\envs\\dtu02450\\Lib\\site-packages\\dtuimldmtools\\models\\nn_trainer.py:141: RuntimeWarning: overflow encountered in cast\n",
      "  if loss_value < best_final_loss:\n"
     ]
    },
    {
     "name": "stdout",
     "output_type": "stream",
     "text": [
      "\t\t1000\t3.1141162\t0.00037286413\n",
      "\t\t2000\t2.6361566\t0.00011412445\n",
      "\t\tFinal loss:\n",
      "\t\t2000\t2.6361566\t0.00011412445\n",
      "\n",
      "\tReplicate: 1/1\n",
      "\t\tIter\tLoss\t\t\tRel. loss\n"
     ]
    },
    {
     "name": "stderr",
     "output_type": "stream",
     "text": [
      "c:\\Users\\trine\\anaconda3\\envs\\dtu02450\\Lib\\site-packages\\dtuimldmtools\\models\\nn_trainer.py:141: RuntimeWarning: overflow encountered in cast\n",
      "  if loss_value < best_final_loss:\n"
     ]
    },
    {
     "name": "stdout",
     "output_type": "stream",
     "text": [
      "\t\t1000\t8.288435\t0.00088403566\n",
      "\t\t2000\t4.4569607\t0.00036479975\n",
      "\t\tFinal loss:\n",
      "\t\t2000\t4.4569607\t0.00036479975\n",
      "\n",
      "\tReplicate: 1/1\n",
      "\t\tIter\tLoss\t\t\tRel. loss\n"
     ]
    },
    {
     "name": "stderr",
     "output_type": "stream",
     "text": [
      "c:\\Users\\trine\\anaconda3\\envs\\dtu02450\\Lib\\site-packages\\dtuimldmtools\\models\\nn_trainer.py:141: RuntimeWarning: overflow encountered in cast\n",
      "  if loss_value < best_final_loss:\n"
     ]
    },
    {
     "name": "stdout",
     "output_type": "stream",
     "text": [
      "\t\t1000\t4.645292\t0.00092268595\n",
      "\t\t2000\t3.3637047\t6.711863e-05\n",
      "\t\tFinal loss:\n",
      "\t\t2000\t3.3637047\t6.711863e-05\n",
      "\n",
      "\tReplicate: 1/1\n",
      "\t\tIter\tLoss\t\t\tRel. loss\n"
     ]
    },
    {
     "name": "stderr",
     "output_type": "stream",
     "text": [
      "c:\\Users\\trine\\anaconda3\\envs\\dtu02450\\Lib\\site-packages\\dtuimldmtools\\models\\nn_trainer.py:141: RuntimeWarning: overflow encountered in cast\n",
      "  if loss_value < best_final_loss:\n"
     ]
    },
    {
     "name": "stdout",
     "output_type": "stream",
     "text": [
      "\t\t1000\t3.8036149\t0.00075011776\n",
      "\t\t2000\t3.2147503\t3.0406294e-05\n",
      "\t\tFinal loss:\n",
      "\t\t2000\t3.2147503\t3.0406294e-05\n",
      "\n",
      "\tReplicate: 1/1\n",
      "\t\tIter\tLoss\t\t\tRel. loss\n"
     ]
    },
    {
     "name": "stderr",
     "output_type": "stream",
     "text": [
      "c:\\Users\\trine\\anaconda3\\envs\\dtu02450\\Lib\\site-packages\\dtuimldmtools\\models\\nn_trainer.py:141: RuntimeWarning: overflow encountered in cast\n",
      "  if loss_value < best_final_loss:\n"
     ]
    },
    {
     "name": "stdout",
     "output_type": "stream",
     "text": [
      "\t\t1000\t3.216244\t0.0002530882\n",
      "\t\t2000\t2.877426\t4.1510277e-05\n",
      "\t\tFinal loss:\n",
      "\t\t2000\t2.877426\t4.1510277e-05\n",
      "\n",
      "\tReplicate: 1/1\n",
      "\t\tIter\tLoss\t\t\tRel. loss\n"
     ]
    },
    {
     "name": "stderr",
     "output_type": "stream",
     "text": [
      "c:\\Users\\trine\\anaconda3\\envs\\dtu02450\\Lib\\site-packages\\dtuimldmtools\\models\\nn_trainer.py:141: RuntimeWarning: overflow encountered in cast\n",
      "  if loss_value < best_final_loss:\n"
     ]
    },
    {
     "name": "stdout",
     "output_type": "stream",
     "text": [
      "\t\t1000\t9.78799\t0.0014068035\n",
      "\t\t2000\t4.2589626\t0.00039954062\n",
      "\t\tFinal loss:\n",
      "\t\t2000\t4.2589626\t0.00039954062\n",
      "\n",
      "\tReplicate: 1/1\n",
      "\t\tIter\tLoss\t\t\tRel. loss\n"
     ]
    },
    {
     "name": "stderr",
     "output_type": "stream",
     "text": [
      "c:\\Users\\trine\\anaconda3\\envs\\dtu02450\\Lib\\site-packages\\dtuimldmtools\\models\\nn_trainer.py:141: RuntimeWarning: overflow encountered in cast\n",
      "  if loss_value < best_final_loss:\n"
     ]
    },
    {
     "name": "stdout",
     "output_type": "stream",
     "text": [
      "\t\t1000\t5.884957\t0.0013126857\n",
      "\t\t2000\t3.4546394\t0.00012358885\n",
      "\t\tFinal loss:\n",
      "\t\t2000\t3.4546394\t0.00012358885\n",
      "\n",
      "\tReplicate: 1/1\n",
      "\t\tIter\tLoss\t\t\tRel. loss\n"
     ]
    },
    {
     "name": "stderr",
     "output_type": "stream",
     "text": [
      "c:\\Users\\trine\\anaconda3\\envs\\dtu02450\\Lib\\site-packages\\dtuimldmtools\\models\\nn_trainer.py:141: RuntimeWarning: overflow encountered in cast\n",
      "  if loss_value < best_final_loss:\n"
     ]
    },
    {
     "name": "stdout",
     "output_type": "stream",
     "text": [
      "\t\t1000\t3.952309\t0.0009461887\n",
      "\t\t2000\t3.1891649\t9.1048096e-05\n",
      "\t\tFinal loss:\n",
      "\t\t2000\t3.1891649\t9.1048096e-05\n",
      "\n",
      "\tReplicate: 1/1\n",
      "\t\tIter\tLoss\t\t\tRel. loss\n"
     ]
    },
    {
     "name": "stderr",
     "output_type": "stream",
     "text": [
      "c:\\Users\\trine\\anaconda3\\envs\\dtu02450\\Lib\\site-packages\\dtuimldmtools\\models\\nn_trainer.py:141: RuntimeWarning: overflow encountered in cast\n",
      "  if loss_value < best_final_loss:\n"
     ]
    },
    {
     "name": "stdout",
     "output_type": "stream",
     "text": [
      "\t\t1000\t3.1953986\t0.00039700783\n",
      "\t\t2000\t2.8723385\t6.465675e-05\n",
      "\t\tFinal loss:\n",
      "\t\t2000\t2.8723385\t6.465675e-05\n",
      "\n",
      "\tReplicate: 1/1\n",
      "\t\tIter\tLoss\t\t\tRel. loss\n"
     ]
    },
    {
     "name": "stderr",
     "output_type": "stream",
     "text": [
      "c:\\Users\\trine\\anaconda3\\envs\\dtu02450\\Lib\\site-packages\\dtuimldmtools\\models\\nn_trainer.py:141: RuntimeWarning: overflow encountered in cast\n",
      "  if loss_value < best_final_loss:\n"
     ]
    },
    {
     "name": "stdout",
     "output_type": "stream",
     "text": [
      "\t\t1000\t13.250224\t0.0012385795\n",
      "\t\t2000\t5.2714286\t0.0006225889\n",
      "\t\tFinal loss:\n",
      "\t\t2000\t5.2714286\t0.0006225889\n",
      "\n",
      "\tReplicate: 1/1\n",
      "\t\tIter\tLoss\t\t\tRel. loss\n"
     ]
    },
    {
     "name": "stderr",
     "output_type": "stream",
     "text": [
      "c:\\Users\\trine\\anaconda3\\envs\\dtu02450\\Lib\\site-packages\\dtuimldmtools\\models\\nn_trainer.py:141: RuntimeWarning: overflow encountered in cast\n",
      "  if loss_value < best_final_loss:\n"
     ]
    },
    {
     "name": "stdout",
     "output_type": "stream",
     "text": [
      "\t\t1000\t4.6150203\t0.0013628287\n",
      "\t\t2000\t3.1479323\t5.8845082e-05\n",
      "\t\tFinal loss:\n",
      "\t\t2000\t3.1479323\t5.8845082e-05\n",
      "\n",
      "\tReplicate: 1/1\n",
      "\t\tIter\tLoss\t\t\tRel. loss\n"
     ]
    },
    {
     "name": "stderr",
     "output_type": "stream",
     "text": [
      "c:\\Users\\trine\\anaconda3\\envs\\dtu02450\\Lib\\site-packages\\dtuimldmtools\\models\\nn_trainer.py:141: RuntimeWarning: overflow encountered in cast\n",
      "  if loss_value < best_final_loss:\n"
     ]
    },
    {
     "name": "stdout",
     "output_type": "stream",
     "text": [
      "\t\t1000\t3.4318416\t0.0006458851\n",
      "\t\t2000\t2.9903746\t8.1157195e-05\n",
      "\t\tFinal loss:\n",
      "\t\t2000\t2.9903746\t8.1157195e-05\n",
      "\n",
      "\tReplicate: 1/1\n",
      "\t\tIter\tLoss\t\t\tRel. loss\n"
     ]
    },
    {
     "name": "stderr",
     "output_type": "stream",
     "text": [
      "c:\\Users\\trine\\anaconda3\\envs\\dtu02450\\Lib\\site-packages\\dtuimldmtools\\models\\nn_trainer.py:141: RuntimeWarning: overflow encountered in cast\n",
      "  if loss_value < best_final_loss:\n"
     ]
    },
    {
     "name": "stdout",
     "output_type": "stream",
     "text": [
      "\t\t1000\t3.550418\t0.00087221793\n",
      "\t\t2000\t2.8532808\t0.00010878257\n",
      "\t\tFinal loss:\n",
      "\t\t2000\t2.8532808\t0.00010878257\n",
      "\n",
      "\tReplicate: 1/1\n",
      "\t\tIter\tLoss\t\t\tRel. loss\n"
     ]
    },
    {
     "name": "stderr",
     "output_type": "stream",
     "text": [
      "c:\\Users\\trine\\anaconda3\\envs\\dtu02450\\Lib\\site-packages\\dtuimldmtools\\models\\nn_trainer.py:141: RuntimeWarning: overflow encountered in cast\n",
      "  if loss_value < best_final_loss:\n"
     ]
    },
    {
     "name": "stdout",
     "output_type": "stream",
     "text": [
      "\t\t1000\t10.088101\t0.0010946451\n",
      "\t\t2000\t4.505039\t0.0005257745\n",
      "\t\tFinal loss:\n",
      "\t\t2000\t4.505039\t0.0005257745\n",
      "\n",
      "\tReplicate: 1/1\n",
      "\t\tIter\tLoss\t\t\tRel. loss\n"
     ]
    },
    {
     "name": "stderr",
     "output_type": "stream",
     "text": [
      "c:\\Users\\trine\\anaconda3\\envs\\dtu02450\\Lib\\site-packages\\dtuimldmtools\\models\\nn_trainer.py:141: RuntimeWarning: overflow encountered in cast\n",
      "  if loss_value < best_final_loss:\n"
     ]
    },
    {
     "name": "stdout",
     "output_type": "stream",
     "text": [
      "\t\t1000\t4.89425\t0.0018338313\n",
      "\t\t2000\t2.9258206\t7.251885e-05\n",
      "\t\tFinal loss:\n",
      "\t\t2000\t2.9258206\t7.251885e-05\n",
      "\n",
      "\tReplicate: 1/1\n",
      "\t\tIter\tLoss\t\t\tRel. loss\n"
     ]
    },
    {
     "name": "stderr",
     "output_type": "stream",
     "text": [
      "c:\\Users\\trine\\anaconda3\\envs\\dtu02450\\Lib\\site-packages\\dtuimldmtools\\models\\nn_trainer.py:141: RuntimeWarning: overflow encountered in cast\n",
      "  if loss_value < best_final_loss:\n"
     ]
    },
    {
     "name": "stdout",
     "output_type": "stream",
     "text": [
      "\t\t1000\t3.5088143\t0.0008862133\n",
      "\t\t2000\t2.8600018\t6.310188e-05\n",
      "\t\tFinal loss:\n",
      "\t\t2000\t2.8600018\t6.310188e-05\n",
      "\n",
      "\tReplicate: 1/1\n",
      "\t\tIter\tLoss\t\t\tRel. loss\n"
     ]
    },
    {
     "name": "stderr",
     "output_type": "stream",
     "text": [
      "c:\\Users\\trine\\anaconda3\\envs\\dtu02450\\Lib\\site-packages\\dtuimldmtools\\models\\nn_trainer.py:141: RuntimeWarning: overflow encountered in cast\n",
      "  if loss_value < best_final_loss:\n"
     ]
    },
    {
     "name": "stdout",
     "output_type": "stream",
     "text": [
      "\t\t1000\t2.9255867\t0.00020589364\n",
      "\t\t2000\t2.6205838\t6.231686e-05\n",
      "\t\tFinal loss:\n",
      "\t\t2000\t2.6205838\t6.231686e-05\n",
      "\n",
      "\tReplicate: 1/1\n",
      "\t\tIter\tLoss\t\t\tRel. loss\n"
     ]
    },
    {
     "name": "stderr",
     "output_type": "stream",
     "text": [
      "c:\\Users\\trine\\anaconda3\\envs\\dtu02450\\Lib\\site-packages\\dtuimldmtools\\models\\nn_trainer.py:141: RuntimeWarning: overflow encountered in cast\n",
      "  if loss_value < best_final_loss:\n"
     ]
    },
    {
     "name": "stdout",
     "output_type": "stream",
     "text": [
      "\t\t1000\t6.310712\t0.0013705901\n",
      "\t\t2000\t3.4468405\t0.00019018182\n",
      "\t\tFinal loss:\n",
      "\t\t2000\t3.4468405\t0.00019018182\n",
      "Outer fold 10/10\n",
      "\n",
      "\tReplicate: 1/1\n",
      "\t\tIter\tLoss\t\t\tRel. loss\n"
     ]
    },
    {
     "name": "stderr",
     "output_type": "stream",
     "text": [
      "c:\\Users\\trine\\anaconda3\\envs\\dtu02450\\Lib\\site-packages\\dtuimldmtools\\models\\nn_trainer.py:141: RuntimeWarning: overflow encountered in cast\n",
      "  if loss_value < best_final_loss:\n"
     ]
    },
    {
     "name": "stdout",
     "output_type": "stream",
     "text": [
      "\t\t1000\t9.529319\t0.00096771674\n",
      "\t\t2000\t4.764792\t0.00041773915\n",
      "\t\tFinal loss:\n",
      "\t\t2000\t4.764792\t0.00041773915\n",
      "\n",
      "\tReplicate: 1/1\n",
      "\t\tIter\tLoss\t\t\tRel. loss\n"
     ]
    },
    {
     "name": "stderr",
     "output_type": "stream",
     "text": [
      "c:\\Users\\trine\\anaconda3\\envs\\dtu02450\\Lib\\site-packages\\dtuimldmtools\\models\\nn_trainer.py:141: RuntimeWarning: overflow encountered in cast\n",
      "  if loss_value < best_final_loss:\n"
     ]
    },
    {
     "name": "stdout",
     "output_type": "stream",
     "text": [
      "\t\t1000\t4.9161344\t0.0011717718\n",
      "\t\t2000\t3.4895458\t9.4141156e-05\n",
      "\t\tFinal loss:\n",
      "\t\t2000\t3.4895458\t9.4141156e-05\n",
      "\n",
      "\tReplicate: 1/1\n",
      "\t\tIter\tLoss\t\t\tRel. loss\n"
     ]
    },
    {
     "name": "stderr",
     "output_type": "stream",
     "text": [
      "c:\\Users\\trine\\anaconda3\\envs\\dtu02450\\Lib\\site-packages\\dtuimldmtools\\models\\nn_trainer.py:141: RuntimeWarning: overflow encountered in cast\n",
      "  if loss_value < best_final_loss:\n"
     ]
    },
    {
     "name": "stdout",
     "output_type": "stream",
     "text": [
      "\t\t1000\t3.8191998\t0.0006456952\n",
      "\t\t2000\t3.2434766\t9.4888666e-05\n",
      "\t\tFinal loss:\n",
      "\t\t2000\t3.2434766\t9.4888666e-05\n",
      "\n",
      "\tReplicate: 1/1\n",
      "\t\tIter\tLoss\t\t\tRel. loss\n"
     ]
    },
    {
     "name": "stderr",
     "output_type": "stream",
     "text": [
      "c:\\Users\\trine\\anaconda3\\envs\\dtu02450\\Lib\\site-packages\\dtuimldmtools\\models\\nn_trainer.py:141: RuntimeWarning: overflow encountered in cast\n",
      "  if loss_value < best_final_loss:\n"
     ]
    },
    {
     "name": "stdout",
     "output_type": "stream",
     "text": [
      "\t\t1000\t3.913376\t0.001065521\n",
      "\t\t2000\t2.968923\t0.00010430497\n",
      "\t\tFinal loss:\n",
      "\t\t2000\t2.968923\t0.00010430497\n",
      "\n",
      "\tReplicate: 1/1\n",
      "\t\tIter\tLoss\t\t\tRel. loss\n"
     ]
    },
    {
     "name": "stderr",
     "output_type": "stream",
     "text": [
      "c:\\Users\\trine\\anaconda3\\envs\\dtu02450\\Lib\\site-packages\\dtuimldmtools\\models\\nn_trainer.py:141: RuntimeWarning: overflow encountered in cast\n",
      "  if loss_value < best_final_loss:\n"
     ]
    },
    {
     "name": "stdout",
     "output_type": "stream",
     "text": [
      "\t\t1000\t11.484712\t0.0013285938\n",
      "\t\t2000\t4.756101\t0.000549012\n",
      "\t\tFinal loss:\n",
      "\t\t2000\t4.756101\t0.000549012\n",
      "\n",
      "\tReplicate: 1/1\n",
      "\t\tIter\tLoss\t\t\tRel. loss\n"
     ]
    },
    {
     "name": "stderr",
     "output_type": "stream",
     "text": [
      "c:\\Users\\trine\\anaconda3\\envs\\dtu02450\\Lib\\site-packages\\dtuimldmtools\\models\\nn_trainer.py:141: RuntimeWarning: overflow encountered in cast\n",
      "  if loss_value < best_final_loss:\n"
     ]
    },
    {
     "name": "stdout",
     "output_type": "stream",
     "text": [
      "\t\t1000\t8.921834\t0.0019321837\n",
      "\t\t2000\t3.4895856\t0.00023565843\n",
      "\t\tFinal loss:\n",
      "\t\t2000\t3.4895856\t0.00023565843\n",
      "\n",
      "\tReplicate: 1/1\n",
      "\t\tIter\tLoss\t\t\tRel. loss\n"
     ]
    },
    {
     "name": "stderr",
     "output_type": "stream",
     "text": [
      "c:\\Users\\trine\\anaconda3\\envs\\dtu02450\\Lib\\site-packages\\dtuimldmtools\\models\\nn_trainer.py:141: RuntimeWarning: overflow encountered in cast\n",
      "  if loss_value < best_final_loss:\n"
     ]
    },
    {
     "name": "stdout",
     "output_type": "stream",
     "text": [
      "\t\t1000\t4.549413\t0.0014896842\n",
      "\t\t2000\t3.1109993\t7.348977e-05\n",
      "\t\tFinal loss:\n",
      "\t\t2000\t3.1109993\t7.348977e-05\n",
      "\n",
      "\tReplicate: 1/1\n",
      "\t\tIter\tLoss\t\t\tRel. loss\n"
     ]
    },
    {
     "name": "stderr",
     "output_type": "stream",
     "text": [
      "c:\\Users\\trine\\anaconda3\\envs\\dtu02450\\Lib\\site-packages\\dtuimldmtools\\models\\nn_trainer.py:141: RuntimeWarning: overflow encountered in cast\n",
      "  if loss_value < best_final_loss:\n"
     ]
    },
    {
     "name": "stdout",
     "output_type": "stream",
     "text": [
      "\t\t1000\t3.0498064\t0.00029322656\n",
      "\t\t2000\t2.6943786\t6.8484565e-05\n",
      "\t\tFinal loss:\n",
      "\t\t2000\t2.6943786\t6.8484565e-05\n",
      "\n",
      "\tReplicate: 1/1\n",
      "\t\tIter\tLoss\t\t\tRel. loss\n"
     ]
    },
    {
     "name": "stderr",
     "output_type": "stream",
     "text": [
      "c:\\Users\\trine\\anaconda3\\envs\\dtu02450\\Lib\\site-packages\\dtuimldmtools\\models\\nn_trainer.py:141: RuntimeWarning: overflow encountered in cast\n",
      "  if loss_value < best_final_loss:\n"
     ]
    },
    {
     "name": "stdout",
     "output_type": "stream",
     "text": [
      "\t\t1000\t7.3585052\t0.0009490137\n",
      "\t\t2000\t4.138777\t0.00025916004\n",
      "\t\tFinal loss:\n",
      "\t\t2000\t4.138777\t0.00025916004\n",
      "\n",
      "\tReplicate: 1/1\n",
      "\t\tIter\tLoss\t\t\tRel. loss\n"
     ]
    },
    {
     "name": "stderr",
     "output_type": "stream",
     "text": [
      "c:\\Users\\trine\\anaconda3\\envs\\dtu02450\\Lib\\site-packages\\dtuimldmtools\\models\\nn_trainer.py:141: RuntimeWarning: overflow encountered in cast\n",
      "  if loss_value < best_final_loss:\n"
     ]
    },
    {
     "name": "stdout",
     "output_type": "stream",
     "text": [
      "\t\t1000\t6.486575\t0.001089867\n",
      "\t\t2000\t3.8533213\t0.00017426735\n",
      "\t\tFinal loss:\n",
      "\t\t2000\t3.8533213\t0.00017426735\n",
      "\n",
      "\tReplicate: 1/1\n",
      "\t\tIter\tLoss\t\t\tRel. loss\n"
     ]
    },
    {
     "name": "stderr",
     "output_type": "stream",
     "text": [
      "c:\\Users\\trine\\anaconda3\\envs\\dtu02450\\Lib\\site-packages\\dtuimldmtools\\models\\nn_trainer.py:141: RuntimeWarning: overflow encountered in cast\n",
      "  if loss_value < best_final_loss:\n"
     ]
    },
    {
     "name": "stdout",
     "output_type": "stream",
     "text": [
      "\t\t1000\t5.3676085\t0.0021328367\n",
      "\t\t2000\t3.4584558\t7.575698e-05\n",
      "\t\tFinal loss:\n",
      "\t\t2000\t3.4584558\t7.575698e-05\n",
      "\n",
      "\tReplicate: 1/1\n",
      "\t\tIter\tLoss\t\t\tRel. loss\n"
     ]
    },
    {
     "name": "stderr",
     "output_type": "stream",
     "text": [
      "c:\\Users\\trine\\anaconda3\\envs\\dtu02450\\Lib\\site-packages\\dtuimldmtools\\models\\nn_trainer.py:141: RuntimeWarning: overflow encountered in cast\n",
      "  if loss_value < best_final_loss:\n"
     ]
    },
    {
     "name": "stdout",
     "output_type": "stream",
     "text": [
      "\t\t1000\t3.8387628\t0.0008346578\n",
      "\t\t2000\t3.2795458\t0.00012742452\n",
      "\t\tFinal loss:\n",
      "\t\t2000\t3.2795458\t0.00012742452\n",
      "\n",
      "\tReplicate: 1/1\n",
      "\t\tIter\tLoss\t\t\tRel. loss\n"
     ]
    },
    {
     "name": "stderr",
     "output_type": "stream",
     "text": [
      "c:\\Users\\trine\\anaconda3\\envs\\dtu02450\\Lib\\site-packages\\dtuimldmtools\\models\\nn_trainer.py:141: RuntimeWarning: overflow encountered in cast\n",
      "  if loss_value < best_final_loss:\n"
     ]
    },
    {
     "name": "stdout",
     "output_type": "stream",
     "text": [
      "\t\t1000\t6.635843\t0.0008126976\n",
      "\t\t2000\t4.2435555\t0.00017189252\n",
      "\t\tFinal loss:\n",
      "\t\t2000\t4.2435555\t0.00017189252\n",
      "\n",
      "\tReplicate: 1/1\n",
      "\t\tIter\tLoss\t\t\tRel. loss\n"
     ]
    },
    {
     "name": "stderr",
     "output_type": "stream",
     "text": [
      "c:\\Users\\trine\\anaconda3\\envs\\dtu02450\\Lib\\site-packages\\dtuimldmtools\\models\\nn_trainer.py:141: RuntimeWarning: overflow encountered in cast\n",
      "  if loss_value < best_final_loss:\n"
     ]
    },
    {
     "name": "stdout",
     "output_type": "stream",
     "text": [
      "\t\t1000\t5.188184\t0.0009405313\n",
      "\t\t2000\t3.7832303\t6.42131e-05\n",
      "\t\tFinal loss:\n",
      "\t\t2000\t3.7832303\t6.42131e-05\n",
      "\n",
      "\tReplicate: 1/1\n",
      "\t\tIter\tLoss\t\t\tRel. loss\n"
     ]
    },
    {
     "name": "stderr",
     "output_type": "stream",
     "text": [
      "c:\\Users\\trine\\anaconda3\\envs\\dtu02450\\Lib\\site-packages\\dtuimldmtools\\models\\nn_trainer.py:141: RuntimeWarning: overflow encountered in cast\n",
      "  if loss_value < best_final_loss:\n"
     ]
    },
    {
     "name": "stdout",
     "output_type": "stream",
     "text": [
      "\t\t1000\t4.9609933\t0.0015729801\n",
      "\t\t2000\t3.362724\t8.904301e-05\n",
      "\t\tFinal loss:\n",
      "\t\t2000\t3.362724\t8.904301e-05\n",
      "\n",
      "\tReplicate: 1/1\n",
      "\t\tIter\tLoss\t\t\tRel. loss\n"
     ]
    },
    {
     "name": "stderr",
     "output_type": "stream",
     "text": [
      "c:\\Users\\trine\\anaconda3\\envs\\dtu02450\\Lib\\site-packages\\dtuimldmtools\\models\\nn_trainer.py:141: RuntimeWarning: overflow encountered in cast\n",
      "  if loss_value < best_final_loss:\n"
     ]
    },
    {
     "name": "stdout",
     "output_type": "stream",
     "text": [
      "\t\t1000\t4.063631\t0.00088913523\n",
      "\t\t2000\t3.1608217\t7.753531e-05\n",
      "\t\tFinal loss:\n",
      "\t\t2000\t3.1608217\t7.753531e-05\n",
      "\n",
      "\tReplicate: 1/1\n",
      "\t\tIter\tLoss\t\t\tRel. loss\n"
     ]
    },
    {
     "name": "stderr",
     "output_type": "stream",
     "text": [
      "c:\\Users\\trine\\anaconda3\\envs\\dtu02450\\Lib\\site-packages\\dtuimldmtools\\models\\nn_trainer.py:141: RuntimeWarning: overflow encountered in cast\n",
      "  if loss_value < best_final_loss:\n"
     ]
    },
    {
     "name": "stdout",
     "output_type": "stream",
     "text": [
      "\t\t1000\t8.7889185\t0.001364261\n",
      "\t\t2000\t3.9175847\t0.00034914535\n",
      "\t\tFinal loss:\n",
      "\t\t2000\t3.9175847\t0.00034914535\n",
      "\n",
      "\tReplicate: 1/1\n",
      "\t\tIter\tLoss\t\t\tRel. loss\n"
     ]
    },
    {
     "name": "stderr",
     "output_type": "stream",
     "text": [
      "c:\\Users\\trine\\anaconda3\\envs\\dtu02450\\Lib\\site-packages\\dtuimldmtools\\models\\nn_trainer.py:141: RuntimeWarning: overflow encountered in cast\n",
      "  if loss_value < best_final_loss:\n"
     ]
    },
    {
     "name": "stdout",
     "output_type": "stream",
     "text": [
      "\t\t1000\t5.018126\t0.0015097226\n",
      "\t\t2000\t3.240951\t9.2167684e-05\n",
      "\t\tFinal loss:\n",
      "\t\t2000\t3.240951\t9.2167684e-05\n",
      "\n",
      "\tReplicate: 1/1\n",
      "\t\tIter\tLoss\t\t\tRel. loss\n"
     ]
    },
    {
     "name": "stderr",
     "output_type": "stream",
     "text": [
      "c:\\Users\\trine\\anaconda3\\envs\\dtu02450\\Lib\\site-packages\\dtuimldmtools\\models\\nn_trainer.py:141: RuntimeWarning: overflow encountered in cast\n",
      "  if loss_value < best_final_loss:\n"
     ]
    },
    {
     "name": "stdout",
     "output_type": "stream",
     "text": [
      "\t\t1000\t3.664317\t0.001036645\n",
      "\t\t2000\t3.022195\t3.8575334e-05\n",
      "\t\tFinal loss:\n",
      "\t\t2000\t3.022195\t3.8575334e-05\n",
      "\n",
      "\tReplicate: 1/1\n",
      "\t\tIter\tLoss\t\t\tRel. loss\n"
     ]
    },
    {
     "name": "stderr",
     "output_type": "stream",
     "text": [
      "c:\\Users\\trine\\anaconda3\\envs\\dtu02450\\Lib\\site-packages\\dtuimldmtools\\models\\nn_trainer.py:141: RuntimeWarning: overflow encountered in cast\n",
      "  if loss_value < best_final_loss:\n"
     ]
    },
    {
     "name": "stdout",
     "output_type": "stream",
     "text": [
      "\t\t1000\t3.1219113\t0.00048219305\n",
      "\t\t2000\t2.6594005\t8.668524e-05\n",
      "\t\tFinal loss:\n",
      "\t\t2000\t2.6594005\t8.668524e-05\n",
      "\n",
      "\tReplicate: 1/1\n",
      "\t\tIter\tLoss\t\t\tRel. loss\n"
     ]
    },
    {
     "name": "stderr",
     "output_type": "stream",
     "text": [
      "c:\\Users\\trine\\anaconda3\\envs\\dtu02450\\Lib\\site-packages\\dtuimldmtools\\models\\nn_trainer.py:141: RuntimeWarning: overflow encountered in cast\n",
      "  if loss_value < best_final_loss:\n"
     ]
    },
    {
     "name": "stdout",
     "output_type": "stream",
     "text": [
      "\t\t1000\t8.110571\t0.0010508022\n",
      "\t\t2000\t4.2131815\t0.00031453435\n",
      "\t\tFinal loss:\n",
      "\t\t2000\t4.2131815\t0.00031453435\n"
     ]
    },
    {
     "name": "stderr",
     "output_type": "stream",
     "text": [
      "c:\\Users\\trine\\anaconda3\\envs\\dtu02450\\Lib\\site-packages\\dtuimldmtools\\models\\nn_trainer.py:141: RuntimeWarning: overflow encountered in cast\n",
      "  if loss_value < best_final_loss:\n"
     ]
    }
   ],
   "source": [
    "from sklearn.linear_model import Ridge\n",
    "from sklearn.model_selection import KFold\n",
    "from sklearn.preprocessing import StandardScaler\n",
    "import numpy as np\n",
    "import torch\n",
    "from dtuimldmtools import train_neural_net\n",
    "import warnings\n",
    "from sklearn.exceptions import ConvergenceWarning\n",
    "\n",
    "# Attribute selection\n",
    "attribute_names = ['sbp','tobacco','chd','adiposity','typea','obesity','alcohol','age','famhist']\n",
    "class_name = ['ldl']\n",
    "\n",
    "# Prepare data\n",
    "X = df[attribute_names].values.astype(np.float32)\n",
    "y = df[class_name].values.astype(np.float32).ravel()\n",
    "N, M = X.shape\n",
    "\n",
    "# Standardize\n",
    "X = zscore(X, ddof=1)\n",
    "\n",
    "# Cross-validation setup\n",
    "K1 = 10\n",
    "K2 = 5\n",
    "outer_cv = KFold(n_splits=K1, shuffle=True, random_state=42)\n",
    "\n",
    "# Hyperparameter ranges\n",
    "lambda_values = [0.01, 0.1, 1, 10, 100]\n",
    "h_values = [1, 2, 3, 5]\n",
    "max_iter = 2000\n",
    "loss_fn = torch.nn.MSELoss()\n",
    "\n",
    "# Storage\n",
    "error_train_baseline = np.empty(K1)\n",
    "error_test_baseline = np.empty(K1)\n",
    "error_test_rlr = np.empty(K1)\n",
    "error_test_ann = np.empty(K1)\n",
    "best_lamdas = []\n",
    "best_hs = []\n",
    "results_table = []\n",
    "\n",
    "# Outer CV loop\n",
    "for k, (train_index, test_index) in enumerate(outer_cv.split(X)):\n",
    "    print(f\"Outer fold {k+1}/{K1}\")\n",
    "\n",
    "    X_train_outer, y_train_outer = X[train_index], y[train_index]\n",
    "    X_test_outer, y_test_outer = X[test_index], y[test_index]\n",
    "\n",
    "    # --- Baseline model ---\n",
    "    y_pred_baseline = np.full_like(y_test_outer, np.mean(y_train_outer))\n",
    "    error_train_baseline[k] = np.square(y_train_outer - np.mean(y_train_outer)).sum() / len(y_train_outer)\n",
    "    error_test_baseline[k] = np.square(y_test_outer - y_pred_baseline).sum() / len(y_test_outer)\n",
    "\n",
    "    # --- Inner CV for hyperparameter tuning ---\n",
    "    inner_cv = KFold(n_splits=K2, shuffle=True, random_state=42)\n",
    "    best_lambda = None\n",
    "    best_h = None\n",
    "    min_error_rlr = np.inf\n",
    "    min_error_ann = np.inf\n",
    "\n",
    "    for train_inner_index, val_index in inner_cv.split(X_train_outer):\n",
    "        X_train_inner = X_train_outer[train_inner_index]\n",
    "        y_train_inner = y_train_outer[train_inner_index]\n",
    "        X_val = X_train_outer[val_index]\n",
    "        y_val = y_train_outer[val_index]\n",
    "\n",
    "        # --- RLR tuning ---\n",
    "        for lambda_value in lambda_values:\n",
    "            model_rlr = Ridge(alpha=lambda_value)\n",
    "            model_rlr.fit(X_train_inner, y_train_inner)\n",
    "            y_pred_rlr = model_rlr.predict(X_val)\n",
    "            error_rlr = np.square(y_val - y_pred_rlr).sum() / len(y_val)\n",
    "\n",
    "            if error_rlr < min_error_rlr:\n",
    "                min_error_rlr = error_rlr\n",
    "                best_lambda = lambda_value\n",
    "\n",
    "        # --- ANN tuning ---\n",
    "        X_train_inner_tensor = torch.tensor(X_train_inner, dtype=torch.float32)\n",
    "        y_train_inner_tensor = torch.tensor(y_train_inner, dtype=torch.float32).view(-1, 1)\n",
    "        X_val_tensor = torch.tensor(X_val, dtype=torch.float32)\n",
    "        y_val_tensor = torch.tensor(y_val, dtype=torch.float32).view(-1, 1)\n",
    "\n",
    "        for h in h_values:\n",
    "            model = lambda: torch.nn.Sequential(\n",
    "                torch.nn.Linear(M, h),\n",
    "                torch.nn.Tanh(),\n",
    "                torch.nn.Linear(h, 1),\n",
    "            )\n",
    "\n",
    "            with warnings.catch_warnings():\n",
    "                warnings.simplefilter(\"ignore\", ConvergenceWarning)\n",
    "                net, final_loss, learning_curve = train_neural_net(\n",
    "                    model, loss_fn,\n",
    "                    X=X_train_inner_tensor,\n",
    "                    y=y_train_inner_tensor,\n",
    "                    n_replicates=1,\n",
    "                    max_iter=max_iter\n",
    "                )\n",
    "\n",
    "            y_est_val = net(X_val_tensor).detach().numpy()\n",
    "            error_ann = np.square(y_val - y_est_val).sum() / len(y_val)\n",
    "\n",
    "            if error_ann < min_error_ann:\n",
    "                min_error_ann = error_ann\n",
    "                best_h = h\n",
    "                best_ann_model = net\n",
    "\n",
    "    # Save best hyperparameters\n",
    "    best_lamdas.append(best_lambda)\n",
    "    best_hs.append(best_h)\n",
    "\n",
    "    # --- Train best models on outer training set ---\n",
    "    # RLR\n",
    "    final_rlr = Ridge(alpha=best_lambda)\n",
    "    final_rlr.fit(X_train_outer, y_train_outer)\n",
    "    y_test_pred_rlr = final_rlr.predict(X_test_outer)\n",
    "    error_test_rlr[k] = np.square(y_test_outer - y_test_pred_rlr).sum() / len(y_test_outer)\n",
    "\n",
    "    # ANN\n",
    "    X_train_outer_tensor = torch.tensor(X_train_outer, dtype=torch.float32)\n",
    "    y_train_outer_tensor = torch.tensor(y_train_outer, dtype=torch.float32).view(-1, 1)\n",
    "    X_test_tensor = torch.tensor(X_test_outer, dtype=torch.float32)\n",
    "\n",
    "    best_ann = lambda: torch.nn.Sequential(\n",
    "        torch.nn.Linear(M, best_h),\n",
    "        torch.nn.Tanh(),\n",
    "        torch.nn.Linear(best_h, 1),\n",
    "    )\n",
    "\n",
    "    with warnings.catch_warnings():\n",
    "        warnings.simplefilter(\"ignore\", ConvergenceWarning)\n",
    "        trained_ann, _, _ = train_neural_net(best_ann, loss_fn,\n",
    "                                             X=X_train_outer_tensor,\n",
    "                                             y=y_train_outer_tensor,\n",
    "                                             n_replicates=1,\n",
    "                                             max_iter=max_iter)\n",
    "\n",
    "    y_test_pred_ann = trained_ann(X_test_tensor).detach().numpy()\n",
    "    error_test_ann[k] = np.square(y_test_outer - y_test_pred_ann).sum() / len(y_test_outer)\n",
    "\n",
    "    # --- Store results ---\n",
    "    results_table.append({\n",
    "        \"Fold\": k+1,\n",
    "        \"lambda*\": best_lambda,\n",
    "        \"h*\": best_h,\n",
    "        \"Baseline Test Error\": error_test_baseline[k],\n",
    "        \"RLR Test Error\": error_test_rlr[k],\n",
    "        \"ANN Test Error\": error_test_ann[k]\n",
    "    })\n"
   ]
  },
  {
   "cell_type": "code",
   "execution_count": 9,
   "metadata": {},
   "outputs": [
    {
     "name": "stdout",
     "output_type": "stream",
     "text": [
      "--- Results ---\n",
      "Fold 1:\n",
      "  lambda*: 100\n",
      "  h*: 1\n",
      "  Baseline Test Error: 2.8038408756256104\n",
      "  RLR Test Error: 2.1936287879943848\n",
      "  ANN Test Error: 170.8423614501953\n",
      "Fold 2:\n",
      "  lambda*: 100\n",
      "  h*: 2\n",
      "  Baseline Test Error: 4.23134183883667\n",
      "  RLR Test Error: 3.319079875946045\n",
      "  ANN Test Error: 229.40969848632812\n",
      "Fold 3:\n",
      "  lambda*: 100\n",
      "  h*: 1\n",
      "  Baseline Test Error: 5.703014373779297\n",
      "  RLR Test Error: 4.96721076965332\n",
      "  ANN Test Error: 295.3771057128906\n",
      "Fold 4:\n",
      "  lambda*: 100\n",
      "  h*: 1\n",
      "  Baseline Test Error: 2.57759428024292\n",
      "  RLR Test Error: 1.8649108409881592\n",
      "  ANN Test Error: 140.0723876953125\n",
      "Fold 5:\n",
      "  lambda*: 100\n",
      "  h*: 2\n",
      "  Baseline Test Error: 5.7758708000183105\n",
      "  RLR Test Error: 4.7767767906188965\n",
      "  ANN Test Error: 305.45343017578125\n",
      "Fold 6:\n",
      "  lambda*: 10\n",
      "  h*: 1\n",
      "  Baseline Test Error: 5.032508373260498\n",
      "  RLR Test Error: 3.8410308361053467\n",
      "  ANN Test Error: 264.9061279296875\n",
      "Fold 7:\n",
      "  lambda*: 100\n",
      "  h*: 1\n",
      "  Baseline Test Error: 3.5277955532073975\n",
      "  RLR Test Error: 3.0595483779907227\n",
      "  ANN Test Error: 318.197509765625\n",
      "Fold 8:\n",
      "  lambda*: 100\n",
      "  h*: 1\n",
      "  Baseline Test Error: 4.751017093658447\n",
      "  RLR Test Error: 3.140651226043701\n",
      "  ANN Test Error: 301.663330078125\n",
      "Fold 9:\n",
      "  lambda*: 100\n",
      "  h*: 2\n",
      "  Baseline Test Error: 4.911100387573242\n",
      "  RLR Test Error: 4.527957439422607\n",
      "  ANN Test Error: 243.8126678466797\n",
      "Fold 10:\n",
      "  lambda*: 100\n",
      "  h*: 1\n",
      "  Baseline Test Error: 3.5997931957244873\n",
      "  RLR Test Error: 2.500924587249756\n",
      "  ANN Test Error: 165.6746368408203\n"
     ]
    }
   ],
   "source": [
    "print(\"--- Results ---\")\n",
    "for result in results_table:\n",
    "    print(f\"Fold {result['Fold']}:\")\n",
    "    print(f\"  lambda*: {result['lambda*']}\")\n",
    "    print(f\"  h*: {result['h*']}\")\n",
    "    print(f\"  Baseline Test Error: {result['Baseline Test Error']}\")\n",
    "    print(f\"  RLR Test Error: {result['RLR Test Error']}\")\n",
    "    print(f\"  ANN Test Error: {result['ANN Test Error']}\")"
   ]
  }
 ],
 "metadata": {
  "kernelspec": {
   "display_name": "dtu02450",
   "language": "python",
   "name": "python3"
  },
  "language_info": {
   "codemirror_mode": {
    "name": "ipython",
    "version": 3
   },
   "file_extension": ".py",
   "mimetype": "text/x-python",
   "name": "python",
   "nbconvert_exporter": "python",
   "pygments_lexer": "ipython3",
   "version": "3.11.11"
  }
 },
 "nbformat": 4,
 "nbformat_minor": 2
}
